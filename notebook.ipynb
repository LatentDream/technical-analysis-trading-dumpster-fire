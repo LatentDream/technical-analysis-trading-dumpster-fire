{
  "nbformat": 4,
  "nbformat_minor": 0,
  "metadata": {
    "colab": {
      "provenance": [],
      "authorship_tag": "ABX9TyM1BR1wJuEXYbxqCFimXGR1",
      "include_colab_link": true
    },
    "kernelspec": {
      "name": "python3",
      "display_name": "Python 3"
    },
    "language_info": {
      "name": "python"
    },
    "accelerator": "GPU",
    "gpuClass": "standard"
  },
  "cells": [
    {
      "cell_type": "markdown",
      "metadata": {
        "id": "view-in-github",
        "colab_type": "text"
      },
      "source": [
        "<a href=\"https://colab.research.google.com/github/guthi1/technical-analysis-trading-dumpster-fire/blob/main/notebook.ipynb\" target=\"_parent\"><img src=\"https://colab.research.google.com/assets/colab-badge.svg\" alt=\"Open In Colab\"/></a>"
      ]
    },
    {
      "cell_type": "markdown",
      "source": [
        "# PolyFinances article"
      ],
      "metadata": {
        "id": "TGZQ-Jkye0BQ"
      }
    },
    {
      "cell_type": "markdown",
      "source": [
        "## Setup"
      ],
      "metadata": {
        "id": "kpV_hjmY3zAf"
      }
    },
    {
      "cell_type": "code",
      "source": [
        "!nvidia-smi"
      ],
      "metadata": {
        "colab": {
          "base_uri": "https://localhost:8080/"
        },
        "id": "wVTwFhzsRvVk",
        "outputId": "5c6d58aa-d997-4195-89aa-08e60ff6193d"
      },
      "execution_count": 1,
      "outputs": [
        {
          "output_type": "stream",
          "name": "stdout",
          "text": [
            "Sun Feb 19 18:07:15 2023       \n",
            "+-----------------------------------------------------------------------------+\n",
            "| NVIDIA-SMI 510.47.03    Driver Version: 510.47.03    CUDA Version: 11.6     |\n",
            "|-------------------------------+----------------------+----------------------+\n",
            "| GPU  Name        Persistence-M| Bus-Id        Disp.A | Volatile Uncorr. ECC |\n",
            "| Fan  Temp  Perf  Pwr:Usage/Cap|         Memory-Usage | GPU-Util  Compute M. |\n",
            "|                               |                      |               MIG M. |\n",
            "|===============================+======================+======================|\n",
            "|   0  Tesla T4            Off  | 00000000:00:04.0 Off |                    0 |\n",
            "| N/A   59C    P0    28W /  70W |      0MiB / 15360MiB |      0%      Default |\n",
            "|                               |                      |                  N/A |\n",
            "+-------------------------------+----------------------+----------------------+\n",
            "                                                                               \n",
            "+-----------------------------------------------------------------------------+\n",
            "| Processes:                                                                  |\n",
            "|  GPU   GI   CI        PID   Type   Process name                  GPU Memory |\n",
            "|        ID   ID                                                   Usage      |\n",
            "|=============================================================================|\n",
            "|  No running processes found                                                 |\n",
            "+-----------------------------------------------------------------------------+\n"
          ]
        }
      ]
    },
    {
      "cell_type": "code",
      "execution_count": 2,
      "metadata": {
        "id": "iF5x7nDEdY9x",
        "colab": {
          "base_uri": "https://localhost:8080/"
        },
        "outputId": "f92f5417-6115-4d3a-bb4a-40962658d228"
      },
      "outputs": [
        {
          "output_type": "stream",
          "name": "stdout",
          "text": [
            "Looking in indexes: https://pypi.org/simple, https://us-python.pkg.dev/colab-wheels/public/simple/\n",
            "Collecting yfinance\n",
            "  Downloading yfinance-0.2.12-py2.py3-none-any.whl (59 kB)\n",
            "\u001b[2K     \u001b[90m━━━━━━━━━━━━━━━━━━━━━━━━━━━━━━━━━━━━━━━━\u001b[0m \u001b[32m59.2/59.2 KB\u001b[0m \u001b[31m1.7 MB/s\u001b[0m eta \u001b[36m0:00:00\u001b[0m\n",
            "\u001b[?25hRequirement already satisfied: appdirs>=1.4.4 in /usr/local/lib/python3.8/dist-packages (from yfinance) (1.4.4)\n",
            "Collecting cryptography>=3.3.2\n",
            "  Downloading cryptography-39.0.1-cp36-abi3-manylinux_2_28_x86_64.whl (4.2 MB)\n",
            "\u001b[2K     \u001b[90m━━━━━━━━━━━━━━━━━━━━━━━━━━━━━━━━━━━━━━━━\u001b[0m \u001b[32m4.2/4.2 MB\u001b[0m \u001b[31m27.2 MB/s\u001b[0m eta \u001b[36m0:00:00\u001b[0m\n",
            "\u001b[?25hCollecting requests>=2.26\n",
            "  Downloading requests-2.28.2-py3-none-any.whl (62 kB)\n",
            "\u001b[2K     \u001b[90m━━━━━━━━━━━━━━━━━━━━━━━━━━━━━━━━━━━━━━━━\u001b[0m \u001b[32m62.8/62.8 KB\u001b[0m \u001b[31m3.0 MB/s\u001b[0m eta \u001b[36m0:00:00\u001b[0m\n",
            "\u001b[?25hCollecting html5lib>=1.1\n",
            "  Downloading html5lib-1.1-py2.py3-none-any.whl (112 kB)\n",
            "\u001b[2K     \u001b[90m━━━━━━━━━━━━━━━━━━━━━━━━━━━━━━━━━━━━━━━\u001b[0m \u001b[32m112.2/112.2 KB\u001b[0m \u001b[31m6.2 MB/s\u001b[0m eta \u001b[36m0:00:00\u001b[0m\n",
            "\u001b[?25hRequirement already satisfied: pytz>=2022.5 in /usr/local/lib/python3.8/dist-packages (from yfinance) (2022.7.1)\n",
            "Requirement already satisfied: lxml>=4.9.1 in /usr/local/lib/python3.8/dist-packages (from yfinance) (4.9.2)\n",
            "Collecting frozendict>=2.3.4\n",
            "  Downloading frozendict-2.3.5-cp38-cp38-manylinux_2_17_x86_64.manylinux2014_x86_64.whl (111 kB)\n",
            "\u001b[2K     \u001b[90m━━━━━━━━━━━━━━━━━━━━━━━━━━━━━━━━━━━━━━━\u001b[0m \u001b[32m111.2/111.2 KB\u001b[0m \u001b[31m5.4 MB/s\u001b[0m eta \u001b[36m0:00:00\u001b[0m\n",
            "\u001b[?25hCollecting beautifulsoup4>=4.11.1\n",
            "  Downloading beautifulsoup4-4.11.2-py3-none-any.whl (129 kB)\n",
            "\u001b[2K     \u001b[90m━━━━━━━━━━━━━━━━━━━━━━━━━━━━━━━━━━━━━━━\u001b[0m \u001b[32m129.4/129.4 KB\u001b[0m \u001b[31m6.9 MB/s\u001b[0m eta \u001b[36m0:00:00\u001b[0m\n",
            "\u001b[?25hRequirement already satisfied: multitasking>=0.0.7 in /usr/local/lib/python3.8/dist-packages (from yfinance) (0.0.11)\n",
            "Requirement already satisfied: numpy>=1.16.5 in /usr/local/lib/python3.8/dist-packages (from yfinance) (1.21.6)\n",
            "Requirement already satisfied: pandas>=1.3.0 in /usr/local/lib/python3.8/dist-packages (from yfinance) (1.3.5)\n",
            "Collecting soupsieve>1.2\n",
            "  Downloading soupsieve-2.4-py3-none-any.whl (37 kB)\n",
            "Requirement already satisfied: cffi>=1.12 in /usr/local/lib/python3.8/dist-packages (from cryptography>=3.3.2->yfinance) (1.15.1)\n",
            "Requirement already satisfied: webencodings in /usr/local/lib/python3.8/dist-packages (from html5lib>=1.1->yfinance) (0.5.1)\n",
            "Requirement already satisfied: six>=1.9 in /usr/local/lib/python3.8/dist-packages (from html5lib>=1.1->yfinance) (1.15.0)\n",
            "Requirement already satisfied: python-dateutil>=2.7.3 in /usr/local/lib/python3.8/dist-packages (from pandas>=1.3.0->yfinance) (2.8.2)\n",
            "Requirement already satisfied: certifi>=2017.4.17 in /usr/local/lib/python3.8/dist-packages (from requests>=2.26->yfinance) (2022.12.7)\n",
            "Requirement already satisfied: idna<4,>=2.5 in /usr/local/lib/python3.8/dist-packages (from requests>=2.26->yfinance) (2.10)\n",
            "Requirement already satisfied: urllib3<1.27,>=1.21.1 in /usr/local/lib/python3.8/dist-packages (from requests>=2.26->yfinance) (1.24.3)\n",
            "Requirement already satisfied: charset-normalizer<4,>=2 in /usr/local/lib/python3.8/dist-packages (from requests>=2.26->yfinance) (3.0.1)\n",
            "Requirement already satisfied: pycparser in /usr/local/lib/python3.8/dist-packages (from cffi>=1.12->cryptography>=3.3.2->yfinance) (2.21)\n",
            "Installing collected packages: soupsieve, requests, html5lib, frozendict, cryptography, beautifulsoup4, yfinance\n",
            "  Attempting uninstall: requests\n",
            "    Found existing installation: requests 2.25.1\n",
            "    Uninstalling requests-2.25.1:\n",
            "      Successfully uninstalled requests-2.25.1\n",
            "  Attempting uninstall: html5lib\n",
            "    Found existing installation: html5lib 1.0.1\n",
            "    Uninstalling html5lib-1.0.1:\n",
            "      Successfully uninstalled html5lib-1.0.1\n",
            "  Attempting uninstall: beautifulsoup4\n",
            "    Found existing installation: beautifulsoup4 4.6.3\n",
            "    Uninstalling beautifulsoup4-4.6.3:\n",
            "      Successfully uninstalled beautifulsoup4-4.6.3\n",
            "Successfully installed beautifulsoup4-4.11.2 cryptography-39.0.1 frozendict-2.3.5 html5lib-1.1 requests-2.28.2 soupsieve-2.4 yfinance-0.2.12\n",
            "Looking in indexes: https://pypi.org/simple, https://us-python.pkg.dev/colab-wheels/public/simple/\n",
            "Requirement already satisfied: tqdm in /usr/local/lib/python3.8/dist-packages (4.64.1)\n"
          ]
        }
      ],
      "source": [
        "# Install required librairy\n",
        "!pip install yfinance\n",
        "!pip install tqdm"
      ]
    },
    {
      "cell_type": "markdown",
      "source": [
        "#### Helper function"
      ],
      "metadata": {
        "id": "S5fvPGxxAYZD"
      }
    },
    {
      "cell_type": "code",
      "source": [
        "import os\n",
        "import contextlib\n",
        "@contextlib.contextmanager\n",
        "def directory(name):\n",
        "  ret = os.getcwd()\n",
        "  os.chdir(name)\n",
        "  yield None\n",
        "  os.chdir(ret)\n",
        "\n",
        "import subprocess\n",
        "def run(input, exception_on_failure=False):\n",
        "  try:\n",
        "    program_output = subprocess.check_output(f\"{input}\", shell=True, universal_newlines=True, stderr=subprocess.STDOUT)\n",
        "  except Exception as e:\n",
        "    if exception_on_failure:\n",
        "      raise e\n",
        "    program_output = e.output\n",
        "\n",
        "    return program_output\n",
        "\n",
        "def runp(input, exception_on_failure=False):\n",
        "    print(input)\n",
        "    print(run(input, exception_on_failure))\n"
      ],
      "metadata": {
        "id": "N492EWD8AXlQ"
      },
      "execution_count": 3,
      "outputs": []
    },
    {
      "cell_type": "code",
      "source": [
        "import pandas as pd\n",
        "import matplotlib.pyplot as plt\n",
        "import datetime\n",
        "import numpy as np\n",
        "import yfinance as yf\n",
        "from tqdm import tqdm"
      ],
      "metadata": {
        "id": "zD_g1JuKfx5z"
      },
      "execution_count": 4,
      "outputs": []
    },
    {
      "cell_type": "markdown",
      "source": [
        "#### Params"
      ],
      "metadata": {
        "id": "InaaXZsAAb_s"
      }
    },
    {
      "cell_type": "code",
      "source": [
        "DEBUG = False\n",
        "DATA_DIR = \"data/\"\n",
        "DATA_CANDLE = \"data/candle/\"\n",
        "DATA_NORMAL = \"data/normal/\"\n",
        "!mkdir data\n",
        "!mkdir data/candle\n",
        "!mkdir data/normal\n",
        "PRICE_INTERVAL = 2 # In minute, Must be in: 1m,2m,5m,15m,30m,60m,90m\n",
        "WINDOWS_INTERVAL = 60 # In minute, must be > than PRICE_INTERVAL\n",
        "assert WINDOWS_INTERVAL > PRICE_INTERVAL, \"window for analysis must be greater than the price interval\"\n",
        "\n",
        "HOLD = 0\n",
        "BUY = 1\n",
        "SELL = 2"
      ],
      "metadata": {
        "id": "wuce5Hq4ojJ-"
      },
      "execution_count": 5,
      "outputs": []
    },
    {
      "cell_type": "markdown",
      "source": [
        "## Create Dataset"
      ],
      "metadata": {
        "id": "1KK0lczQoX2Z"
      }
    },
    {
      "cell_type": "code",
      "source": [
        "tickers = [\"TSLA\",\"DKNG\", \"PLTR\", \"AMZN\", \"AAPL\", \"F\", \"AMD\", \"NVDA\", \"MARA\", \"NU\", \"NIO\", \"SNAP\", \"GOOGL\", \"SWN\", \"XP\", \"INTC\", \"CCL\", \"GOOG\", \"SOFI\", \"MSFT\", \"T\", \"BAC\", \"UBER\", \"OPEN\", \"AMC\", \"CS\", \"SHOP\", \"DVN\", \"CSCO\", \"META\", \"RIG\", \"DASH\", \"ITUB\", \"AMCR\", \"COIN\", \"RBLX\", \"LUMN\", \"LYFT\", \"AAL\", \"GOLD\", \"KMI\", \"CNNA\", \"XOM\", \"OXY\", \"KGC\", \"OKYO\", \"ROKU\", \"RIOT\", \"PFE\", \"ISEE\", \"PARA\", \"BABA\", \"MRO\", \"GRAB\", \"TOST\", \"SIRI\", \"PBR\", \"UUU\", \"AUY\", \"VALE\", \"KO\", \"RIVN\", \"PCG\", \"STEM\", \"NOK\", \"SI\", \"CMCSA\", \"LU\", \"CTRA\", \"WFC\", \"ET\", \"SOUN\", \"MPW\", \"GM\", \"INZY\", \"SPCE\", \"JNJ\", \"LYNG\", \"CSX\", \"C\", \"TLRY\", \"WMB\", \"FTI\", \"FTCH\", \"DBX\", \"FCX\", \"NCLH\", \"ABNB\", \"COP\", \"SQ\", \"TSM\", \"BMY\", \"BHC\", \"SABR\", \"FSLY\", \"MU\", \"PLUG\", \"CVE\", \"AEM\", \"BAX\", \"KHC\", \"HL\", \"NKLA\", \"QS\", \"PINS\", \"CVX\", \"HAL\", \"DIS\", \"MRK\", \"NEE\", \"EQT\", \"EXC\", \"BKR\", \"TWLO\", \"HOOD\", \"AMAT\", \"SLB\", \"XPEV\", \"HST\", \"DNB\", \"PTON\", \"HBI\", \"X\", \"OSH\", \"MRVL\", \"AR\", \"CLF\", \"NEM\", \"CHPT\", \"ELAN\", \"FUBO\", \"WMT\", \"TTD\", \"BTG\", \"MS\", \"AMAM\", \"CRM\", \"PG\", \"RDFN\", \"BSX\", \"KDP\", \"SNOW\", \"JPM\", \"HPE\", \"PR\", \"MO\", \"CX\", \"U\", \"WU\", \"PPL\", \"YMM\", \"RRC\", \"PDD\", \"LAZR\", \"NWL\", \"KOS\", \"TAL\", \"UAA\", \"MDLZ\", \"CVS\", \"MET\", \"ONEM\", \"CRK\", \"VTRS\", \"ON\", \"NET\", \"UNP\", \"ASX\", \"CHWY\", \"ARR\", \"SBUX\", \"MDT\", \"IQ\", \"UPST\", \"IAG\", \"UMC\", \"STLA\", \"IBN\", \"RITM\", \"NYCB\", \"GGB\", \"CPG\", \"FCEL\", \"RTX\", \"AG\", \"AGNC\"]"
      ],
      "metadata": {
        "id": "UZ8ew8fPRWLg"
      },
      "execution_count": 5,
      "outputs": []
    },
    {
      "cell_type": "code",
      "source": [
        "# Download the data\n",
        "data = yf.download(  # or pdr.get_data_yahoo(...\n",
        "        # tickers list or string as well\n",
        "        tickers = tickers,\n",
        "        # use \"period\" instead of start/end\n",
        "        # valid periods: 1d,5d,1mo,3mo,6mo,1y,2y,5y,10y,ytd,max\n",
        "        # (optional, default is '1mo')\n",
        "        period = \"5d\",\n",
        "        # fetch data by interval (including intraday if period < 60 days)\n",
        "        # valid intervals: 1m,2m,5m,15m,30m,60m,90m,1h,1d,5d,1wk,1mo,3mo\n",
        "        interval = f\"{PRICE_INTERVAL}m\",\n",
        "        # group by ticker (to access via data['SPY'])\n",
        "        # (optional, default is 'column')\n",
        "        group_by = 'ticker',\n",
        "        # attempt repair of missing data or currency mixups e.g. $/cents\n",
        "        repair = True,\n",
        "        # use threads for mass downloading\n",
        "        threads = True\n",
        "    )\n",
        "\n",
        "print(f\"Number of row: {len(data)}\")\n",
        "data.head()"
      ],
      "metadata": {
        "colab": {
          "base_uri": "https://localhost:8080/",
          "height": 744
        },
        "id": "calvm5Tdd9Ll",
        "outputId": "660c5397-fb6f-42a2-b9a7-2d7eb748f1c8"
      },
      "execution_count": 6,
      "outputs": [
        {
          "output_type": "stream",
          "name": "stdout",
          "text": [
            "[**********************62%*****                  ]  115 of 186 completedDNB: fixed 1/31 value=0 errors in 2m price data: [Timestamp('2023-02-13 09:30:00-0500', tz='America/New_York')]\n",
            "[*********************100%***********************]  186 of 186 completed\n",
            "\n",
            "1 Failed download:\n",
            "- LYNG: No data found, symbol may be delisted\n",
            "Number of row: 975\n"
          ]
        },
        {
          "output_type": "execute_result",
          "data": {
            "text/plain": [
              "                            FTCH                                         \\\n",
              "                            Open   High    Low  Close Adj Close  Volume   \n",
              "Datetime                                                                  \n",
              "2023-02-13 09:30:00-05:00  5.680  5.715  5.590  5.610     5.610  263565   \n",
              "2023-02-13 09:32:00-05:00  5.620  5.650  5.570  5.615     5.615  102899   \n",
              "2023-02-13 09:34:00-05:00  5.615  5.630  5.575  5.580     5.580   86538   \n",
              "2023-02-13 09:36:00-05:00  5.580  5.590  5.560  5.585     5.585   89252   \n",
              "2023-02-13 09:38:00-05:00  5.590  5.660  5.580  5.660     5.660   54740   \n",
              "\n",
              "                             CNNA                          ...         CVX  \\\n",
              "                             Open    High     Low   Close  ...         Low   \n",
              "Datetime                                                   ...               \n",
              "2023-02-13 09:30:00-05:00  0.0022  0.0022  0.0022  0.0022  ...  170.619995   \n",
              "2023-02-13 09:32:00-05:00     NaN     NaN     NaN     NaN  ...  170.710007   \n",
              "2023-02-13 09:34:00-05:00     NaN     NaN     NaN     NaN  ...  170.750000   \n",
              "2023-02-13 09:36:00-05:00     NaN     NaN     NaN     NaN  ...  170.410004   \n",
              "2023-02-13 09:38:00-05:00     NaN     NaN     NaN     NaN  ...  170.446396   \n",
              "\n",
              "                                                                  ON  \\\n",
              "                                Close   Adj Close  Volume       Open   \n",
              "Datetime                                                               \n",
              "2023-02-13 09:30:00-05:00  170.865005  170.865005  791275  84.629997   \n",
              "2023-02-13 09:32:00-05:00  171.059998  171.059998   57656  84.750000   \n",
              "2023-02-13 09:34:00-05:00  170.809998  170.809998   74172  84.035004   \n",
              "2023-02-13 09:36:00-05:00  170.544998  170.544998   53296  83.739998   \n",
              "2023-02-13 09:38:00-05:00  170.539993  170.539993   55941  84.026299   \n",
              "\n",
              "                                                                              \n",
              "                                High        Low      Close  Adj Close Volume  \n",
              "Datetime                                                                      \n",
              "2023-02-13 09:30:00-05:00  84.690002  84.190002  84.680000  84.680000  90830  \n",
              "2023-02-13 09:32:00-05:00  84.764999  83.964996  84.029999  84.029999  24884  \n",
              "2023-02-13 09:34:00-05:00  84.035004  83.750000  83.760002  83.760002  21342  \n",
              "2023-02-13 09:36:00-05:00  84.059998  83.739998  83.989799  83.989799  12963  \n",
              "2023-02-13 09:38:00-05:00  84.099998  83.970001  84.070000  84.070000   9212  \n",
              "\n",
              "[5 rows x 1116 columns]"
            ],
            "text/html": [
              "\n",
              "  <div id=\"df-d3fa2a79-9d98-47d2-8d41-6e22fc9c3228\">\n",
              "    <div class=\"colab-df-container\">\n",
              "      <div>\n",
              "<style scoped>\n",
              "    .dataframe tbody tr th:only-of-type {\n",
              "        vertical-align: middle;\n",
              "    }\n",
              "\n",
              "    .dataframe tbody tr th {\n",
              "        vertical-align: top;\n",
              "    }\n",
              "\n",
              "    .dataframe thead tr th {\n",
              "        text-align: left;\n",
              "    }\n",
              "\n",
              "    .dataframe thead tr:last-of-type th {\n",
              "        text-align: right;\n",
              "    }\n",
              "</style>\n",
              "<table border=\"1\" class=\"dataframe\">\n",
              "  <thead>\n",
              "    <tr>\n",
              "      <th></th>\n",
              "      <th colspan=\"6\" halign=\"left\">FTCH</th>\n",
              "      <th colspan=\"4\" halign=\"left\">CNNA</th>\n",
              "      <th>...</th>\n",
              "      <th colspan=\"4\" halign=\"left\">CVX</th>\n",
              "      <th colspan=\"6\" halign=\"left\">ON</th>\n",
              "    </tr>\n",
              "    <tr>\n",
              "      <th></th>\n",
              "      <th>Open</th>\n",
              "      <th>High</th>\n",
              "      <th>Low</th>\n",
              "      <th>Close</th>\n",
              "      <th>Adj Close</th>\n",
              "      <th>Volume</th>\n",
              "      <th>Open</th>\n",
              "      <th>High</th>\n",
              "      <th>Low</th>\n",
              "      <th>Close</th>\n",
              "      <th>...</th>\n",
              "      <th>Low</th>\n",
              "      <th>Close</th>\n",
              "      <th>Adj Close</th>\n",
              "      <th>Volume</th>\n",
              "      <th>Open</th>\n",
              "      <th>High</th>\n",
              "      <th>Low</th>\n",
              "      <th>Close</th>\n",
              "      <th>Adj Close</th>\n",
              "      <th>Volume</th>\n",
              "    </tr>\n",
              "    <tr>\n",
              "      <th>Datetime</th>\n",
              "      <th></th>\n",
              "      <th></th>\n",
              "      <th></th>\n",
              "      <th></th>\n",
              "      <th></th>\n",
              "      <th></th>\n",
              "      <th></th>\n",
              "      <th></th>\n",
              "      <th></th>\n",
              "      <th></th>\n",
              "      <th></th>\n",
              "      <th></th>\n",
              "      <th></th>\n",
              "      <th></th>\n",
              "      <th></th>\n",
              "      <th></th>\n",
              "      <th></th>\n",
              "      <th></th>\n",
              "      <th></th>\n",
              "      <th></th>\n",
              "      <th></th>\n",
              "    </tr>\n",
              "  </thead>\n",
              "  <tbody>\n",
              "    <tr>\n",
              "      <th>2023-02-13 09:30:00-05:00</th>\n",
              "      <td>5.680</td>\n",
              "      <td>5.715</td>\n",
              "      <td>5.590</td>\n",
              "      <td>5.610</td>\n",
              "      <td>5.610</td>\n",
              "      <td>263565</td>\n",
              "      <td>0.0022</td>\n",
              "      <td>0.0022</td>\n",
              "      <td>0.0022</td>\n",
              "      <td>0.0022</td>\n",
              "      <td>...</td>\n",
              "      <td>170.619995</td>\n",
              "      <td>170.865005</td>\n",
              "      <td>170.865005</td>\n",
              "      <td>791275</td>\n",
              "      <td>84.629997</td>\n",
              "      <td>84.690002</td>\n",
              "      <td>84.190002</td>\n",
              "      <td>84.680000</td>\n",
              "      <td>84.680000</td>\n",
              "      <td>90830</td>\n",
              "    </tr>\n",
              "    <tr>\n",
              "      <th>2023-02-13 09:32:00-05:00</th>\n",
              "      <td>5.620</td>\n",
              "      <td>5.650</td>\n",
              "      <td>5.570</td>\n",
              "      <td>5.615</td>\n",
              "      <td>5.615</td>\n",
              "      <td>102899</td>\n",
              "      <td>NaN</td>\n",
              "      <td>NaN</td>\n",
              "      <td>NaN</td>\n",
              "      <td>NaN</td>\n",
              "      <td>...</td>\n",
              "      <td>170.710007</td>\n",
              "      <td>171.059998</td>\n",
              "      <td>171.059998</td>\n",
              "      <td>57656</td>\n",
              "      <td>84.750000</td>\n",
              "      <td>84.764999</td>\n",
              "      <td>83.964996</td>\n",
              "      <td>84.029999</td>\n",
              "      <td>84.029999</td>\n",
              "      <td>24884</td>\n",
              "    </tr>\n",
              "    <tr>\n",
              "      <th>2023-02-13 09:34:00-05:00</th>\n",
              "      <td>5.615</td>\n",
              "      <td>5.630</td>\n",
              "      <td>5.575</td>\n",
              "      <td>5.580</td>\n",
              "      <td>5.580</td>\n",
              "      <td>86538</td>\n",
              "      <td>NaN</td>\n",
              "      <td>NaN</td>\n",
              "      <td>NaN</td>\n",
              "      <td>NaN</td>\n",
              "      <td>...</td>\n",
              "      <td>170.750000</td>\n",
              "      <td>170.809998</td>\n",
              "      <td>170.809998</td>\n",
              "      <td>74172</td>\n",
              "      <td>84.035004</td>\n",
              "      <td>84.035004</td>\n",
              "      <td>83.750000</td>\n",
              "      <td>83.760002</td>\n",
              "      <td>83.760002</td>\n",
              "      <td>21342</td>\n",
              "    </tr>\n",
              "    <tr>\n",
              "      <th>2023-02-13 09:36:00-05:00</th>\n",
              "      <td>5.580</td>\n",
              "      <td>5.590</td>\n",
              "      <td>5.560</td>\n",
              "      <td>5.585</td>\n",
              "      <td>5.585</td>\n",
              "      <td>89252</td>\n",
              "      <td>NaN</td>\n",
              "      <td>NaN</td>\n",
              "      <td>NaN</td>\n",
              "      <td>NaN</td>\n",
              "      <td>...</td>\n",
              "      <td>170.410004</td>\n",
              "      <td>170.544998</td>\n",
              "      <td>170.544998</td>\n",
              "      <td>53296</td>\n",
              "      <td>83.739998</td>\n",
              "      <td>84.059998</td>\n",
              "      <td>83.739998</td>\n",
              "      <td>83.989799</td>\n",
              "      <td>83.989799</td>\n",
              "      <td>12963</td>\n",
              "    </tr>\n",
              "    <tr>\n",
              "      <th>2023-02-13 09:38:00-05:00</th>\n",
              "      <td>5.590</td>\n",
              "      <td>5.660</td>\n",
              "      <td>5.580</td>\n",
              "      <td>5.660</td>\n",
              "      <td>5.660</td>\n",
              "      <td>54740</td>\n",
              "      <td>NaN</td>\n",
              "      <td>NaN</td>\n",
              "      <td>NaN</td>\n",
              "      <td>NaN</td>\n",
              "      <td>...</td>\n",
              "      <td>170.446396</td>\n",
              "      <td>170.539993</td>\n",
              "      <td>170.539993</td>\n",
              "      <td>55941</td>\n",
              "      <td>84.026299</td>\n",
              "      <td>84.099998</td>\n",
              "      <td>83.970001</td>\n",
              "      <td>84.070000</td>\n",
              "      <td>84.070000</td>\n",
              "      <td>9212</td>\n",
              "    </tr>\n",
              "  </tbody>\n",
              "</table>\n",
              "<p>5 rows × 1116 columns</p>\n",
              "</div>\n",
              "      <button class=\"colab-df-convert\" onclick=\"convertToInteractive('df-d3fa2a79-9d98-47d2-8d41-6e22fc9c3228')\"\n",
              "              title=\"Convert this dataframe to an interactive table.\"\n",
              "              style=\"display:none;\">\n",
              "        \n",
              "  <svg xmlns=\"http://www.w3.org/2000/svg\" height=\"24px\"viewBox=\"0 0 24 24\"\n",
              "       width=\"24px\">\n",
              "    <path d=\"M0 0h24v24H0V0z\" fill=\"none\"/>\n",
              "    <path d=\"M18.56 5.44l.94 2.06.94-2.06 2.06-.94-2.06-.94-.94-2.06-.94 2.06-2.06.94zm-11 1L8.5 8.5l.94-2.06 2.06-.94-2.06-.94L8.5 2.5l-.94 2.06-2.06.94zm10 10l.94 2.06.94-2.06 2.06-.94-2.06-.94-.94-2.06-.94 2.06-2.06.94z\"/><path d=\"M17.41 7.96l-1.37-1.37c-.4-.4-.92-.59-1.43-.59-.52 0-1.04.2-1.43.59L10.3 9.45l-7.72 7.72c-.78.78-.78 2.05 0 2.83L4 21.41c.39.39.9.59 1.41.59.51 0 1.02-.2 1.41-.59l7.78-7.78 2.81-2.81c.8-.78.8-2.07 0-2.86zM5.41 20L4 18.59l7.72-7.72 1.47 1.35L5.41 20z\"/>\n",
              "  </svg>\n",
              "      </button>\n",
              "      \n",
              "  <style>\n",
              "    .colab-df-container {\n",
              "      display:flex;\n",
              "      flex-wrap:wrap;\n",
              "      gap: 12px;\n",
              "    }\n",
              "\n",
              "    .colab-df-convert {\n",
              "      background-color: #E8F0FE;\n",
              "      border: none;\n",
              "      border-radius: 50%;\n",
              "      cursor: pointer;\n",
              "      display: none;\n",
              "      fill: #1967D2;\n",
              "      height: 32px;\n",
              "      padding: 0 0 0 0;\n",
              "      width: 32px;\n",
              "    }\n",
              "\n",
              "    .colab-df-convert:hover {\n",
              "      background-color: #E2EBFA;\n",
              "      box-shadow: 0px 1px 2px rgba(60, 64, 67, 0.3), 0px 1px 3px 1px rgba(60, 64, 67, 0.15);\n",
              "      fill: #174EA6;\n",
              "    }\n",
              "\n",
              "    [theme=dark] .colab-df-convert {\n",
              "      background-color: #3B4455;\n",
              "      fill: #D2E3FC;\n",
              "    }\n",
              "\n",
              "    [theme=dark] .colab-df-convert:hover {\n",
              "      background-color: #434B5C;\n",
              "      box-shadow: 0px 1px 3px 1px rgba(0, 0, 0, 0.15);\n",
              "      filter: drop-shadow(0px 1px 2px rgba(0, 0, 0, 0.3));\n",
              "      fill: #FFFFFF;\n",
              "    }\n",
              "  </style>\n",
              "\n",
              "      <script>\n",
              "        const buttonEl =\n",
              "          document.querySelector('#df-d3fa2a79-9d98-47d2-8d41-6e22fc9c3228 button.colab-df-convert');\n",
              "        buttonEl.style.display =\n",
              "          google.colab.kernel.accessAllowed ? 'block' : 'none';\n",
              "\n",
              "        async function convertToInteractive(key) {\n",
              "          const element = document.querySelector('#df-d3fa2a79-9d98-47d2-8d41-6e22fc9c3228');\n",
              "          const dataTable =\n",
              "            await google.colab.kernel.invokeFunction('convertToInteractive',\n",
              "                                                     [key], {});\n",
              "          if (!dataTable) return;\n",
              "\n",
              "          const docLinkHtml = 'Like what you see? Visit the ' +\n",
              "            '<a target=\"_blank\" href=https://colab.research.google.com/notebooks/data_table.ipynb>data table notebook</a>'\n",
              "            + ' to learn more about interactive tables.';\n",
              "          element.innerHTML = '';\n",
              "          dataTable['output_type'] = 'display_data';\n",
              "          await google.colab.output.renderOutput(dataTable, element);\n",
              "          const docLink = document.createElement('div');\n",
              "          docLink.innerHTML = docLinkHtml;\n",
              "          element.appendChild(docLink);\n",
              "        }\n",
              "      </script>\n",
              "    </div>\n",
              "  </div>\n",
              "  "
            ]
          },
          "metadata": {},
          "execution_count": 6
        }
      ]
    },
    {
      "cell_type": "markdown",
      "source": [
        "Build dataset"
      ],
      "metadata": {
        "id": "40KdeKTSD948"
      }
    },
    {
      "cell_type": "code",
      "source": [
        "plot_number = 0\n",
        "# Dataframe to save the value we need\n",
        "dataset={\"candle_path\": [], \"action\": [], \"info\": [], \"filename\": []}"
      ],
      "metadata": {
        "id": "TmFepAAuGoKt"
      },
      "execution_count": 20,
      "outputs": []
    },
    {
      "cell_type": "code",
      "source": [
        "# Let's try it for ford first\n",
        "for ticker in tqdm(tickers):\n",
        "    ticker_data = data[ticker].copy(deep=True)\n",
        "    ticker_data.dropna() # Sanity check\n",
        "    ticker_data[\"datetime\"] = ticker_data.index\n",
        "\n",
        "    # Find Dataset range\n",
        "    day = ticker_data['datetime'].min()\n",
        "    last_end = ticker_data['datetime'].max()\n",
        "    if DEBUG: print(f\"From {day} to {last_end}\")\n",
        "\n",
        "    plt.close()\n",
        "\n",
        "    while day <= last_end:\n",
        "        if DEBUG: print(f\"{day}\")\n",
        "\n",
        "        start_window = day\n",
        "        end_window = start_window + datetime.timedelta(minutes=WINDOWS_INTERVAL)\n",
        "        end_of_day = day + datetime.timedelta(hours=6.5)\n",
        "\n",
        "        while start_window < end_of_day - datetime.timedelta(minutes=WINDOWS_INTERVAL):\n",
        "            if DEBUG: print(f\"    {start_window}\")\n",
        "\n",
        "            # Create a mask for the desired window\n",
        "            mask = (ticker_data['datetime'] > start_window) & (ticker_data['datetime'] <= end_window)\n",
        "            window_data = ticker_data.loc[mask]\n",
        "            \"\"\" TODO: This could be change to something smarter \"\"\"\n",
        "            mean_close = window_data.Close.mean()\n",
        "\n",
        "            # \"up\" dataframe will store the stock_prices when the closing stock \n",
        "            # price is greater than or equal to the opening stock prices\n",
        "            up = window_data[window_data.Close >= window_data.Open]\n",
        "            col1 = 'red'\n",
        "            col3 = 'green'\n",
        "\n",
        "            # \"down\" dataframe will store the stock_prices when the closing stock \n",
        "            # price is lesser than the opening stock prices\n",
        "            down = window_data[window_data.Close < window_data.Open]\n",
        "            col2 = 'blue'\n",
        "            col4 = 'purple'\n",
        "\n",
        "            # Setting width of candlestick elements\n",
        "            width = .001\n",
        "            width2 = .001\n",
        "\n",
        "            # Plotting up prices of the stock\n",
        "            plt.bar(up.datetime, up.Close-up.Open, width, bottom=up.Open, color=col1)\n",
        "            plt.bar(up.datetime, up.High-up.Close, width2, bottom=up.Close, color=col3)\n",
        "            plt.bar(up.datetime, up.Low-up.Open, width2, bottom=up.Open, color=col3)\n",
        "\n",
        "            # Plotting down prices of the stock\n",
        "            plt.bar(down.datetime, down.Close-down.Open, width, bottom=down.Open, color=col2)\n",
        "            plt.bar(down.datetime, down.High-down.Open, width2, bottom=down.Open, color=col4)\n",
        "            plt.bar(down.datetime, down.Low-down.Close, width2, bottom=down.Close, color=col4)\n",
        "            plt.axis('off')\n",
        "\n",
        "            # Saving the candle plot\n",
        "            plt_name = f\"{plot_number}_{ticker}.png\"\n",
        "            plt.savefig(f\"{DATA_CANDLE}{plt_name}\", format=\"png\")\n",
        "            plt.close()    \n",
        "            dataset[\"filename\"].append(plt_name)\n",
        "            dataset[\"candle_path\"].append(DATA_CANDLE)\n",
        "            \n",
        "            # Update var\n",
        "            plot_number += 1\n",
        "            start_window = end_window\n",
        "            end_window = start_window + datetime.timedelta(minutes=WINDOWS_INTERVAL)\n",
        "\n",
        "            # Check if it's a hold, buy and sold\n",
        "            \"\"\" TODO: This could be change to something smarter \"\"\"\n",
        "            mask = (ticker_data['datetime'] > start_window) & (ticker_data['datetime'] <= end_window)\n",
        "            window_data = ticker_data.loc[mask]\n",
        "            mean_close_next_interval = window_data.Close.mean()\n",
        "\n",
        "            diff = mean_close_next_interval / mean_close\n",
        "            if diff > 1.002:\n",
        "                dataset[\"action\"].append(BUY)\n",
        "            elif diff < 0.998:\n",
        "                dataset[\"action\"].append(SELL)\n",
        "            else:\n",
        "                dataset[\"action\"].append(HOLD)\n",
        "\n",
        "            # For debugging later\n",
        "            dataset[\"info\"].append(f\"{ticker}: {start_window}\")\n",
        "\n",
        "        day += datetime.timedelta(days=1)"
      ],
      "metadata": {
        "colab": {
          "base_uri": "https://localhost:8080/"
        },
        "id": "qy7tT02qyNNq",
        "outputId": "8c339183-bffd-4a8b-a902-f316016ce8dc"
      },
      "execution_count": 21,
      "outputs": [
        {
          "output_type": "stream",
          "name": "stderr",
          "text": [
            "100%|██████████| 186/186 [17:17<00:00,  5.58s/it]\n"
          ]
        }
      ]
    },
    {
      "cell_type": "code",
      "source": [
        "dataset = pd.DataFrame(data=dataset)\n",
        "dataset.head()"
      ],
      "metadata": {
        "colab": {
          "base_uri": "https://localhost:8080/",
          "height": 206
        },
        "id": "pLxH4U3nFKii",
        "outputId": "97720ae4-8ce0-4222-ac20-43e33ef1f145"
      },
      "execution_count": 22,
      "outputs": [
        {
          "output_type": "execute_result",
          "data": {
            "text/plain": [
              "    candle_path  action                             info    filename\n",
              "0  data/candle/       1  TSLA: 2023-02-13 10:30:00-05:00  0_TSLA.png\n",
              "1  data/candle/       0  TSLA: 2023-02-13 11:30:00-05:00  1_TSLA.png\n",
              "2  data/candle/       0  TSLA: 2023-02-13 12:30:00-05:00  2_TSLA.png\n",
              "3  data/candle/       0  TSLA: 2023-02-13 13:30:00-05:00  3_TSLA.png\n",
              "4  data/candle/       0  TSLA: 2023-02-13 14:30:00-05:00  4_TSLA.png"
            ],
            "text/html": [
              "\n",
              "  <div id=\"df-c8c7075f-4837-44f8-aefa-d98d4232df8d\">\n",
              "    <div class=\"colab-df-container\">\n",
              "      <div>\n",
              "<style scoped>\n",
              "    .dataframe tbody tr th:only-of-type {\n",
              "        vertical-align: middle;\n",
              "    }\n",
              "\n",
              "    .dataframe tbody tr th {\n",
              "        vertical-align: top;\n",
              "    }\n",
              "\n",
              "    .dataframe thead th {\n",
              "        text-align: right;\n",
              "    }\n",
              "</style>\n",
              "<table border=\"1\" class=\"dataframe\">\n",
              "  <thead>\n",
              "    <tr style=\"text-align: right;\">\n",
              "      <th></th>\n",
              "      <th>candle_path</th>\n",
              "      <th>action</th>\n",
              "      <th>info</th>\n",
              "      <th>filename</th>\n",
              "    </tr>\n",
              "  </thead>\n",
              "  <tbody>\n",
              "    <tr>\n",
              "      <th>0</th>\n",
              "      <td>data/candle/</td>\n",
              "      <td>1</td>\n",
              "      <td>TSLA: 2023-02-13 10:30:00-05:00</td>\n",
              "      <td>0_TSLA.png</td>\n",
              "    </tr>\n",
              "    <tr>\n",
              "      <th>1</th>\n",
              "      <td>data/candle/</td>\n",
              "      <td>0</td>\n",
              "      <td>TSLA: 2023-02-13 11:30:00-05:00</td>\n",
              "      <td>1_TSLA.png</td>\n",
              "    </tr>\n",
              "    <tr>\n",
              "      <th>2</th>\n",
              "      <td>data/candle/</td>\n",
              "      <td>0</td>\n",
              "      <td>TSLA: 2023-02-13 12:30:00-05:00</td>\n",
              "      <td>2_TSLA.png</td>\n",
              "    </tr>\n",
              "    <tr>\n",
              "      <th>3</th>\n",
              "      <td>data/candle/</td>\n",
              "      <td>0</td>\n",
              "      <td>TSLA: 2023-02-13 13:30:00-05:00</td>\n",
              "      <td>3_TSLA.png</td>\n",
              "    </tr>\n",
              "    <tr>\n",
              "      <th>4</th>\n",
              "      <td>data/candle/</td>\n",
              "      <td>0</td>\n",
              "      <td>TSLA: 2023-02-13 14:30:00-05:00</td>\n",
              "      <td>4_TSLA.png</td>\n",
              "    </tr>\n",
              "  </tbody>\n",
              "</table>\n",
              "</div>\n",
              "      <button class=\"colab-df-convert\" onclick=\"convertToInteractive('df-c8c7075f-4837-44f8-aefa-d98d4232df8d')\"\n",
              "              title=\"Convert this dataframe to an interactive table.\"\n",
              "              style=\"display:none;\">\n",
              "        \n",
              "  <svg xmlns=\"http://www.w3.org/2000/svg\" height=\"24px\"viewBox=\"0 0 24 24\"\n",
              "       width=\"24px\">\n",
              "    <path d=\"M0 0h24v24H0V0z\" fill=\"none\"/>\n",
              "    <path d=\"M18.56 5.44l.94 2.06.94-2.06 2.06-.94-2.06-.94-.94-2.06-.94 2.06-2.06.94zm-11 1L8.5 8.5l.94-2.06 2.06-.94-2.06-.94L8.5 2.5l-.94 2.06-2.06.94zm10 10l.94 2.06.94-2.06 2.06-.94-2.06-.94-.94-2.06-.94 2.06-2.06.94z\"/><path d=\"M17.41 7.96l-1.37-1.37c-.4-.4-.92-.59-1.43-.59-.52 0-1.04.2-1.43.59L10.3 9.45l-7.72 7.72c-.78.78-.78 2.05 0 2.83L4 21.41c.39.39.9.59 1.41.59.51 0 1.02-.2 1.41-.59l7.78-7.78 2.81-2.81c.8-.78.8-2.07 0-2.86zM5.41 20L4 18.59l7.72-7.72 1.47 1.35L5.41 20z\"/>\n",
              "  </svg>\n",
              "      </button>\n",
              "      \n",
              "  <style>\n",
              "    .colab-df-container {\n",
              "      display:flex;\n",
              "      flex-wrap:wrap;\n",
              "      gap: 12px;\n",
              "    }\n",
              "\n",
              "    .colab-df-convert {\n",
              "      background-color: #E8F0FE;\n",
              "      border: none;\n",
              "      border-radius: 50%;\n",
              "      cursor: pointer;\n",
              "      display: none;\n",
              "      fill: #1967D2;\n",
              "      height: 32px;\n",
              "      padding: 0 0 0 0;\n",
              "      width: 32px;\n",
              "    }\n",
              "\n",
              "    .colab-df-convert:hover {\n",
              "      background-color: #E2EBFA;\n",
              "      box-shadow: 0px 1px 2px rgba(60, 64, 67, 0.3), 0px 1px 3px 1px rgba(60, 64, 67, 0.15);\n",
              "      fill: #174EA6;\n",
              "    }\n",
              "\n",
              "    [theme=dark] .colab-df-convert {\n",
              "      background-color: #3B4455;\n",
              "      fill: #D2E3FC;\n",
              "    }\n",
              "\n",
              "    [theme=dark] .colab-df-convert:hover {\n",
              "      background-color: #434B5C;\n",
              "      box-shadow: 0px 1px 3px 1px rgba(0, 0, 0, 0.15);\n",
              "      filter: drop-shadow(0px 1px 2px rgba(0, 0, 0, 0.3));\n",
              "      fill: #FFFFFF;\n",
              "    }\n",
              "  </style>\n",
              "\n",
              "      <script>\n",
              "        const buttonEl =\n",
              "          document.querySelector('#df-c8c7075f-4837-44f8-aefa-d98d4232df8d button.colab-df-convert');\n",
              "        buttonEl.style.display =\n",
              "          google.colab.kernel.accessAllowed ? 'block' : 'none';\n",
              "\n",
              "        async function convertToInteractive(key) {\n",
              "          const element = document.querySelector('#df-c8c7075f-4837-44f8-aefa-d98d4232df8d');\n",
              "          const dataTable =\n",
              "            await google.colab.kernel.invokeFunction('convertToInteractive',\n",
              "                                                     [key], {});\n",
              "          if (!dataTable) return;\n",
              "\n",
              "          const docLinkHtml = 'Like what you see? Visit the ' +\n",
              "            '<a target=\"_blank\" href=https://colab.research.google.com/notebooks/data_table.ipynb>data table notebook</a>'\n",
              "            + ' to learn more about interactive tables.';\n",
              "          element.innerHTML = '';\n",
              "          dataTable['output_type'] = 'display_data';\n",
              "          await google.colab.output.renderOutput(dataTable, element);\n",
              "          const docLink = document.createElement('div');\n",
              "          docLink.innerHTML = docLinkHtml;\n",
              "          element.appendChild(docLink);\n",
              "        }\n",
              "      </script>\n",
              "    </div>\n",
              "  </div>\n",
              "  "
            ]
          },
          "metadata": {},
          "execution_count": 22
        }
      ]
    },
    {
      "cell_type": "markdown",
      "source": [
        "# Save or open data"
      ],
      "metadata": {
        "id": "z3OhLQl0A6UO"
      }
    },
    {
      "cell_type": "code",
      "source": [
        "dataset.to_csv(\"data/dataset.csv\")"
      ],
      "metadata": {
        "id": "O8KgSGtE_n3N"
      },
      "execution_count": 23,
      "outputs": []
    },
    {
      "cell_type": "code",
      "source": [
        "runp(\"zip -r /content/data.zip /content/data\")\n",
        "from google.colab import files\n",
        "files.download(\"/content/data.zip\")"
      ],
      "metadata": {
        "colab": {
          "base_uri": "https://localhost:8080/",
          "height": 52
        },
        "id": "vK68SUM9AnQ3",
        "outputId": "50564d11-17ef-4ab3-fe98-b99e14e5b597"
      },
      "execution_count": 24,
      "outputs": [
        {
          "output_type": "stream",
          "name": "stdout",
          "text": [
            "zip -r /content/data.zip /content/data\n",
            "None\n"
          ]
        },
        {
          "output_type": "display_data",
          "data": {
            "text/plain": [
              "<IPython.core.display.Javascript object>"
            ],
            "application/javascript": [
              "\n",
              "    async function download(id, filename, size) {\n",
              "      if (!google.colab.kernel.accessAllowed) {\n",
              "        return;\n",
              "      }\n",
              "      const div = document.createElement('div');\n",
              "      const label = document.createElement('label');\n",
              "      label.textContent = `Downloading \"${filename}\": `;\n",
              "      div.appendChild(label);\n",
              "      const progress = document.createElement('progress');\n",
              "      progress.max = size;\n",
              "      div.appendChild(progress);\n",
              "      document.body.appendChild(div);\n",
              "\n",
              "      const buffers = [];\n",
              "      let downloaded = 0;\n",
              "\n",
              "      const channel = await google.colab.kernel.comms.open(id);\n",
              "      // Send a message to notify the kernel that we're ready.\n",
              "      channel.send({})\n",
              "\n",
              "      for await (const message of channel.messages) {\n",
              "        // Send a message to notify the kernel that we're ready.\n",
              "        channel.send({})\n",
              "        if (message.buffers) {\n",
              "          for (const buffer of message.buffers) {\n",
              "            buffers.push(buffer);\n",
              "            downloaded += buffer.byteLength;\n",
              "            progress.value = downloaded;\n",
              "          }\n",
              "        }\n",
              "      }\n",
              "      const blob = new Blob(buffers, {type: 'application/binary'});\n",
              "      const a = document.createElement('a');\n",
              "      a.href = window.URL.createObjectURL(blob);\n",
              "      a.download = filename;\n",
              "      div.appendChild(a);\n",
              "      a.click();\n",
              "      div.remove();\n",
              "    }\n",
              "  "
            ]
          },
          "metadata": {}
        },
        {
          "output_type": "display_data",
          "data": {
            "text/plain": [
              "<IPython.core.display.Javascript object>"
            ],
            "application/javascript": [
              "download(\"download_7b31b91c-78e5-4b99-846d-8a8cb5e7cfe8\", \"data.zip\", 7243778)"
            ]
          },
          "metadata": {}
        }
      ]
    },
    {
      "cell_type": "code",
      "source": [
        "runp(f\"unzip -q /content/data.zip\")\n",
        "runp(f\"rm -rf data\")\n",
        "runp(\"mv /content/content/data /content/data\")\n"
      ],
      "metadata": {
        "colab": {
          "base_uri": "https://localhost:8080/"
        },
        "id": "pN_uaam__x_B",
        "outputId": "ef5925cf-5819-4bd3-bf2d-3ed0460fe3d2"
      },
      "execution_count": 7,
      "outputs": [
        {
          "output_type": "stream",
          "name": "stdout",
          "text": [
            "unzip -q /content/data.zip\n",
            "None\n",
            "rm -rf data\n",
            "None\n",
            "mv /content/content/data /content/data\n",
            "None\n"
          ]
        }
      ]
    },
    {
      "cell_type": "code",
      "source": [
        "dataset = pd.read_csv(\"data/dataset.csv\")\n",
        "# dataset = dataset.sample(frac=0.1, axis=0)\n",
        "print(len(dataset))\n",
        "dataset.head()"
      ],
      "metadata": {
        "colab": {
          "base_uri": "https://localhost:8080/",
          "height": 223
        },
        "id": "AdUxY6etLbGJ",
        "outputId": "01186a70-18d1-4d47-eb91-95546deb2f6e"
      },
      "execution_count": 8,
      "outputs": [
        {
          "output_type": "stream",
          "name": "stdout",
          "text": [
            "5580\n"
          ]
        },
        {
          "output_type": "execute_result",
          "data": {
            "text/plain": [
              "   Unnamed: 0   candle_path  action                             info  \\\n",
              "0           0  data/candle/       1  TSLA: 2023-02-13 10:30:00-05:00   \n",
              "1           1  data/candle/       0  TSLA: 2023-02-13 11:30:00-05:00   \n",
              "2           2  data/candle/       0  TSLA: 2023-02-13 12:30:00-05:00   \n",
              "3           3  data/candle/       0  TSLA: 2023-02-13 13:30:00-05:00   \n",
              "4           4  data/candle/       0  TSLA: 2023-02-13 14:30:00-05:00   \n",
              "\n",
              "     filename  \n",
              "0  0_TSLA.png  \n",
              "1  1_TSLA.png  \n",
              "2  2_TSLA.png  \n",
              "3  3_TSLA.png  \n",
              "4  4_TSLA.png  "
            ],
            "text/html": [
              "\n",
              "  <div id=\"df-3a59f877-8a12-4f81-a25b-86fcd2faf476\">\n",
              "    <div class=\"colab-df-container\">\n",
              "      <div>\n",
              "<style scoped>\n",
              "    .dataframe tbody tr th:only-of-type {\n",
              "        vertical-align: middle;\n",
              "    }\n",
              "\n",
              "    .dataframe tbody tr th {\n",
              "        vertical-align: top;\n",
              "    }\n",
              "\n",
              "    .dataframe thead th {\n",
              "        text-align: right;\n",
              "    }\n",
              "</style>\n",
              "<table border=\"1\" class=\"dataframe\">\n",
              "  <thead>\n",
              "    <tr style=\"text-align: right;\">\n",
              "      <th></th>\n",
              "      <th>Unnamed: 0</th>\n",
              "      <th>candle_path</th>\n",
              "      <th>action</th>\n",
              "      <th>info</th>\n",
              "      <th>filename</th>\n",
              "    </tr>\n",
              "  </thead>\n",
              "  <tbody>\n",
              "    <tr>\n",
              "      <th>0</th>\n",
              "      <td>0</td>\n",
              "      <td>data/candle/</td>\n",
              "      <td>1</td>\n",
              "      <td>TSLA: 2023-02-13 10:30:00-05:00</td>\n",
              "      <td>0_TSLA.png</td>\n",
              "    </tr>\n",
              "    <tr>\n",
              "      <th>1</th>\n",
              "      <td>1</td>\n",
              "      <td>data/candle/</td>\n",
              "      <td>0</td>\n",
              "      <td>TSLA: 2023-02-13 11:30:00-05:00</td>\n",
              "      <td>1_TSLA.png</td>\n",
              "    </tr>\n",
              "    <tr>\n",
              "      <th>2</th>\n",
              "      <td>2</td>\n",
              "      <td>data/candle/</td>\n",
              "      <td>0</td>\n",
              "      <td>TSLA: 2023-02-13 12:30:00-05:00</td>\n",
              "      <td>2_TSLA.png</td>\n",
              "    </tr>\n",
              "    <tr>\n",
              "      <th>3</th>\n",
              "      <td>3</td>\n",
              "      <td>data/candle/</td>\n",
              "      <td>0</td>\n",
              "      <td>TSLA: 2023-02-13 13:30:00-05:00</td>\n",
              "      <td>3_TSLA.png</td>\n",
              "    </tr>\n",
              "    <tr>\n",
              "      <th>4</th>\n",
              "      <td>4</td>\n",
              "      <td>data/candle/</td>\n",
              "      <td>0</td>\n",
              "      <td>TSLA: 2023-02-13 14:30:00-05:00</td>\n",
              "      <td>4_TSLA.png</td>\n",
              "    </tr>\n",
              "  </tbody>\n",
              "</table>\n",
              "</div>\n",
              "      <button class=\"colab-df-convert\" onclick=\"convertToInteractive('df-3a59f877-8a12-4f81-a25b-86fcd2faf476')\"\n",
              "              title=\"Convert this dataframe to an interactive table.\"\n",
              "              style=\"display:none;\">\n",
              "        \n",
              "  <svg xmlns=\"http://www.w3.org/2000/svg\" height=\"24px\"viewBox=\"0 0 24 24\"\n",
              "       width=\"24px\">\n",
              "    <path d=\"M0 0h24v24H0V0z\" fill=\"none\"/>\n",
              "    <path d=\"M18.56 5.44l.94 2.06.94-2.06 2.06-.94-2.06-.94-.94-2.06-.94 2.06-2.06.94zm-11 1L8.5 8.5l.94-2.06 2.06-.94-2.06-.94L8.5 2.5l-.94 2.06-2.06.94zm10 10l.94 2.06.94-2.06 2.06-.94-2.06-.94-.94-2.06-.94 2.06-2.06.94z\"/><path d=\"M17.41 7.96l-1.37-1.37c-.4-.4-.92-.59-1.43-.59-.52 0-1.04.2-1.43.59L10.3 9.45l-7.72 7.72c-.78.78-.78 2.05 0 2.83L4 21.41c.39.39.9.59 1.41.59.51 0 1.02-.2 1.41-.59l7.78-7.78 2.81-2.81c.8-.78.8-2.07 0-2.86zM5.41 20L4 18.59l7.72-7.72 1.47 1.35L5.41 20z\"/>\n",
              "  </svg>\n",
              "      </button>\n",
              "      \n",
              "  <style>\n",
              "    .colab-df-container {\n",
              "      display:flex;\n",
              "      flex-wrap:wrap;\n",
              "      gap: 12px;\n",
              "    }\n",
              "\n",
              "    .colab-df-convert {\n",
              "      background-color: #E8F0FE;\n",
              "      border: none;\n",
              "      border-radius: 50%;\n",
              "      cursor: pointer;\n",
              "      display: none;\n",
              "      fill: #1967D2;\n",
              "      height: 32px;\n",
              "      padding: 0 0 0 0;\n",
              "      width: 32px;\n",
              "    }\n",
              "\n",
              "    .colab-df-convert:hover {\n",
              "      background-color: #E2EBFA;\n",
              "      box-shadow: 0px 1px 2px rgba(60, 64, 67, 0.3), 0px 1px 3px 1px rgba(60, 64, 67, 0.15);\n",
              "      fill: #174EA6;\n",
              "    }\n",
              "\n",
              "    [theme=dark] .colab-df-convert {\n",
              "      background-color: #3B4455;\n",
              "      fill: #D2E3FC;\n",
              "    }\n",
              "\n",
              "    [theme=dark] .colab-df-convert:hover {\n",
              "      background-color: #434B5C;\n",
              "      box-shadow: 0px 1px 3px 1px rgba(0, 0, 0, 0.15);\n",
              "      filter: drop-shadow(0px 1px 2px rgba(0, 0, 0, 0.3));\n",
              "      fill: #FFFFFF;\n",
              "    }\n",
              "  </style>\n",
              "\n",
              "      <script>\n",
              "        const buttonEl =\n",
              "          document.querySelector('#df-3a59f877-8a12-4f81-a25b-86fcd2faf476 button.colab-df-convert');\n",
              "        buttonEl.style.display =\n",
              "          google.colab.kernel.accessAllowed ? 'block' : 'none';\n",
              "\n",
              "        async function convertToInteractive(key) {\n",
              "          const element = document.querySelector('#df-3a59f877-8a12-4f81-a25b-86fcd2faf476');\n",
              "          const dataTable =\n",
              "            await google.colab.kernel.invokeFunction('convertToInteractive',\n",
              "                                                     [key], {});\n",
              "          if (!dataTable) return;\n",
              "\n",
              "          const docLinkHtml = 'Like what you see? Visit the ' +\n",
              "            '<a target=\"_blank\" href=https://colab.research.google.com/notebooks/data_table.ipynb>data table notebook</a>'\n",
              "            + ' to learn more about interactive tables.';\n",
              "          element.innerHTML = '';\n",
              "          dataTable['output_type'] = 'display_data';\n",
              "          await google.colab.output.renderOutput(dataTable, element);\n",
              "          const docLink = document.createElement('div');\n",
              "          docLink.innerHTML = docLinkHtml;\n",
              "          element.appendChild(docLink);\n",
              "        }\n",
              "      </script>\n",
              "    </div>\n",
              "  </div>\n",
              "  "
            ]
          },
          "metadata": {},
          "execution_count": 8
        }
      ]
    },
    {
      "cell_type": "code",
      "source": [
        "dataset['action'].value_counts().to_frame().reset_index().rename(columns={'index':'values', 'values':'count'})"
      ],
      "metadata": {
        "colab": {
          "base_uri": "https://localhost:8080/",
          "height": 143
        },
        "id": "brf4s94HNHM0",
        "outputId": "e03fbfc5-ac7a-4bb9-fdaa-4cca3d8f9d42"
      },
      "execution_count": 9,
      "outputs": [
        {
          "output_type": "execute_result",
          "data": {
            "text/plain": [
              "   values  action\n",
              "0       1    2121\n",
              "1       0    2080\n",
              "2       2    1379"
            ],
            "text/html": [
              "\n",
              "  <div id=\"df-5986fea2-4945-4a0c-af28-2752c3266e07\">\n",
              "    <div class=\"colab-df-container\">\n",
              "      <div>\n",
              "<style scoped>\n",
              "    .dataframe tbody tr th:only-of-type {\n",
              "        vertical-align: middle;\n",
              "    }\n",
              "\n",
              "    .dataframe tbody tr th {\n",
              "        vertical-align: top;\n",
              "    }\n",
              "\n",
              "    .dataframe thead th {\n",
              "        text-align: right;\n",
              "    }\n",
              "</style>\n",
              "<table border=\"1\" class=\"dataframe\">\n",
              "  <thead>\n",
              "    <tr style=\"text-align: right;\">\n",
              "      <th></th>\n",
              "      <th>values</th>\n",
              "      <th>action</th>\n",
              "    </tr>\n",
              "  </thead>\n",
              "  <tbody>\n",
              "    <tr>\n",
              "      <th>0</th>\n",
              "      <td>1</td>\n",
              "      <td>2121</td>\n",
              "    </tr>\n",
              "    <tr>\n",
              "      <th>1</th>\n",
              "      <td>0</td>\n",
              "      <td>2080</td>\n",
              "    </tr>\n",
              "    <tr>\n",
              "      <th>2</th>\n",
              "      <td>2</td>\n",
              "      <td>1379</td>\n",
              "    </tr>\n",
              "  </tbody>\n",
              "</table>\n",
              "</div>\n",
              "      <button class=\"colab-df-convert\" onclick=\"convertToInteractive('df-5986fea2-4945-4a0c-af28-2752c3266e07')\"\n",
              "              title=\"Convert this dataframe to an interactive table.\"\n",
              "              style=\"display:none;\">\n",
              "        \n",
              "  <svg xmlns=\"http://www.w3.org/2000/svg\" height=\"24px\"viewBox=\"0 0 24 24\"\n",
              "       width=\"24px\">\n",
              "    <path d=\"M0 0h24v24H0V0z\" fill=\"none\"/>\n",
              "    <path d=\"M18.56 5.44l.94 2.06.94-2.06 2.06-.94-2.06-.94-.94-2.06-.94 2.06-2.06.94zm-11 1L8.5 8.5l.94-2.06 2.06-.94-2.06-.94L8.5 2.5l-.94 2.06-2.06.94zm10 10l.94 2.06.94-2.06 2.06-.94-2.06-.94-.94-2.06-.94 2.06-2.06.94z\"/><path d=\"M17.41 7.96l-1.37-1.37c-.4-.4-.92-.59-1.43-.59-.52 0-1.04.2-1.43.59L10.3 9.45l-7.72 7.72c-.78.78-.78 2.05 0 2.83L4 21.41c.39.39.9.59 1.41.59.51 0 1.02-.2 1.41-.59l7.78-7.78 2.81-2.81c.8-.78.8-2.07 0-2.86zM5.41 20L4 18.59l7.72-7.72 1.47 1.35L5.41 20z\"/>\n",
              "  </svg>\n",
              "      </button>\n",
              "      \n",
              "  <style>\n",
              "    .colab-df-container {\n",
              "      display:flex;\n",
              "      flex-wrap:wrap;\n",
              "      gap: 12px;\n",
              "    }\n",
              "\n",
              "    .colab-df-convert {\n",
              "      background-color: #E8F0FE;\n",
              "      border: none;\n",
              "      border-radius: 50%;\n",
              "      cursor: pointer;\n",
              "      display: none;\n",
              "      fill: #1967D2;\n",
              "      height: 32px;\n",
              "      padding: 0 0 0 0;\n",
              "      width: 32px;\n",
              "    }\n",
              "\n",
              "    .colab-df-convert:hover {\n",
              "      background-color: #E2EBFA;\n",
              "      box-shadow: 0px 1px 2px rgba(60, 64, 67, 0.3), 0px 1px 3px 1px rgba(60, 64, 67, 0.15);\n",
              "      fill: #174EA6;\n",
              "    }\n",
              "\n",
              "    [theme=dark] .colab-df-convert {\n",
              "      background-color: #3B4455;\n",
              "      fill: #D2E3FC;\n",
              "    }\n",
              "\n",
              "    [theme=dark] .colab-df-convert:hover {\n",
              "      background-color: #434B5C;\n",
              "      box-shadow: 0px 1px 3px 1px rgba(0, 0, 0, 0.15);\n",
              "      filter: drop-shadow(0px 1px 2px rgba(0, 0, 0, 0.3));\n",
              "      fill: #FFFFFF;\n",
              "    }\n",
              "  </style>\n",
              "\n",
              "      <script>\n",
              "        const buttonEl =\n",
              "          document.querySelector('#df-5986fea2-4945-4a0c-af28-2752c3266e07 button.colab-df-convert');\n",
              "        buttonEl.style.display =\n",
              "          google.colab.kernel.accessAllowed ? 'block' : 'none';\n",
              "\n",
              "        async function convertToInteractive(key) {\n",
              "          const element = document.querySelector('#df-5986fea2-4945-4a0c-af28-2752c3266e07');\n",
              "          const dataTable =\n",
              "            await google.colab.kernel.invokeFunction('convertToInteractive',\n",
              "                                                     [key], {});\n",
              "          if (!dataTable) return;\n",
              "\n",
              "          const docLinkHtml = 'Like what you see? Visit the ' +\n",
              "            '<a target=\"_blank\" href=https://colab.research.google.com/notebooks/data_table.ipynb>data table notebook</a>'\n",
              "            + ' to learn more about interactive tables.';\n",
              "          element.innerHTML = '';\n",
              "          dataTable['output_type'] = 'display_data';\n",
              "          await google.colab.output.renderOutput(dataTable, element);\n",
              "          const docLink = document.createElement('div');\n",
              "          docLink.innerHTML = docLinkHtml;\n",
              "          element.appendChild(docLink);\n",
              "        }\n",
              "      </script>\n",
              "    </div>\n",
              "  </div>\n",
              "  "
            ]
          },
          "metadata": {},
          "execution_count": 9
        }
      ]
    },
    {
      "cell_type": "markdown",
      "source": [
        "## DataLoader"
      ],
      "metadata": {
        "id": "PCYx7Z2UHTED"
      }
    },
    {
      "cell_type": "code",
      "source": [
        "import os\n",
        "import torch\n",
        "import torch.nn as nn\n",
        "import torch.nn.functional as F\n",
        "import torch.nn.init as init\n",
        "import torch.optim as optim\n",
        "import torchvision\n",
        "import torchvision.transforms as transforms\n",
        "from torchvision.io import read_image\n",
        "device = \"cuda\" if torch.cuda.is_available() else \"cpu\"\n",
        "\n",
        "# Fix random seed\n",
        "torch.manual_seed(0)\n",
        "torch.cuda.manual_seed_all(0)\n",
        "torch.cuda.manual_seed(0)\n",
        "torch.backends.cudnn.deterministic = True\n",
        "torch.backends.cudnn.benchmark = False"
      ],
      "metadata": {
        "id": "k3eRQkNiIeqc"
      },
      "execution_count": 10,
      "outputs": []
    },
    {
      "cell_type": "markdown",
      "source": [
        "Let's create a data loader for the dataset we created"
      ],
      "metadata": {
        "id": "GOlnoVvLI4Nq"
      }
    },
    {
      "cell_type": "code",
      "source": [
        "class TechnicalAnalysisDataset(torch.utils.data.Dataset):\n",
        "    def __init__(self, data, chart_dir, transform=None):\n",
        "        self.df = data\n",
        "        self.img_dir = chart_dir\n",
        "        self.transform = transform\n",
        "    \n",
        "    def __len__(self):\n",
        "        return len(self.df)\n",
        "\n",
        "    def __getitem__(self, idx):\n",
        "        img_path = os.path.join(self.img_dir, self.df.iloc[idx][\"filename\"])\n",
        "        image = read_image(img_path)\n",
        "        image = image / 255\n",
        "        label = self.df.iloc[idx][\"action\"]\n",
        "        if self.transform:\n",
        "            image = self.transform(image)\n",
        "        return image, label"
      ],
      "metadata": {
        "id": "fa2N7CRBI6J2"
      },
      "execution_count": 11,
      "outputs": []
    },
    {
      "cell_type": "markdown",
      "source": [
        "Now that we have our dataset, we will need to split it in a training and validation set and we will need a data loader to be able to have minibatch."
      ],
      "metadata": {
        "id": "g_JWp5T3Sfdf"
      }
    },
    {
      "cell_type": "code",
      "source": [
        "def train_test_split(df, frac=0.2):\n",
        "    \n",
        "    # get random sample \n",
        "    test = df.sample(frac=frac, axis=0)\n",
        "\n",
        "    # get everything but the test sample\n",
        "    train = df.drop(index=test.index)\n",
        "\n",
        "    return train, test"
      ],
      "metadata": {
        "id": "Qap0JMKVTumk"
      },
      "execution_count": 12,
      "outputs": []
    },
    {
      "cell_type": "code",
      "source": [
        "from torch.utils.data import DataLoader\n",
        "\n",
        "train_dataset, test_dataset = train_test_split(dataset)\n",
        "resize_transform = transforms.Resize(size=(64, 64))\n",
        "train_technical_analysis_dataset = TechnicalAnalysisDataset(train_dataset, DATA_CANDLE, transform=resize_transform)\n",
        "test_technical_analysis_dataset = TechnicalAnalysisDataset(test_dataset, DATA_CANDLE, transform=resize_transform)\n",
        "\n",
        "train_loader = torch.utils.data.DataLoader(\n",
        "    train_technical_analysis_dataset, batch_size=64, shuffle=True, num_workers=2\n",
        ")\n",
        "\n",
        "val_loader = torch.utils.data.DataLoader(\n",
        "      test_technical_analysis_dataset, batch_size=64, shuffle=False, num_workers=2\n",
        ")"
      ],
      "metadata": {
        "id": "mm-lK_MoSuH_"
      },
      "execution_count": 13,
      "outputs": []
    },
    {
      "cell_type": "code",
      "source": [
        "# Sanity check\n",
        "img, label = train_technical_analysis_dataset.__getitem__(1)\n",
        "print(img.shape)\n",
        "img = img.permute(1, 2, 0)\n",
        "print(img.shape)\n",
        "print(label)\n",
        "plt.imshow(img)\n",
        "plt.show()"
      ],
      "metadata": {
        "colab": {
          "base_uri": "https://localhost:8080/",
          "height": 320
        },
        "id": "kVTEidsNOLEv",
        "outputId": "8a987d34-2f61-4d69-f938-ed760b0ab683"
      },
      "execution_count": 14,
      "outputs": [
        {
          "output_type": "stream",
          "name": "stdout",
          "text": [
            "torch.Size([4, 64, 64])\n",
            "torch.Size([64, 64, 4])\n",
            "0\n"
          ]
        },
        {
          "output_type": "display_data",
          "data": {
            "text/plain": [
              "<Figure size 432x288 with 1 Axes>"
            ],
            "image/png": "[encoded data removed]"
          },
          "metadata": {
            "needs_background": "light"
          }
        }
      ]
    },
    {
      "cell_type": "markdown",
      "source": [
        "## Training architecture"
      ],
      "metadata": {
        "id": "RiRBWJcjeiwT"
      }
    },
    {
      "cell_type": "code",
      "source": [
        "def train_loop(epoch, model, train_loader, criterion, optimizer):\n",
        "  \"\"\"\n",
        "    epoch: int\n",
        "      Number of the current training epoch (starting from 0).\n",
        "    model: ResNet18\n",
        "      The model to train, which is an instance of the ResNet18 class.\n",
        "    train_loader: DataLoader\n",
        "      The training dataloader.\n",
        "    criterion: Module\n",
        "      A Module object that evaluates the crossentropy loss.\n",
        "    optimizer: Optimizer\n",
        "      An Optimizer object for the Adam optimizer.\n",
        "\n",
        "    Outputs: Returns average train_acc and train_loss for the current epoch.\n",
        "  \"\"\"\n",
        "  train_acc = 0.\n",
        "  train_loss = 0.\n",
        "  nb_data = 0 \n",
        "  model.train()\n",
        "  for inputs, labels in train_loader:\n",
        "      # Get input:\n",
        "      inputs, labels = inputs.to(device), labels.to(device)\n",
        "\n",
        "      # Zeros the parameter gradient\n",
        "      optimizer.zero_grad()\n",
        "      \n",
        "      # Foward + backward + optimize\n",
        "      outputs = model(inputs)\n",
        "      loss = criterion(outputs, labels)\n",
        "      loss.backward()\n",
        "      optimizer.step()\n",
        "\n",
        "      # Get stats\n",
        "      train_loss += loss.item()\n",
        "      _, pred = torch.max(outputs.data, 1)\n",
        "      train_acc += (pred == labels).sum().item()\n",
        "      nb_data += labels.size(0)\n",
        "\n",
        "  train_loss = train_loss / len(train_loader)\n",
        "  train_acc = train_acc / nb_data\n",
        "\n",
        "  print(f\"Epoch: {epoch} | Train Acc: {train_acc:.6f} | Train Loss: {train_loss:.6f}\")\n",
        "  return train_acc, train_loss\n",
        "\n",
        "def valid_loop(epoch, model, val_loader, criterion):\n",
        "  \"\"\"\n",
        "    epoch: int\n",
        "      Number of the current epoch (starting from 0).\n",
        "    model: ResNet18\n",
        "      The model to train, which is an instance of the ResNet18 class.\n",
        "    val_loader: DataLoader\n",
        "      The validation dataloader.\n",
        "    criterion: Module\n",
        "      A Module object that evaluates the crossentropy loss.\n",
        "\n",
        "    Outputs: Returns average val_acc and val_loss for the current epoch.\n",
        "  \"\"\"\n",
        "  val_acc = 0.\n",
        "  val_loss = 0.\n",
        "  nb_data = 0\n",
        "\n",
        "  model.eval()\n",
        "  for inputs, labels in val_loader:\n",
        "      # Get input:\n",
        "      inputs, labels = inputs.to(device), labels.to(device)\n",
        "      \n",
        "      # Foward + backward + optimize\n",
        "      outputs = model(inputs)\n",
        "      loss = criterion(outputs, labels)\n",
        "\n",
        "      # Get stats\n",
        "      val_loss += loss.item()\n",
        "      _, pred = torch.max(outputs.data, 1)\n",
        "      val_acc += (pred == labels).sum().item()\n",
        "      nb_data += labels.size(0)\n",
        "\n",
        "  val_loss = val_loss / len(val_loader)\n",
        "  val_acc = val_acc / nb_data\n",
        "\n",
        "  print(f\"Epoch: {epoch} | Val Acc: {val_acc:.6f}   | Val Loss: {val_loss:.6f}\")\n",
        "  return val_acc, val_loss"
      ],
      "metadata": {
        "id": "4oZXbuHdekvk"
      },
      "execution_count": 16,
      "outputs": []
    },
    {
      "cell_type": "markdown",
      "source": [
        "## Models\n",
        "\n"
      ],
      "metadata": {
        "id": "YuBwOTFGchEv"
      }
    },
    {
      "cell_type": "markdown",
      "source": [
        "### MLP"
      ],
      "metadata": {
        "id": "-DlQCZrNfwZV"
      }
    },
    {
      "cell_type": "code",
      "source": [
        "from torch.nn.modules.dropout import Dropout\n",
        "class MLP(nn.Module):\n",
        "    def __init__(self):\n",
        "        super(MLP, self).__init__()\n",
        "        self.model = nn.Sequential(\n",
        "            nn.Linear(4*64*64, 2048),\n",
        "            nn.ReLU(),\n",
        "            nn.Dropout(p=0.05),\n",
        "            nn.Linear(2048, 1024),\n",
        "            nn.ReLU(),\n",
        "            nn.Dropout(p=0.05),\n",
        "            nn.Linear(1024, 1024),\n",
        "            nn.ReLU(),\n",
        "            nn.Dropout(p=0.05),\n",
        "            nn.Linear(1024, 1024),\n",
        "            nn.ReLU(),\n",
        "            nn.Dropout(p=0.05),\n",
        "            nn.Linear(1024, 512),\n",
        "            nn.ReLU(),\n",
        "            nn.Dropout(p=0.05),\n",
        "            nn.Linear(512, 254),\n",
        "            nn.ReLU(),\n",
        "            nn.Dropout(p=0.05),\n",
        "            nn.Linear(254, 3)\n",
        "        )\n",
        "    \n",
        "    def forward(self, x):\n",
        "        x = x.flatten(start_dim=1)\n",
        "        out = self.model(x)\n",
        "        return out"
      ],
      "metadata": {
        "id": "LkD1kBpGcsxF"
      },
      "execution_count": 17,
      "outputs": []
    },
    {
      "cell_type": "code",
      "source": [
        "import time\n",
        "if __name__ == \"__main__\":\n",
        "  use_cuda = torch.cuda.is_available()\n",
        "  device = torch.device(\"cuda:0\" if use_cuda else \"cpu\")\n",
        "\n",
        "  train_accs, train_losses, val_accs, val_losses = [], [], [], []\n",
        "  n_epochs = 12\n",
        "\n",
        "  mlp = MLP().to(device)\n",
        "  nb_params = sum(p.numel() for p in mlp.parameters())\n",
        "  print(mlp)\n",
        "  print(f\"Number of parameter: {nb_params}\")\n",
        "\n",
        "  criterion = nn.CrossEntropyLoss()\n",
        "  optimizer = torch.optim.Adam(mlp.parameters())\n",
        "\n",
        "  tic = time.perf_counter()\n",
        "  for epoch in range(n_epochs):\n",
        "    # Training\n",
        "    train_acc, train_loss = train_loop(epoch, mlp, train_loader, criterion, optimizer)\n",
        "    # train_acc, train_loss = train_loop(epoch, mlp, train_cifar, criterion, optimizer)\n",
        "    train_accs.append(train_acc)\n",
        "    train_losses.append(train_loss)\n",
        "\n",
        "    # Validation\n",
        "    val_acc, val_loss = valid_loop(epoch, mlp, val_loader, criterion)\n",
        "    # val_acc, val_loss = valid_loop(epoch, mlp, valid_cifar, criterion)\n",
        "    val_accs.append(val_acc)\n",
        "    val_losses.append(val_loss)\n",
        "\n",
        "  toc = time.perf_counter()\n",
        "  print(f\"Time to train {toc - tic:0.4f} seconds\")"
      ],
      "metadata": {
        "id": "ZMeWCMs6dKOq",
        "colab": {
          "base_uri": "https://localhost:8080/"
        },
        "outputId": "7c9dd992-6ac8-4276-97e4-6772a24f2282"
      },
      "execution_count": 18,
      "outputs": [
        {
          "output_type": "stream",
          "name": "stdout",
          "text": [
            "MLP(\n",
            "  (model): Sequential(\n",
            "    (0): Linear(in_features=16384, out_features=2048, bias=True)\n",
            "    (1): ReLU()\n",
            "    (2): Dropout(p=0.05, inplace=False)\n",
            "    (3): Linear(in_features=2048, out_features=1024, bias=True)\n",
            "    (4): ReLU()\n",
            "    (5): Dropout(p=0.05, inplace=False)\n",
            "    (6): Linear(in_features=1024, out_features=1024, bias=True)\n",
            "    (7): ReLU()\n",
            "    (8): Dropout(p=0.05, inplace=False)\n",
            "    (9): Linear(in_features=1024, out_features=1024, bias=True)\n",
            "    (10): ReLU()\n",
            "    (11): Dropout(p=0.05, inplace=False)\n",
            "    (12): Linear(in_features=1024, out_features=512, bias=True)\n",
            "    (13): ReLU()\n",
            "    (14): Dropout(p=0.05, inplace=False)\n",
            "    (15): Linear(in_features=512, out_features=254, bias=True)\n",
            "    (16): ReLU()\n",
            "    (17): Dropout(p=0.05, inplace=False)\n",
            "    (18): Linear(in_features=254, out_features=3, bias=True)\n",
            "  )\n",
            ")\n",
            "Number of parameter: 38409723\n",
            "Epoch: 0 | Train Acc: 0.371416 | Train Loss: 1.117496\n",
            "Epoch: 0 | Val Acc: 0.385305   | Val Loss: 1.083387\n",
            "Epoch: 1 | Train Acc: 0.367832 | Train Loss: 1.081529\n",
            "Epoch: 1 | Val Acc: 0.385305   | Val Loss: 1.150899\n",
            "Epoch: 2 | Train Acc: 0.383289 | Train Loss: 1.088873\n",
            "Epoch: 2 | Val Acc: 0.385305   | Val Loss: 1.082912\n",
            "Epoch: 3 | Train Acc: 0.380600 | Train Loss: 1.084336\n",
            "Epoch: 3 | Val Acc: 0.385305   | Val Loss: 1.080183\n",
            "Epoch: 4 | Train Acc: 0.370296 | Train Loss: 1.082679\n",
            "Epoch: 4 | Val Acc: 0.376344   | Val Loss: 1.080026\n",
            "Epoch: 5 | Train Acc: 0.374328 | Train Loss: 1.082008\n",
            "Epoch: 5 | Val Acc: 0.385305   | Val Loss: 1.079238\n",
            "Epoch: 6 | Train Acc: 0.366711 | Train Loss: 1.082521\n",
            "Epoch: 6 | Val Acc: 0.385305   | Val Loss: 1.078932\n",
            "Epoch: 7 | Train Acc: 0.381048 | Train Loss: 1.082631\n",
            "Epoch: 7 | Val Acc: 0.376344   | Val Loss: 1.078939\n",
            "Epoch: 8 | Train Acc: 0.356407 | Train Loss: 1.082817\n",
            "Epoch: 8 | Val Acc: 0.376344   | Val Loss: 1.079278\n",
            "Epoch: 9 | Train Acc: 0.375672 | Train Loss: 1.082420\n",
            "Epoch: 9 | Val Acc: 0.385305   | Val Loss: 1.079429\n",
            "Epoch: 10 | Train Acc: 0.368504 | Train Loss: 1.082214\n",
            "Epoch: 10 | Val Acc: 0.385305   | Val Loss: 1.078895\n",
            "Epoch: 11 | Train Acc: 0.377688 | Train Loss: 1.082245\n",
            "Epoch: 11 | Val Acc: 0.385305   | Val Loss: 1.079332\n",
            "Time to train 164.5269 seconds\n"
          ]
        }
      ]
    },
    {
      "cell_type": "code",
      "source": [
        "if __name__ == \"__main__\":\n",
        "    plt.figure(0)\n",
        "    plt.ylabel(\"Training loss\")\n",
        "    plt.xlabel(\"Epoch\")\n",
        "    plt.figure(1)\n",
        "    plt.ylabel(\"Training accuracy\")\n",
        "    plt.xlabel(\"Epoch\")\n",
        "\n",
        "    plt.figure(0)\n",
        "    plt.plot(train_losses, label=\"Training\")\n",
        "    plt.plot(val_losses, label=\"Validation\")\n",
        "    plt.legend(loc=\"upper left\")\n",
        "\n",
        "    plt.figure(1)\n",
        "    plt.plot(train_accs, label=\"Training\")\n",
        "    plt.plot(val_accs, label=\"Validation\")\n",
        "    plt.legend(loc=\"upper left\")"
      ],
      "metadata": {
        "colab": {
          "base_uri": "https://localhost:8080/",
          "height": 541
        },
        "id": "diyArGAxQfwS",
        "outputId": "459ace72-6ba0-446a-e9c1-4ea56848136b"
      },
      "execution_count": 21,
      "outputs": [
        {
          "output_type": "display_data",
          "data": {
            "text/plain": [
              "<Figure size 432x288 with 1 Axes>"
            ],
            "image/png": "[encoded data removed]"
          },
          "metadata": {
            "needs_background": "light"
          }
        },
        {
          "output_type": "display_data",
          "data": {
            "text/plain": [
              "<Figure size 432x288 with 1 Axes>"
            ],
            "image/png": "[encoded data removed]"
          },
          "metadata": {
            "needs_background": "light"
          }
        }
      ]
    },
    {
      "cell_type": "markdown",
      "source": [
        "### Resnet-18"
      ],
      "metadata": {
        "id": "GSDGC_SLcjZG"
      }
    },
    {
      "cell_type": "markdown",
      "source": [
        "After that, we can try with Resnet-18. This might be overkill, but why not, I won't trade any real money in the end"
      ],
      "metadata": {
        "id": "CVONtmeVJFty"
      }
    },
    {
      "cell_type": "code",
      "source": [
        "class ResidualBlock(nn.Module):\n",
        "  \"\"\"This class implements the Residual Block used in ResNet-18.\"\"\"\n",
        "\n",
        "  def __init__(self, in_channels, channels, conv_stride=1, activation_str=\"relu\", initialization=\"xavier_normal\"):\n",
        "    \"\"\"\n",
        "      Constructor for the ResidualBlock class.\n",
        "    \"\"\"\n",
        "    super(ResidualBlock, self).__init__()\n",
        "\n",
        "    self.in_channels = in_channels\n",
        "    self.channels = channels\n",
        "    self.conv_stride = conv_stride\n",
        "    self.activation_str = activation_str\n",
        "    self.initialization = initialization\n",
        "\n",
        "    # Define these members by replacing `None` with the correct definitions\n",
        "    self.conv1 = nn.Conv2d(in_channels, channels, 3, stride=conv_stride, padding=1, bias=False)\n",
        "    self.bn1 = nn.BatchNorm2d(channels)\n",
        "    self.conv2 = nn.Conv2d(channels, channels, 3, stride=1, padding=1, bias=False)\n",
        "    self.bn2 = nn.BatchNorm2d(channels)\n",
        "\n",
        "    self.residual_connection = self.residual(in_channels, channels, conv_stride)\n",
        "\n",
        "    # Initialize weights for conv1 and conv2\n",
        "    if initialization == \"xavier_normal\":\n",
        "      nn.init.xavier_normal_(self.conv1.weight)\n",
        "      nn.init.xavier_normal_(self.conv2.weight)\n",
        "    elif initialization == \"xavier_uniform\": \n",
        "      nn.init.xavier_uniform_(self.conv1.weight)\n",
        "      nn.init.xavier_uniform_(self.conv2.weight)\n",
        "    elif initialization == \"kaiming_normal\": \n",
        "      nn.init.kaiming_normal_(self.conv1.weight)\n",
        "      nn.init.kaiming_normal_(self.conv2.weight)\n",
        "    else:\n",
        "      raise Exception(\"Invalid initialization\")\n",
        "\n",
        "  def activation(self, input):\n",
        "    \"\"\"\n",
        "      Output: Result of activation function applied on input.\n",
        "    \"\"\"\n",
        "    if self.activation_str == \"relu\":\n",
        "      return torch.relu(input)\n",
        "    elif self.activation_str == \"tanh\":\n",
        "      return torch.tanh(input)\n",
        "    else:\n",
        "      raise Exception(\"Invalid activation\")\n",
        "\n",
        "  def residual(self, in_channels, channels, conv_stride=1):\n",
        "    \"\"\"\n",
        "      Output: Returns an nn.Sequential object which computes the identity function or downsamples\n",
        "              followed by a BatchNorm2d.\n",
        "    \"\"\"\n",
        "    layers = []\n",
        "    if conv_stride != 1 or in_channels != channels:\n",
        "      layers.append(nn.Conv2d(in_channels, channels, 1, stride=conv_stride, padding=0, bias=False))\n",
        "      layers.append(nn.BatchNorm2d(channels))\n",
        "    return nn.Sequential(*layers)\n",
        "\n",
        "  def forward(self, x):\n",
        "    \"\"\"\n",
        "      Outputs: Returns the output of the forward pass of the block.\n",
        "    \"\"\"\n",
        "    identity = x\n",
        "\n",
        "    out = self.conv1(x)\n",
        "    out = self.bn1(out)\n",
        "    out = self.activation(out)\n",
        "\n",
        "    out = self.conv2(out)\n",
        "    out = self.bn2(out)\n",
        "\n",
        "    out += self.residual_connection(identity)\n",
        "    out = self.activation(out)\n",
        "\n",
        "    return out"
      ],
      "metadata": {
        "id": "zC5UvxiWHVf6"
      },
      "execution_count": 22,
      "outputs": []
    },
    {
      "cell_type": "markdown",
      "source": [
        "We can than create the model"
      ],
      "metadata": {
        "id": "8zps0LA5JaZZ"
      }
    },
    {
      "cell_type": "code",
      "source": [
        "class ResNet18(nn.Module):\n",
        "  \"\"\"This class implements the ResNet-18 architecture from its components.\"\"\"\n",
        "\n",
        "  def __init__(self, activation_str=\"relu\", initialization=\"xavier_normal\"):\n",
        "    \"\"\"\n",
        "      Constructor for the ResNet18 class.\n",
        "    \"\"\"\n",
        "    super(ResNet18, self).__init__()\n",
        "\n",
        "    self.n_classes = 10\n",
        "    self.activation_str = activation_str\n",
        "    self.initialization = initialization\n",
        "\n",
        "    self.conv1 = nn.Conv2d(4, 64, 3, stride=1, padding=1, bias=False)\n",
        "    self.bn1 = nn.BatchNorm2d(64)\n",
        "    self.layer1 = self._create_layer(64, 64) \n",
        "    self.layer2 = self._create_layer(64, 128, conv_stride=2)\n",
        "    self.layer3 = self._create_layer(128, 256, conv_stride=2)\n",
        "    self.layer4 = self._create_layer(256, 512, conv_stride=2)  \n",
        "    self.avgpool = nn.AdaptiveAvgPool2d((1,1))\n",
        "    self.linear = nn.Linear(512, 3)\n",
        "  \n",
        "  def activation(self, input):\n",
        "    \"\"\"\n",
        "      Output: Result of activation function applied on input.\n",
        "    \"\"\"\n",
        "    if self.activation_str == \"relu\":\n",
        "      return torch.relu(input)\n",
        "    elif self.activation_str == \"tanh\":\n",
        "      return torch.tanh(input)\n",
        "    else:\n",
        "      raise Exception(\"Invalid activation\")\n",
        "\n",
        "  def _create_layer(self, in_channels, channels, conv_stride=1):\n",
        "    \"\"\"\n",
        "      Outputs: Returns an nn.Sequential object giving a \"layer\" of the ResNet, consisting of 2 blocks each.\n",
        "    \"\"\"\n",
        "    return nn.Sequential(\n",
        "        ResidualBlock(in_channels, channels, conv_stride=conv_stride, activation_str=self.activation_str, initialization=self.initialization),\n",
        "        ResidualBlock(channels, channels, conv_stride=1, activation_str=self.activation_str, initialization=self.initialization)\n",
        "    )\n",
        "\n",
        "  def get_first_conv_layer_filters(self):\n",
        "    \"\"\"\n",
        "      Outputs: Returns the filters in the first convolution layer.\n",
        "    \"\"\"\n",
        "    return self.conv1.weight.clone().cpu().detach().numpy()\n",
        "\n",
        "  def get_last_conv_layer_filters(self):\n",
        "    \"\"\"\n",
        "      Outputs: Returns the filters in the last convolution layer.\n",
        "    \"\"\"\n",
        "    return list(self.layer4.modules())[1].conv2.weight.clone().cpu().detach().numpy()\n",
        "\n",
        "  def forward(self, x):\n",
        "    \"\"\"\n",
        "      Outputs: Returns the output of the forward pass of the network.\n",
        "    \"\"\"\n",
        "    out = self.conv1(x)\n",
        "    out = self.bn1(out)\n",
        "    out = self.activation(out)\n",
        "\n",
        "    out = self.layer1(out)\n",
        "    out = self.layer2(out)\n",
        "    out = self.layer3(out)\n",
        "    out = self.layer4(out)\n",
        "    \n",
        "    out = self.avgpool(out)\n",
        "    out = torch.flatten(out, 1)\n",
        "    out = self.linear(out)\n",
        "\n",
        "    return out"
      ],
      "metadata": {
        "id": "PQEYJqEnIoeS"
      },
      "execution_count": 23,
      "outputs": []
    },
    {
      "cell_type": "code",
      "source": [
        "# Parameter we will use\n",
        "activation_str = \"relu\"\n",
        "initialization = \"xavier_normal\""
      ],
      "metadata": {
        "id": "p9T2Rjk8Irxk"
      },
      "execution_count": 24,
      "outputs": []
    },
    {
      "cell_type": "code",
      "source": [
        "# Training\n",
        "if __name__ == \"__main__\":\n",
        "  use_cuda = torch.cuda.is_available()\n",
        "  device = torch.device(\"cuda:0\" if use_cuda else \"cpu\")\n",
        "\n",
        "  train_accs, train_losses, val_accs, val_losses = [], [], [], []\n",
        "  n_epochs = 25\n",
        "\n",
        "  model = ResNet18(\n",
        "    activation_str=activation_str,\n",
        "    initialization=initialization\n",
        "  ).to(device)\n",
        "  criterion = nn.CrossEntropyLoss()\n",
        "  optimizer = optim.Adam(model.parameters())\n",
        "  \n",
        "  for epoch in range(n_epochs):\n",
        "    # Training\n",
        "    train_acc, train_loss = train_loop(epoch, model, train_loader, criterion, optimizer)\n",
        "    # train_acc, train_loss = train_loop(epoch, model, train_cifar, criterion, optimizer)\n",
        "    train_accs.append(train_acc)\n",
        "    train_losses.append(train_loss)\n",
        "\n",
        "    # Validation\n",
        "    val_acc, val_loss = valid_loop(epoch, model, val_loader, criterion)\n",
        "    # val_acc, val_loss = valid_loop(epoch, model, valid_cifar, criterion)\n",
        "    val_accs.append(val_acc)\n",
        "    val_losses.append(val_loss)\n",
        "     "
      ],
      "metadata": {
        "colab": {
          "base_uri": "https://localhost:8080/"
        },
        "id": "mjOLei3SJn6v",
        "outputId": "4face6ba-bc1b-4473-8bea-7ff201c8c958"
      },
      "execution_count": 25,
      "outputs": [
        {
          "output_type": "stream",
          "name": "stdout",
          "text": [
            "Epoch: 0 | Train Acc: 0.530914 | Train Loss: 0.944106\n",
            "Epoch: 0 | Val Acc: 0.567204   | Val Loss: 0.900233\n",
            "Epoch: 1 | Train Acc: 0.595654 | Train Loss: 0.849617\n",
            "Epoch: 1 | Val Acc: 0.565412   | Val Loss: 0.912929\n",
            "Epoch: 2 | Train Acc: 0.603271 | Train Loss: 0.824863\n",
            "Epoch: 2 | Val Acc: 0.589606   | Val Loss: 0.961202\n",
            "Epoch: 3 | Train Acc: 0.630376 | Train Loss: 0.795507\n",
            "Epoch: 3 | Val Acc: 0.592294   | Val Loss: 0.851412\n",
            "Epoch: 4 | Train Acc: 0.630376 | Train Loss: 0.782616\n",
            "Epoch: 4 | Val Acc: 0.601254   | Val Loss: 0.888820\n",
            "Epoch: 5 | Train Acc: 0.657258 | Train Loss: 0.749886\n",
            "Epoch: 5 | Val Acc: 0.557348   | Val Loss: 0.904955\n",
            "Epoch: 6 | Train Acc: 0.663082 | Train Loss: 0.738926\n",
            "Epoch: 6 | Val Acc: 0.539427   | Val Loss: 1.165209\n",
            "Epoch: 7 | Train Acc: 0.687052 | Train Loss: 0.702302\n",
            "Epoch: 7 | Val Acc: 0.606631   | Val Loss: 0.881408\n",
            "Epoch: 8 | Train Acc: 0.715502 | Train Loss: 0.655406\n",
            "Epoch: 8 | Val Acc: 0.393369   | Val Loss: 1.907968\n",
            "Epoch: 9 | Train Acc: 0.734991 | Train Loss: 0.606176\n",
            "Epoch: 9 | Val Acc: 0.501792   | Val Loss: 1.286242\n",
            "Epoch: 10 | Train Acc: 0.771505 | Train Loss: 0.519905\n",
            "Epoch: 10 | Val Acc: 0.581541   | Val Loss: 1.062111\n",
            "Epoch: 11 | Train Acc: 0.818772 | Train Loss: 0.448454\n",
            "Epoch: 11 | Val Acc: 0.399642   | Val Loss: 3.845566\n",
            "Epoch: 12 | Train Acc: 0.872984 | Train Loss: 0.321164\n",
            "Epoch: 12 | Val Acc: 0.590502   | Val Loss: 1.417724\n",
            "Epoch: 13 | Train Acc: 0.902554 | Train Loss: 0.253522\n",
            "Epoch: 13 | Val Acc: 0.479391   | Val Loss: 2.861291\n",
            "Epoch: 14 | Train Acc: 0.926523 | Train Loss: 0.198062\n",
            "Epoch: 14 | Val Acc: 0.470430   | Val Loss: 3.662680\n",
            "Epoch: 15 | Train Acc: 0.946013 | Train Loss: 0.151735\n",
            "Epoch: 15 | Val Acc: 0.585125   | Val Loss: 2.364178\n",
            "Epoch: 16 | Train Acc: 0.964158 | Train Loss: 0.104575\n",
            "Epoch: 16 | Val Acc: 0.558244   | Val Loss: 2.174683\n",
            "Epoch: 17 | Train Acc: 0.971102 | Train Loss: 0.083397\n",
            "Epoch: 17 | Val Acc: 0.566308   | Val Loss: 2.532432\n",
            "Epoch: 18 | Train Acc: 0.971998 | Train Loss: 0.078540\n",
            "Epoch: 18 | Val Acc: 0.542115   | Val Loss: 2.516891\n",
            "Epoch: 19 | Train Acc: 0.977151 | Train Loss: 0.061676\n",
            "Epoch: 19 | Val Acc: 0.571685   | Val Loss: 2.255269\n",
            "Epoch: 20 | Train Acc: 0.978495 | Train Loss: 0.061905\n",
            "Epoch: 20 | Val Acc: 0.544803   | Val Loss: 2.592576\n",
            "Epoch: 21 | Train Acc: 0.975358 | Train Loss: 0.067605\n",
            "Epoch: 21 | Val Acc: 0.531362   | Val Loss: 3.034352\n",
            "Epoch: 22 | Train Acc: 0.967518 | Train Loss: 0.084953\n",
            "Epoch: 22 | Val Acc: 0.570789   | Val Loss: 2.812361\n",
            "Epoch: 23 | Train Acc: 0.982527 | Train Loss: 0.051244\n",
            "Epoch: 23 | Val Acc: 0.567204   | Val Loss: 2.642823\n",
            "Epoch: 24 | Train Acc: 0.988127 | Train Loss: 0.036470\n",
            "Epoch: 24 | Val Acc: 0.587814   | Val Loss: 2.312846\n"
          ]
        }
      ]
    },
    {
      "cell_type": "code",
      "source": [
        "if __name__ == \"__main__\":\n",
        "    plt.figure(0)\n",
        "    plt.ylabel(\"Training loss\")\n",
        "    plt.xlabel(\"Epoch\")\n",
        "    plt.figure(1)\n",
        "    plt.ylabel(\"Training accuracy\")\n",
        "    plt.xlabel(\"Epoch\")\n",
        "\n",
        "    plt.figure(0)\n",
        "    plt.plot(train_losses, label=\"Training\")\n",
        "    plt.plot(val_losses, label=\"Validation\")\n",
        "    plt.legend(loc=\"upper left\")\n",
        "\n",
        "    plt.figure(1)\n",
        "    plt.plot(train_accs, label=\"Training\")\n",
        "    plt.plot(val_accs, label=\"Validation\")\n",
        "    plt.legend(loc=\"upper left\")"
      ],
      "metadata": {
        "id": "E7qE4H8ryIzT",
        "outputId": "1a0f4dbd-87dd-46da-b345-da4985722c18",
        "colab": {
          "base_uri": "https://localhost:8080/",
          "height": 543
        }
      },
      "execution_count": 26,
      "outputs": [
        {
          "output_type": "display_data",
          "data": {
            "text/plain": [
              "<Figure size 432x288 with 1 Axes>"
            ],
            "image/png": "[encoded data removed]"
          },
          "metadata": {
            "needs_background": "light"
          }
        },
        {
          "output_type": "display_data",
          "data": {
            "text/plain": [
              "<Figure size 432x288 with 1 Axes>"
            ],
            "image/png": "[encoded data removed]"
          },
          "metadata": {
            "needs_background": "light"
          }
        }
      ]
    },
    {
      "cell_type": "code",
      "source": [
        "if __name__ == \"__main__\":\n",
        "    torch.save(model, \"resnet18\")"
      ],
      "metadata": {
        "id": "JkE0SOY3JxpU"
      },
      "execution_count": 25,
      "outputs": []
    },
    {
      "cell_type": "code",
      "source": [
        "if __name__ == \"__main__\":\n",
        "    model = torch.load(\"resnet18\")"
      ],
      "metadata": {
        "id": "L9LO8nisJzy8"
      },
      "execution_count": null,
      "outputs": []
    },
    {
      "cell_type": "markdown",
      "source": [
        "Let's see if the model learn something"
      ],
      "metadata": {
        "id": "CBEIn2-pJ2Cz"
      }
    },
    {
      "cell_type": "code",
      "source": [],
      "metadata": {
        "id": "QqC_niU2J60I"
      },
      "execution_count": null,
      "outputs": []
    }
  ]
}