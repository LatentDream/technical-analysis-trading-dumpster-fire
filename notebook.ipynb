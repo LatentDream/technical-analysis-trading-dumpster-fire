{
  "nbformat": 4,
  "nbformat_minor": 0,
  "metadata": {
    "colab": {
      "provenance": [],
      "authorship_tag": "ABX9TyNDUqEM3sQI+6NCnawkhKCo",
      "include_colab_link": true
    },
    "kernelspec": {
      "name": "python3",
      "display_name": "Python 3"
    },
    "language_info": {
      "name": "python"
    },
    "accelerator": "GPU",
    "gpuClass": "standard"
  },
  "cells": [
    {
      "cell_type": "markdown",
      "metadata": {
        "id": "view-in-github",
        "colab_type": "text"
      },
      "source": [
        "<a href=\"https://colab.research.google.com/github/guthi1/technical-analysis-trading-dumpster-fire/blob/main/notebook.ipynb\" target=\"_parent\"><img src=\"https://colab.research.google.com/assets/colab-badge.svg\" alt=\"Open In Colab\"/></a>"
      ]
    },
    {
      "cell_type": "markdown",
      "source": [
        "# PolyFinances article"
      ],
      "metadata": {
        "id": "TGZQ-Jkye0BQ"
      }
    },
    {
      "cell_type": "code",
      "source": [
        "!nvidia-smi"
      ],
      "metadata": {
        "colab": {
          "base_uri": "https://localhost:8080/"
        },
        "id": "wVTwFhzsRvVk",
        "outputId": "44833521-c891-42c4-8168-a0910ba5ddb9"
      },
      "execution_count": 1,
      "outputs": [
        {
          "output_type": "stream",
          "name": "stdout",
          "text": [
            "Sat Feb 18 22:28:18 2023       \n",
            "+-----------------------------------------------------------------------------+\n",
            "| NVIDIA-SMI 510.47.03    Driver Version: 510.47.03    CUDA Version: 11.6     |\n",
            "|-------------------------------+----------------------+----------------------+\n",
            "| GPU  Name        Persistence-M| Bus-Id        Disp.A | Volatile Uncorr. ECC |\n",
            "| Fan  Temp  Perf  Pwr:Usage/Cap|         Memory-Usage | GPU-Util  Compute M. |\n",
            "|                               |                      |               MIG M. |\n",
            "|===============================+======================+======================|\n",
            "|   0  Tesla T4            Off  | 00000000:00:04.0 Off |                    0 |\n",
            "| N/A   73C    P0    32W /  70W |      0MiB / 15360MiB |      0%      Default |\n",
            "|                               |                      |                  N/A |\n",
            "+-------------------------------+----------------------+----------------------+\n",
            "                                                                               \n",
            "+-----------------------------------------------------------------------------+\n",
            "| Processes:                                                                  |\n",
            "|  GPU   GI   CI        PID   Type   Process name                  GPU Memory |\n",
            "|        ID   ID                                                   Usage      |\n",
            "|=============================================================================|\n",
            "|  No running processes found                                                 |\n",
            "+-----------------------------------------------------------------------------+\n"
          ]
        }
      ]
    },
    {
      "cell_type": "code",
      "execution_count": 10,
      "metadata": {
        "id": "iF5x7nDEdY9x",
        "colab": {
          "base_uri": "https://localhost:8080/"
        },
        "outputId": "1249b56e-2656-4c72-cffc-c8ed7983f286"
      },
      "outputs": [
        {
          "output_type": "stream",
          "name": "stdout",
          "text": [
            "Looking in indexes: https://pypi.org/simple, https://us-python.pkg.dev/colab-wheels/public/simple/\n",
            "Requirement already satisfied: yfinance in /usr/local/lib/python3.8/dist-packages (0.2.12)\n",
            "Requirement already satisfied: requests>=2.26 in /usr/local/lib/python3.8/dist-packages (from yfinance) (2.28.2)\n",
            "Requirement already satisfied: cryptography>=3.3.2 in /usr/local/lib/python3.8/dist-packages (from yfinance) (39.0.1)\n",
            "Requirement already satisfied: beautifulsoup4>=4.11.1 in /usr/local/lib/python3.8/dist-packages (from yfinance) (4.11.2)\n",
            "Requirement already satisfied: numpy>=1.16.5 in /usr/local/lib/python3.8/dist-packages (from yfinance) (1.21.6)\n",
            "Requirement already satisfied: pandas>=1.3.0 in /usr/local/lib/python3.8/dist-packages (from yfinance) (1.3.5)\n",
            "Requirement already satisfied: pytz>=2022.5 in /usr/local/lib/python3.8/dist-packages (from yfinance) (2022.7.1)\n",
            "Requirement already satisfied: appdirs>=1.4.4 in /usr/local/lib/python3.8/dist-packages (from yfinance) (1.4.4)\n",
            "Requirement already satisfied: lxml>=4.9.1 in /usr/local/lib/python3.8/dist-packages (from yfinance) (4.9.2)\n",
            "Requirement already satisfied: html5lib>=1.1 in /usr/local/lib/python3.8/dist-packages (from yfinance) (1.1)\n",
            "Requirement already satisfied: frozendict>=2.3.4 in /usr/local/lib/python3.8/dist-packages (from yfinance) (2.3.5)\n",
            "Requirement already satisfied: multitasking>=0.0.7 in /usr/local/lib/python3.8/dist-packages (from yfinance) (0.0.11)\n",
            "Requirement already satisfied: soupsieve>1.2 in /usr/local/lib/python3.8/dist-packages (from beautifulsoup4>=4.11.1->yfinance) (2.4)\n",
            "Requirement already satisfied: cffi>=1.12 in /usr/local/lib/python3.8/dist-packages (from cryptography>=3.3.2->yfinance) (1.15.1)\n",
            "Requirement already satisfied: six>=1.9 in /usr/local/lib/python3.8/dist-packages (from html5lib>=1.1->yfinance) (1.15.0)\n",
            "Requirement already satisfied: webencodings in /usr/local/lib/python3.8/dist-packages (from html5lib>=1.1->yfinance) (0.5.1)\n",
            "Requirement already satisfied: python-dateutil>=2.7.3 in /usr/local/lib/python3.8/dist-packages (from pandas>=1.3.0->yfinance) (2.8.2)\n",
            "Requirement already satisfied: certifi>=2017.4.17 in /usr/local/lib/python3.8/dist-packages (from requests>=2.26->yfinance) (2022.12.7)\n",
            "Requirement already satisfied: idna<4,>=2.5 in /usr/local/lib/python3.8/dist-packages (from requests>=2.26->yfinance) (2.10)\n",
            "Requirement already satisfied: urllib3<1.27,>=1.21.1 in /usr/local/lib/python3.8/dist-packages (from requests>=2.26->yfinance) (1.24.3)\n",
            "Requirement already satisfied: charset-normalizer<4,>=2 in /usr/local/lib/python3.8/dist-packages (from requests>=2.26->yfinance) (3.0.1)\n",
            "Requirement already satisfied: pycparser in /usr/local/lib/python3.8/dist-packages (from cffi>=1.12->cryptography>=3.3.2->yfinance) (2.21)\n",
            "Looking in indexes: https://pypi.org/simple, https://us-python.pkg.dev/colab-wheels/public/simple/\n",
            "Requirement already satisfied: tqdm in /usr/local/lib/python3.8/dist-packages (4.64.1)\n"
          ]
        }
      ],
      "source": [
        "# Install required librairy\n",
        "!pip install yfinance\n",
        "!pip install tqdm"
      ]
    },
    {
      "cell_type": "markdown",
      "source": [
        "#### Helper function"
      ],
      "metadata": {
        "id": "S5fvPGxxAYZD"
      }
    },
    {
      "cell_type": "code",
      "source": [
        "import os\n",
        "import contextlib\n",
        "@contextlib.contextmanager\n",
        "def directory(name):\n",
        "  ret = os.getcwd()\n",
        "  os.chdir(name)\n",
        "  yield None\n",
        "  os.chdir(ret)\n",
        "\n",
        "import subprocess\n",
        "def run(input, exception_on_failure=False):\n",
        "  try:\n",
        "    program_output = subprocess.check_output(f\"{input}\", shell=True, universal_newlines=True, stderr=subprocess.STDOUT)\n",
        "  except Exception as e:\n",
        "    if exception_on_failure:\n",
        "      raise e\n",
        "    program_output = e.output\n",
        "\n",
        "    return program_output\n",
        "\n",
        "def runp(input, exception_on_failure=False):\n",
        "    print(input)\n",
        "    print(run(input, exception_on_failure))\n"
      ],
      "metadata": {
        "id": "N492EWD8AXlQ"
      },
      "execution_count": 11,
      "outputs": []
    },
    {
      "cell_type": "code",
      "source": [
        "import pandas as pd\n",
        "import matplotlib.pyplot as plt\n",
        "import datetime\n",
        "import numpy as np\n",
        "import yfinance as yf\n",
        "from tqdm import tqdm"
      ],
      "metadata": {
        "id": "zD_g1JuKfx5z"
      },
      "execution_count": 12,
      "outputs": []
    },
    {
      "cell_type": "markdown",
      "source": [
        "#### Params"
      ],
      "metadata": {
        "id": "InaaXZsAAb_s"
      }
    },
    {
      "cell_type": "code",
      "source": [
        "DEBUG = False\n",
        "DATA_DIR = \"data/\"\n",
        "DATA_CANDLE = \"data/candle/\"\n",
        "DATA_NORMAL = \"data/normal/\"\n",
        "!mkdir data\n",
        "!mkdir data/candle\n",
        "!mkdir data/normal\n",
        "PRICE_INTERVAL = 2 # In minute, Must be in: 1m,2m,5m,15m,30m,60m,90m\n",
        "WINDOWS_INTERVAL = 60 # In minute, must be > than PRICE_INTERVAL\n",
        "assert WINDOWS_INTERVAL > PRICE_INTERVAL, \"window for analysis must be greater than the price interval\"\n",
        "\n",
        "HOLD = 0\n",
        "BUY = 1\n",
        "SELL = 2"
      ],
      "metadata": {
        "id": "wuce5Hq4ojJ-",
        "colab": {
          "base_uri": "https://localhost:8080/"
        },
        "outputId": "17817e77-5a17-4763-cb1e-c2b519c6977d"
      },
      "execution_count": 13,
      "outputs": [
        {
          "output_type": "stream",
          "name": "stdout",
          "text": [
            "mkdir: cannot create directory ‘data’: File exists\n",
            "mkdir: cannot create directory ‘data/candle’: File exists\n",
            "mkdir: cannot create directory ‘data/normal’: File exists\n"
          ]
        }
      ]
    },
    {
      "cell_type": "markdown",
      "source": [
        "## Create Dataset"
      ],
      "metadata": {
        "id": "1KK0lczQoX2Z"
      }
    },
    {
      "cell_type": "code",
      "source": [
        "tickers = [\"TSLA\",\"DKNG\", \"PLTR\", \"AMZN\", \"AAPL\", \"F\", \"AMD\", \"NVDA\", \"MARA\", \"NU\", \"NIO\", \"SNAP\", \"GOOGL\", \"SWN\", \"XP\", \"INTC\", \"CCL\", \"GOOG\", \"SOFI\", \"MSFT\", \"T\", \"BAC\", \"UBER\", \"OPEN\", \"AMC\", \"CS\", \"SHOP\", \"DVN\", \"CSCO\", \"META\", \"RIG\", \"DASH\", \"ITUB\", \"AMCR\", \"COIN\", \"RBLX\", \"LUMN\", \"LYFT\", \"AAL\", \"GOLD\", \"KMI\", \"CNNA\", \"XOM\", \"OXY\", \"KGC\", \"OKYO\", \"ROKU\", \"RIOT\", \"PFE\", \"ISEE\", \"PARA\", \"BABA\", \"MRO\", \"GRAB\", \"TOST\", \"SIRI\", \"PBR\", \"UUU\", \"AUY\", \"VALE\", \"KO\", \"RIVN\", \"PCG\", \"STEM\", \"NOK\", \"SI\", \"CMCSA\", \"LU\", \"CTRA\", \"WFC\", \"ET\", \"SOUN\", \"MPW\", \"GM\", \"INZY\", \"SPCE\", \"JNJ\", \"LYNG\", \"CSX\", \"C\", \"TLRY\", \"WMB\", \"FTI\", \"FTCH\", \"DBX\", \"FCX\", \"NCLH\", \"ABNB\", \"COP\", \"SQ\", \"TSM\", \"BMY\", \"BHC\", \"SABR\", \"FSLY\", \"MU\", \"PLUG\", \"CVE\", \"AEM\", \"BAX\", \"KHC\", \"HL\", \"NKLA\", \"QS\", \"PINS\", \"CVX\", \"HAL\", \"DIS\", \"MRK\", \"NEE\", \"EQT\", \"EXC\", \"BKR\", \"TWLO\", \"HOOD\", \"AMAT\", \"SLB\", \"XPEV\", \"HST\", \"DNB\", \"PTON\", \"HBI\", \"X\", \"OSH\", \"MRVL\", \"AR\", \"CLF\", \"NEM\", \"CHPT\", \"ELAN\", \"FUBO\", \"WMT\", \"TTD\", \"BTG\", \"MS\", \"AMAM\", \"CRM\", \"PG\", \"RDFN\", \"BSX\", \"KDP\", \"SNOW\", \"JPM\", \"HPE\", \"PR\", \"MO\", \"CX\", \"U\", \"WU\", \"PPL\", \"YMM\", \"RRC\", \"PDD\", \"LAZR\", \"NWL\", \"KOS\", \"TAL\", \"UAA\", \"MDLZ\", \"CVS\", \"MET\", \"ONEM\", \"CRK\", \"VTRS\", \"ON\", \"NET\", \"UNP\", \"ASX\", \"CHWY\", \"ARR\", \"SBUX\", \"MDT\", \"IQ\", \"UPST\", \"IAG\", \"UMC\", \"STLA\", \"IBN\", \"RITM\", \"NYCB\", \"GGB\", \"CPG\", \"FCEL\", \"RTX\", \"AG\", \"AGNC\"]"
      ],
      "metadata": {
        "id": "UZ8ew8fPRWLg"
      },
      "execution_count": 5,
      "outputs": []
    },
    {
      "cell_type": "code",
      "source": [
        "# Download the data\n",
        "data = yf.download(  # or pdr.get_data_yahoo(...\n",
        "        # tickers list or string as well\n",
        "        tickers = tickers,\n",
        "        # use \"period\" instead of start/end\n",
        "        # valid periods: 1d,5d,1mo,3mo,6mo,1y,2y,5y,10y,ytd,max\n",
        "        # (optional, default is '1mo')\n",
        "        period = \"5d\",\n",
        "        # fetch data by interval (including intraday if period < 60 days)\n",
        "        # valid intervals: 1m,2m,5m,15m,30m,60m,90m,1h,1d,5d,1wk,1mo,3mo\n",
        "        interval = f\"{PRICE_INTERVAL}m\",\n",
        "        # group by ticker (to access via data['SPY'])\n",
        "        # (optional, default is 'column')\n",
        "        group_by = 'ticker',\n",
        "        # attempt repair of missing data or currency mixups e.g. $/cents\n",
        "        repair = True,\n",
        "        # use threads for mass downloading\n",
        "        threads = True\n",
        "    )\n",
        "\n",
        "print(f\"Number of row: {len(data)}\")\n",
        "data.head()"
      ],
      "metadata": {
        "colab": {
          "base_uri": "https://localhost:8080/",
          "height": 0
        },
        "id": "calvm5Tdd9Ll",
        "outputId": "69de0351-b90f-4ce8-87e4-51a187b4c443"
      },
      "execution_count": 6,
      "outputs": [
        {
          "output_type": "stream",
          "name": "stdout",
          "text": [
            "[************          24%                       ]  45 of 186 completedDNB: fixed 1/31 value=0 errors in 2m price data: [Timestamp('2023-02-13 09:30:00-0500', tz='America/New_York')]\n",
            "[*********************100%***********************]  186 of 186 completed\n",
            "\n",
            "1 Failed download:\n",
            "- LYNG: No data found, symbol may be delisted\n",
            "Number of row: 975\n"
          ]
        },
        {
          "output_type": "execute_result",
          "data": {
            "text/plain": [
              "                                 SNOW                                      \\\n",
              "                                 Open        High         Low       Close   \n",
              "Datetime                                                                    \n",
              "2023-02-13 09:30:00-05:00  158.500000  160.100006  158.500000  159.740005   \n",
              "2023-02-13 09:32:00-05:00  159.970001  160.690002  158.220001  158.440002   \n",
              "2023-02-13 09:34:00-05:00  158.169998  158.289902  157.250000  157.365005   \n",
              "2023-02-13 09:36:00-05:00  157.360001  158.313004  157.050003  157.591400   \n",
              "2023-02-13 09:38:00-05:00  157.899994  158.600006  157.550003  158.550003   \n",
              "\n",
              "                                                 PLUG                  \\\n",
              "                            Adj Close Volume     Open    High     Low   \n",
              "Datetime                                                                \n",
              "2023-02-13 09:30:00-05:00  159.740005  90202  15.3400  15.360  15.170   \n",
              "2023-02-13 09:32:00-05:00  158.440002  38847  15.1800  15.220  15.020   \n",
              "2023-02-13 09:34:00-05:00  157.365005  29870  15.0400  15.080  14.870   \n",
              "2023-02-13 09:36:00-05:00  157.591400  15079  14.8901  15.035  14.885   \n",
              "2023-02-13 09:38:00-05:00  158.550003  25926  15.0150  15.130  15.010   \n",
              "\n",
              "                                    ...    VTRS                            \\\n",
              "                             Close  ...     Low   Close Adj Close  Volume   \n",
              "Datetime                            ...                                     \n",
              "2023-02-13 09:30:00-05:00  15.1701  ...  11.790  11.820    11.820  106149   \n",
              "2023-02-13 09:32:00-05:00  15.0400  ...  11.800  11.840    11.840   24808   \n",
              "2023-02-13 09:34:00-05:00  14.8900  ...  11.840  11.864    11.864   42986   \n",
              "2023-02-13 09:36:00-05:00  15.0200  ...  11.855  11.865    11.865   29398   \n",
              "2023-02-13 09:38:00-05:00  15.1200  ...  11.860  11.880    11.880  128529   \n",
              "\n",
              "                            LUMN                                           \n",
              "                            Open    High    Low   Close Adj Close  Volume  \n",
              "Datetime                                                                   \n",
              "2023-02-13 09:30:00-05:00  3.920  3.9500  3.860  3.8600    3.8600  917701  \n",
              "2023-02-13 09:32:00-05:00  3.860  3.9150  3.855  3.9150    3.9150  258486  \n",
              "2023-02-13 09:34:00-05:00  3.910  3.9300  3.900  3.9000    3.9000   92376  \n",
              "2023-02-13 09:36:00-05:00  3.910  3.9399  3.900  3.9282    3.9282  123768  \n",
              "2023-02-13 09:38:00-05:00  3.925  3.9300  3.915  3.9250    3.9250   65055  \n",
              "\n",
              "[5 rows x 1116 columns]"
            ],
            "text/html": [
              "\n",
              "  <div id=\"df-f6cc77d9-7cf5-4439-b584-ba1621c68fa6\">\n",
              "    <div class=\"colab-df-container\">\n",
              "      <div>\n",
              "<style scoped>\n",
              "    .dataframe tbody tr th:only-of-type {\n",
              "        vertical-align: middle;\n",
              "    }\n",
              "\n",
              "    .dataframe tbody tr th {\n",
              "        vertical-align: top;\n",
              "    }\n",
              "\n",
              "    .dataframe thead tr th {\n",
              "        text-align: left;\n",
              "    }\n",
              "\n",
              "    .dataframe thead tr:last-of-type th {\n",
              "        text-align: right;\n",
              "    }\n",
              "</style>\n",
              "<table border=\"1\" class=\"dataframe\">\n",
              "  <thead>\n",
              "    <tr>\n",
              "      <th></th>\n",
              "      <th colspan=\"6\" halign=\"left\">SNOW</th>\n",
              "      <th colspan=\"4\" halign=\"left\">PLUG</th>\n",
              "      <th>...</th>\n",
              "      <th colspan=\"4\" halign=\"left\">VTRS</th>\n",
              "      <th colspan=\"6\" halign=\"left\">LUMN</th>\n",
              "    </tr>\n",
              "    <tr>\n",
              "      <th></th>\n",
              "      <th>Open</th>\n",
              "      <th>High</th>\n",
              "      <th>Low</th>\n",
              "      <th>Close</th>\n",
              "      <th>Adj Close</th>\n",
              "      <th>Volume</th>\n",
              "      <th>Open</th>\n",
              "      <th>High</th>\n",
              "      <th>Low</th>\n",
              "      <th>Close</th>\n",
              "      <th>...</th>\n",
              "      <th>Low</th>\n",
              "      <th>Close</th>\n",
              "      <th>Adj Close</th>\n",
              "      <th>Volume</th>\n",
              "      <th>Open</th>\n",
              "      <th>High</th>\n",
              "      <th>Low</th>\n",
              "      <th>Close</th>\n",
              "      <th>Adj Close</th>\n",
              "      <th>Volume</th>\n",
              "    </tr>\n",
              "    <tr>\n",
              "      <th>Datetime</th>\n",
              "      <th></th>\n",
              "      <th></th>\n",
              "      <th></th>\n",
              "      <th></th>\n",
              "      <th></th>\n",
              "      <th></th>\n",
              "      <th></th>\n",
              "      <th></th>\n",
              "      <th></th>\n",
              "      <th></th>\n",
              "      <th></th>\n",
              "      <th></th>\n",
              "      <th></th>\n",
              "      <th></th>\n",
              "      <th></th>\n",
              "      <th></th>\n",
              "      <th></th>\n",
              "      <th></th>\n",
              "      <th></th>\n",
              "      <th></th>\n",
              "      <th></th>\n",
              "    </tr>\n",
              "  </thead>\n",
              "  <tbody>\n",
              "    <tr>\n",
              "      <th>2023-02-13 09:30:00-05:00</th>\n",
              "      <td>158.500000</td>\n",
              "      <td>160.100006</td>\n",
              "      <td>158.500000</td>\n",
              "      <td>159.740005</td>\n",
              "      <td>159.740005</td>\n",
              "      <td>90202</td>\n",
              "      <td>15.3400</td>\n",
              "      <td>15.360</td>\n",
              "      <td>15.170</td>\n",
              "      <td>15.1701</td>\n",
              "      <td>...</td>\n",
              "      <td>11.790</td>\n",
              "      <td>11.820</td>\n",
              "      <td>11.820</td>\n",
              "      <td>106149</td>\n",
              "      <td>3.920</td>\n",
              "      <td>3.9500</td>\n",
              "      <td>3.860</td>\n",
              "      <td>3.8600</td>\n",
              "      <td>3.8600</td>\n",
              "      <td>917701</td>\n",
              "    </tr>\n",
              "    <tr>\n",
              "      <th>2023-02-13 09:32:00-05:00</th>\n",
              "      <td>159.970001</td>\n",
              "      <td>160.690002</td>\n",
              "      <td>158.220001</td>\n",
              "      <td>158.440002</td>\n",
              "      <td>158.440002</td>\n",
              "      <td>38847</td>\n",
              "      <td>15.1800</td>\n",
              "      <td>15.220</td>\n",
              "      <td>15.020</td>\n",
              "      <td>15.0400</td>\n",
              "      <td>...</td>\n",
              "      <td>11.800</td>\n",
              "      <td>11.840</td>\n",
              "      <td>11.840</td>\n",
              "      <td>24808</td>\n",
              "      <td>3.860</td>\n",
              "      <td>3.9150</td>\n",
              "      <td>3.855</td>\n",
              "      <td>3.9150</td>\n",
              "      <td>3.9150</td>\n",
              "      <td>258486</td>\n",
              "    </tr>\n",
              "    <tr>\n",
              "      <th>2023-02-13 09:34:00-05:00</th>\n",
              "      <td>158.169998</td>\n",
              "      <td>158.289902</td>\n",
              "      <td>157.250000</td>\n",
              "      <td>157.365005</td>\n",
              "      <td>157.365005</td>\n",
              "      <td>29870</td>\n",
              "      <td>15.0400</td>\n",
              "      <td>15.080</td>\n",
              "      <td>14.870</td>\n",
              "      <td>14.8900</td>\n",
              "      <td>...</td>\n",
              "      <td>11.840</td>\n",
              "      <td>11.864</td>\n",
              "      <td>11.864</td>\n",
              "      <td>42986</td>\n",
              "      <td>3.910</td>\n",
              "      <td>3.9300</td>\n",
              "      <td>3.900</td>\n",
              "      <td>3.9000</td>\n",
              "      <td>3.9000</td>\n",
              "      <td>92376</td>\n",
              "    </tr>\n",
              "    <tr>\n",
              "      <th>2023-02-13 09:36:00-05:00</th>\n",
              "      <td>157.360001</td>\n",
              "      <td>158.313004</td>\n",
              "      <td>157.050003</td>\n",
              "      <td>157.591400</td>\n",
              "      <td>157.591400</td>\n",
              "      <td>15079</td>\n",
              "      <td>14.8901</td>\n",
              "      <td>15.035</td>\n",
              "      <td>14.885</td>\n",
              "      <td>15.0200</td>\n",
              "      <td>...</td>\n",
              "      <td>11.855</td>\n",
              "      <td>11.865</td>\n",
              "      <td>11.865</td>\n",
              "      <td>29398</td>\n",
              "      <td>3.910</td>\n",
              "      <td>3.9399</td>\n",
              "      <td>3.900</td>\n",
              "      <td>3.9282</td>\n",
              "      <td>3.9282</td>\n",
              "      <td>123768</td>\n",
              "    </tr>\n",
              "    <tr>\n",
              "      <th>2023-02-13 09:38:00-05:00</th>\n",
              "      <td>157.899994</td>\n",
              "      <td>158.600006</td>\n",
              "      <td>157.550003</td>\n",
              "      <td>158.550003</td>\n",
              "      <td>158.550003</td>\n",
              "      <td>25926</td>\n",
              "      <td>15.0150</td>\n",
              "      <td>15.130</td>\n",
              "      <td>15.010</td>\n",
              "      <td>15.1200</td>\n",
              "      <td>...</td>\n",
              "      <td>11.860</td>\n",
              "      <td>11.880</td>\n",
              "      <td>11.880</td>\n",
              "      <td>128529</td>\n",
              "      <td>3.925</td>\n",
              "      <td>3.9300</td>\n",
              "      <td>3.915</td>\n",
              "      <td>3.9250</td>\n",
              "      <td>3.9250</td>\n",
              "      <td>65055</td>\n",
              "    </tr>\n",
              "  </tbody>\n",
              "</table>\n",
              "<p>5 rows × 1116 columns</p>\n",
              "</div>\n",
              "      <button class=\"colab-df-convert\" onclick=\"convertToInteractive('df-f6cc77d9-7cf5-4439-b584-ba1621c68fa6')\"\n",
              "              title=\"Convert this dataframe to an interactive table.\"\n",
              "              style=\"display:none;\">\n",
              "        \n",
              "  <svg xmlns=\"http://www.w3.org/2000/svg\" height=\"24px\"viewBox=\"0 0 24 24\"\n",
              "       width=\"24px\">\n",
              "    <path d=\"M0 0h24v24H0V0z\" fill=\"none\"/>\n",
              "    <path d=\"M18.56 5.44l.94 2.06.94-2.06 2.06-.94-2.06-.94-.94-2.06-.94 2.06-2.06.94zm-11 1L8.5 8.5l.94-2.06 2.06-.94-2.06-.94L8.5 2.5l-.94 2.06-2.06.94zm10 10l.94 2.06.94-2.06 2.06-.94-2.06-.94-.94-2.06-.94 2.06-2.06.94z\"/><path d=\"M17.41 7.96l-1.37-1.37c-.4-.4-.92-.59-1.43-.59-.52 0-1.04.2-1.43.59L10.3 9.45l-7.72 7.72c-.78.78-.78 2.05 0 2.83L4 21.41c.39.39.9.59 1.41.59.51 0 1.02-.2 1.41-.59l7.78-7.78 2.81-2.81c.8-.78.8-2.07 0-2.86zM5.41 20L4 18.59l7.72-7.72 1.47 1.35L5.41 20z\"/>\n",
              "  </svg>\n",
              "      </button>\n",
              "      \n",
              "  <style>\n",
              "    .colab-df-container {\n",
              "      display:flex;\n",
              "      flex-wrap:wrap;\n",
              "      gap: 12px;\n",
              "    }\n",
              "\n",
              "    .colab-df-convert {\n",
              "      background-color: #E8F0FE;\n",
              "      border: none;\n",
              "      border-radius: 50%;\n",
              "      cursor: pointer;\n",
              "      display: none;\n",
              "      fill: #1967D2;\n",
              "      height: 32px;\n",
              "      padding: 0 0 0 0;\n",
              "      width: 32px;\n",
              "    }\n",
              "\n",
              "    .colab-df-convert:hover {\n",
              "      background-color: #E2EBFA;\n",
              "      box-shadow: 0px 1px 2px rgba(60, 64, 67, 0.3), 0px 1px 3px 1px rgba(60, 64, 67, 0.15);\n",
              "      fill: #174EA6;\n",
              "    }\n",
              "\n",
              "    [theme=dark] .colab-df-convert {\n",
              "      background-color: #3B4455;\n",
              "      fill: #D2E3FC;\n",
              "    }\n",
              "\n",
              "    [theme=dark] .colab-df-convert:hover {\n",
              "      background-color: #434B5C;\n",
              "      box-shadow: 0px 1px 3px 1px rgba(0, 0, 0, 0.15);\n",
              "      filter: drop-shadow(0px 1px 2px rgba(0, 0, 0, 0.3));\n",
              "      fill: #FFFFFF;\n",
              "    }\n",
              "  </style>\n",
              "\n",
              "      <script>\n",
              "        const buttonEl =\n",
              "          document.querySelector('#df-f6cc77d9-7cf5-4439-b584-ba1621c68fa6 button.colab-df-convert');\n",
              "        buttonEl.style.display =\n",
              "          google.colab.kernel.accessAllowed ? 'block' : 'none';\n",
              "\n",
              "        async function convertToInteractive(key) {\n",
              "          const element = document.querySelector('#df-f6cc77d9-7cf5-4439-b584-ba1621c68fa6');\n",
              "          const dataTable =\n",
              "            await google.colab.kernel.invokeFunction('convertToInteractive',\n",
              "                                                     [key], {});\n",
              "          if (!dataTable) return;\n",
              "\n",
              "          const docLinkHtml = 'Like what you see? Visit the ' +\n",
              "            '<a target=\"_blank\" href=https://colab.research.google.com/notebooks/data_table.ipynb>data table notebook</a>'\n",
              "            + ' to learn more about interactive tables.';\n",
              "          element.innerHTML = '';\n",
              "          dataTable['output_type'] = 'display_data';\n",
              "          await google.colab.output.renderOutput(dataTable, element);\n",
              "          const docLink = document.createElement('div');\n",
              "          docLink.innerHTML = docLinkHtml;\n",
              "          element.appendChild(docLink);\n",
              "        }\n",
              "      </script>\n",
              "    </div>\n",
              "  </div>\n",
              "  "
            ]
          },
          "metadata": {},
          "execution_count": 6
        }
      ]
    },
    {
      "cell_type": "markdown",
      "source": [
        "Build dataset"
      ],
      "metadata": {
        "id": "40KdeKTSD948"
      }
    },
    {
      "cell_type": "code",
      "source": [
        "plot_number = 0\n",
        "# Dataframe to save the value we need\n",
        "dataset={\"candle_path\": [], \"action\": [], \"info\": [], \"filename\": []}"
      ],
      "metadata": {
        "id": "TmFepAAuGoKt"
      },
      "execution_count": 7,
      "outputs": []
    },
    {
      "cell_type": "code",
      "source": [
        "# Let's try it for ford first\n",
        "for ticker in tqdm(tickers):\n",
        "    ticker_data = data[ticker].copy(deep=True)\n",
        "    ticker_data.dropna() # Sanity check\n",
        "    ticker_data[\"datetime\"] = ticker_data.index\n",
        "\n",
        "    # Find Dataset range\n",
        "    day = ticker_data['datetime'].min()\n",
        "    last_end = ticker_data['datetime'].max()\n",
        "    if DEBUG: print(f\"From {day} to {last_end}\")\n",
        "\n",
        "    plt.close()\n",
        "\n",
        "    while day <= last_end:\n",
        "        if DEBUG: print(f\"{day}\")\n",
        "\n",
        "        start_window = day\n",
        "        end_window = start_window + datetime.timedelta(minutes=WINDOWS_INTERVAL)\n",
        "        end_of_day = day + datetime.timedelta(hours=6.5)\n",
        "\n",
        "        while start_window < end_of_day - datetime.timedelta(minutes=WINDOWS_INTERVAL):\n",
        "            if DEBUG: print(f\"    {start_window}\")\n",
        "\n",
        "            # Create a mask for the desired window\n",
        "            mask = (ticker_data['datetime'] > start_window) & (ticker_data['datetime'] <= end_window)\n",
        "            window_data = ticker_data.loc[mask]\n",
        "            \"\"\" TODO: This could be change to something smarter \"\"\"\n",
        "            mean_close = window_data.Close.mean()\n",
        "\n",
        "            # \"up\" dataframe will store the stock_prices when the closing stock \n",
        "            # price is greater than or equal to the opening stock prices\n",
        "            up = window_data[window_data.Close >= window_data.Open]\n",
        "            col1 = 'red'\n",
        "\n",
        "            # \"down\" dataframe will store the stock_prices when the closing stock \n",
        "            # price is lesser than the opening stock prices\n",
        "            down = window_data[window_data.Close < window_data.Open]\n",
        "            col2 = 'blue'\n",
        "\n",
        "            # Setting width of candlestick elements\n",
        "            width = .0005\n",
        "            width2 = .00008\n",
        "\n",
        "            # Plotting up prices of the stock\n",
        "            plt.bar(up.datetime, up.Close-up.Open, width, bottom=up.Open, color=col1)\n",
        "            plt.bar(up.datetime, up.High-up.Close, width2, bottom=up.Close, color=col1)\n",
        "            plt.bar(up.datetime, up.Low-up.Open, width2, bottom=up.Open, color=col1)\n",
        "\n",
        "            # Plotting down prices of the stock\n",
        "            plt.bar(down.datetime, down.Close-down.Open, width, bottom=down.Open, color=col2)\n",
        "            plt.bar(down.datetime, down.High-down.Open, width2, bottom=down.Open, color=col2)\n",
        "            plt.bar(down.datetime, down.Low-down.Close, width2, bottom=down.Close, color=col2)\n",
        "            plt.axis('off')\n",
        "\n",
        "            # Saving the candle plot\n",
        "            plt_name = f\"{plot_number}_{ticker}.png\"\n",
        "            plt.savefig(f\"{DATA_CANDLE}{plt_name}\", format=\"png\")\n",
        "            plt.close()    \n",
        "            dataset[\"filename\"].append(plt_name)\n",
        "            dataset[\"candle_path\"].append(DATA_CANDLE)\n",
        "            \n",
        "            # Update var\n",
        "            plot_number += 1\n",
        "            start_window = end_window\n",
        "            end_window = start_window + datetime.timedelta(minutes=WINDOWS_INTERVAL)\n",
        "\n",
        "            # Check if it's a hold, buy and sold\n",
        "            \"\"\" TODO: This could be change to something smarter \"\"\"\n",
        "            mask = (ticker_data['datetime'] > start_window) & (ticker_data['datetime'] <= end_window)\n",
        "            window_data = ticker_data.loc[mask]\n",
        "            mean_close_next_interval = window_data.Close.mean()\n",
        "\n",
        "            diff = mean_close_next_interval / mean_close\n",
        "            if diff > 1.002:\n",
        "                dataset[\"action\"].append(BUY)\n",
        "            elif diff < 0.998:\n",
        "                dataset[\"action\"].append(SELL)\n",
        "            else:\n",
        "                dataset[\"action\"].append(HOLD)\n",
        "\n",
        "            # For debugging later\n",
        "            dataset[\"info\"].append(f\"{ticker}: {start_window}\")\n",
        "\n",
        "        day += datetime.timedelta(days=1)"
      ],
      "metadata": {
        "colab": {
          "base_uri": "https://localhost:8080/"
        },
        "id": "qy7tT02qyNNq",
        "outputId": "6986eae4-013a-4a0f-e433-5cce54de5bc5"
      },
      "execution_count": 8,
      "outputs": [
        {
          "output_type": "stream",
          "name": "stderr",
          "text": [
            "100%|██████████| 186/186 [12:06<00:00,  3.91s/it]\n"
          ]
        }
      ]
    },
    {
      "cell_type": "code",
      "source": [
        "dataset = pd.DataFrame(data=dataset)\n",
        "dataset.head()"
      ],
      "metadata": {
        "colab": {
          "base_uri": "https://localhost:8080/",
          "height": 0
        },
        "id": "pLxH4U3nFKii",
        "outputId": "315135b6-66e7-4e61-a4cd-a5669903110b"
      },
      "execution_count": 9,
      "outputs": [
        {
          "output_type": "execute_result",
          "data": {
            "text/plain": [
              "    candle_path  action                             info    filename\n",
              "0  data/candle/       1  TSLA: 2023-02-13 10:30:00-05:00  0_TSLA.png\n",
              "1  data/candle/       0  TSLA: 2023-02-13 11:30:00-05:00  1_TSLA.png\n",
              "2  data/candle/       0  TSLA: 2023-02-13 12:30:00-05:00  2_TSLA.png\n",
              "3  data/candle/       0  TSLA: 2023-02-13 13:30:00-05:00  3_TSLA.png\n",
              "4  data/candle/       0  TSLA: 2023-02-13 14:30:00-05:00  4_TSLA.png"
            ],
            "text/html": [
              "\n",
              "  <div id=\"df-af59b879-64bc-4038-8a86-e0b1cb7cdcc3\">\n",
              "    <div class=\"colab-df-container\">\n",
              "      <div>\n",
              "<style scoped>\n",
              "    .dataframe tbody tr th:only-of-type {\n",
              "        vertical-align: middle;\n",
              "    }\n",
              "\n",
              "    .dataframe tbody tr th {\n",
              "        vertical-align: top;\n",
              "    }\n",
              "\n",
              "    .dataframe thead th {\n",
              "        text-align: right;\n",
              "    }\n",
              "</style>\n",
              "<table border=\"1\" class=\"dataframe\">\n",
              "  <thead>\n",
              "    <tr style=\"text-align: right;\">\n",
              "      <th></th>\n",
              "      <th>candle_path</th>\n",
              "      <th>action</th>\n",
              "      <th>info</th>\n",
              "      <th>filename</th>\n",
              "    </tr>\n",
              "  </thead>\n",
              "  <tbody>\n",
              "    <tr>\n",
              "      <th>0</th>\n",
              "      <td>data/candle/</td>\n",
              "      <td>1</td>\n",
              "      <td>TSLA: 2023-02-13 10:30:00-05:00</td>\n",
              "      <td>0_TSLA.png</td>\n",
              "    </tr>\n",
              "    <tr>\n",
              "      <th>1</th>\n",
              "      <td>data/candle/</td>\n",
              "      <td>0</td>\n",
              "      <td>TSLA: 2023-02-13 11:30:00-05:00</td>\n",
              "      <td>1_TSLA.png</td>\n",
              "    </tr>\n",
              "    <tr>\n",
              "      <th>2</th>\n",
              "      <td>data/candle/</td>\n",
              "      <td>0</td>\n",
              "      <td>TSLA: 2023-02-13 12:30:00-05:00</td>\n",
              "      <td>2_TSLA.png</td>\n",
              "    </tr>\n",
              "    <tr>\n",
              "      <th>3</th>\n",
              "      <td>data/candle/</td>\n",
              "      <td>0</td>\n",
              "      <td>TSLA: 2023-02-13 13:30:00-05:00</td>\n",
              "      <td>3_TSLA.png</td>\n",
              "    </tr>\n",
              "    <tr>\n",
              "      <th>4</th>\n",
              "      <td>data/candle/</td>\n",
              "      <td>0</td>\n",
              "      <td>TSLA: 2023-02-13 14:30:00-05:00</td>\n",
              "      <td>4_TSLA.png</td>\n",
              "    </tr>\n",
              "  </tbody>\n",
              "</table>\n",
              "</div>\n",
              "      <button class=\"colab-df-convert\" onclick=\"convertToInteractive('df-af59b879-64bc-4038-8a86-e0b1cb7cdcc3')\"\n",
              "              title=\"Convert this dataframe to an interactive table.\"\n",
              "              style=\"display:none;\">\n",
              "        \n",
              "  <svg xmlns=\"http://www.w3.org/2000/svg\" height=\"24px\"viewBox=\"0 0 24 24\"\n",
              "       width=\"24px\">\n",
              "    <path d=\"M0 0h24v24H0V0z\" fill=\"none\"/>\n",
              "    <path d=\"M18.56 5.44l.94 2.06.94-2.06 2.06-.94-2.06-.94-.94-2.06-.94 2.06-2.06.94zm-11 1L8.5 8.5l.94-2.06 2.06-.94-2.06-.94L8.5 2.5l-.94 2.06-2.06.94zm10 10l.94 2.06.94-2.06 2.06-.94-2.06-.94-.94-2.06-.94 2.06-2.06.94z\"/><path d=\"M17.41 7.96l-1.37-1.37c-.4-.4-.92-.59-1.43-.59-.52 0-1.04.2-1.43.59L10.3 9.45l-7.72 7.72c-.78.78-.78 2.05 0 2.83L4 21.41c.39.39.9.59 1.41.59.51 0 1.02-.2 1.41-.59l7.78-7.78 2.81-2.81c.8-.78.8-2.07 0-2.86zM5.41 20L4 18.59l7.72-7.72 1.47 1.35L5.41 20z\"/>\n",
              "  </svg>\n",
              "      </button>\n",
              "      \n",
              "  <style>\n",
              "    .colab-df-container {\n",
              "      display:flex;\n",
              "      flex-wrap:wrap;\n",
              "      gap: 12px;\n",
              "    }\n",
              "\n",
              "    .colab-df-convert {\n",
              "      background-color: #E8F0FE;\n",
              "      border: none;\n",
              "      border-radius: 50%;\n",
              "      cursor: pointer;\n",
              "      display: none;\n",
              "      fill: #1967D2;\n",
              "      height: 32px;\n",
              "      padding: 0 0 0 0;\n",
              "      width: 32px;\n",
              "    }\n",
              "\n",
              "    .colab-df-convert:hover {\n",
              "      background-color: #E2EBFA;\n",
              "      box-shadow: 0px 1px 2px rgba(60, 64, 67, 0.3), 0px 1px 3px 1px rgba(60, 64, 67, 0.15);\n",
              "      fill: #174EA6;\n",
              "    }\n",
              "\n",
              "    [theme=dark] .colab-df-convert {\n",
              "      background-color: #3B4455;\n",
              "      fill: #D2E3FC;\n",
              "    }\n",
              "\n",
              "    [theme=dark] .colab-df-convert:hover {\n",
              "      background-color: #434B5C;\n",
              "      box-shadow: 0px 1px 3px 1px rgba(0, 0, 0, 0.15);\n",
              "      filter: drop-shadow(0px 1px 2px rgba(0, 0, 0, 0.3));\n",
              "      fill: #FFFFFF;\n",
              "    }\n",
              "  </style>\n",
              "\n",
              "      <script>\n",
              "        const buttonEl =\n",
              "          document.querySelector('#df-af59b879-64bc-4038-8a86-e0b1cb7cdcc3 button.colab-df-convert');\n",
              "        buttonEl.style.display =\n",
              "          google.colab.kernel.accessAllowed ? 'block' : 'none';\n",
              "\n",
              "        async function convertToInteractive(key) {\n",
              "          const element = document.querySelector('#df-af59b879-64bc-4038-8a86-e0b1cb7cdcc3');\n",
              "          const dataTable =\n",
              "            await google.colab.kernel.invokeFunction('convertToInteractive',\n",
              "                                                     [key], {});\n",
              "          if (!dataTable) return;\n",
              "\n",
              "          const docLinkHtml = 'Like what you see? Visit the ' +\n",
              "            '<a target=\"_blank\" href=https://colab.research.google.com/notebooks/data_table.ipynb>data table notebook</a>'\n",
              "            + ' to learn more about interactive tables.';\n",
              "          element.innerHTML = '';\n",
              "          dataTable['output_type'] = 'display_data';\n",
              "          await google.colab.output.renderOutput(dataTable, element);\n",
              "          const docLink = document.createElement('div');\n",
              "          docLink.innerHTML = docLinkHtml;\n",
              "          element.appendChild(docLink);\n",
              "        }\n",
              "      </script>\n",
              "    </div>\n",
              "  </div>\n",
              "  "
            ]
          },
          "metadata": {},
          "execution_count": 9
        }
      ]
    },
    {
      "cell_type": "markdown",
      "source": [
        "# Save or open data"
      ],
      "metadata": {
        "id": "z3OhLQl0A6UO"
      }
    },
    {
      "cell_type": "code",
      "source": [
        "dataset.to_csv(\"data/dataset.csv\")"
      ],
      "metadata": {
        "id": "O8KgSGtE_n3N"
      },
      "execution_count": 10,
      "outputs": []
    },
    {
      "cell_type": "code",
      "source": [
        "runp(\"zip -r /content/data.zip /content/data\")\n",
        "from google.colab import files\n",
        "files.download(\"/content/data.zip\")"
      ],
      "metadata": {
        "colab": {
          "base_uri": "https://localhost:8080/",
          "height": 53
        },
        "id": "vK68SUM9AnQ3",
        "outputId": "8b1193b0-2cce-41b5-96b2-4c84816ad8e8"
      },
      "execution_count": 11,
      "outputs": [
        {
          "output_type": "stream",
          "name": "stdout",
          "text": [
            "zip -r /content/data.zip /content/data\n",
            "None\n"
          ]
        },
        {
          "output_type": "display_data",
          "data": {
            "text/plain": [
              "<IPython.core.display.Javascript object>"
            ],
            "application/javascript": [
              "\n",
              "    async function download(id, filename, size) {\n",
              "      if (!google.colab.kernel.accessAllowed) {\n",
              "        return;\n",
              "      }\n",
              "      const div = document.createElement('div');\n",
              "      const label = document.createElement('label');\n",
              "      label.textContent = `Downloading \"${filename}\": `;\n",
              "      div.appendChild(label);\n",
              "      const progress = document.createElement('progress');\n",
              "      progress.max = size;\n",
              "      div.appendChild(progress);\n",
              "      document.body.appendChild(div);\n",
              "\n",
              "      const buffers = [];\n",
              "      let downloaded = 0;\n",
              "\n",
              "      const channel = await google.colab.kernel.comms.open(id);\n",
              "      // Send a message to notify the kernel that we're ready.\n",
              "      channel.send({})\n",
              "\n",
              "      for await (const message of channel.messages) {\n",
              "        // Send a message to notify the kernel that we're ready.\n",
              "        channel.send({})\n",
              "        if (message.buffers) {\n",
              "          for (const buffer of message.buffers) {\n",
              "            buffers.push(buffer);\n",
              "            downloaded += buffer.byteLength;\n",
              "            progress.value = downloaded;\n",
              "          }\n",
              "        }\n",
              "      }\n",
              "      const blob = new Blob(buffers, {type: 'application/binary'});\n",
              "      const a = document.createElement('a');\n",
              "      a.href = window.URL.createObjectURL(blob);\n",
              "      a.download = filename;\n",
              "      div.appendChild(a);\n",
              "      a.click();\n",
              "      div.remove();\n",
              "    }\n",
              "  "
            ]
          },
          "metadata": {}
        },
        {
          "output_type": "display_data",
          "data": {
            "text/plain": [
              "<IPython.core.display.Javascript object>"
            ],
            "application/javascript": [
              "download(\"download_1677ecfb-0c40-43ca-a0bd-a0d1d2acfadf\", \"data.zip\", 5742791)"
            ]
          },
          "metadata": {}
        }
      ]
    },
    {
      "cell_type": "code",
      "source": [
        "runp(f\"unzip -q /content/data.zip\")\n",
        "runp(f\"rm -rf data\")\n",
        "runp(\"mv /content/content/data /content/data\")\n"
      ],
      "metadata": {
        "colab": {
          "base_uri": "https://localhost:8080/"
        },
        "id": "pN_uaam__x_B",
        "outputId": "0548bd40-f290-4f20-cc74-918a39829bf2"
      },
      "execution_count": 6,
      "outputs": [
        {
          "output_type": "stream",
          "name": "stdout",
          "text": [
            "unzip -q /content/data.zip\n",
            "None\n",
            "rm -rf data\n",
            "None\n",
            "mv /content/content/data /content/data\n",
            "None\n"
          ]
        }
      ]
    },
    {
      "cell_type": "code",
      "source": [
        "dataset = pd.read_csv(\"data/dataset.csv\")\n",
        "# dataset = dataset.sample(frac=0.1, axis=0)\n",
        "print(len(dataset))\n",
        "dataset.head()"
      ],
      "metadata": {
        "colab": {
          "base_uri": "https://localhost:8080/",
          "height": 268
        },
        "id": "AdUxY6etLbGJ",
        "outputId": "aeb4627d-0ce3-4a3c-be18-09ae64c2bacc"
      },
      "execution_count": 14,
      "outputs": [
        {
          "output_type": "stream",
          "name": "stdout",
          "text": [
            "5580\n"
          ]
        },
        {
          "output_type": "execute_result",
          "data": {
            "text/plain": [
              "   Unnamed: 0   candle_path  action                             info  \\\n",
              "0           0  data/candle/       1  TSLA: 2023-02-13 10:30:00-05:00   \n",
              "1           1  data/candle/       0  TSLA: 2023-02-13 11:30:00-05:00   \n",
              "2           2  data/candle/       0  TSLA: 2023-02-13 12:30:00-05:00   \n",
              "3           3  data/candle/       0  TSLA: 2023-02-13 13:30:00-05:00   \n",
              "4           4  data/candle/       0  TSLA: 2023-02-13 14:30:00-05:00   \n",
              "\n",
              "     filename  \n",
              "0  0_TSLA.png  \n",
              "1  1_TSLA.png  \n",
              "2  2_TSLA.png  \n",
              "3  3_TSLA.png  \n",
              "4  4_TSLA.png  "
            ],
            "text/html": [
              "\n",
              "  <div id=\"df-1ad41180-60f9-4782-abd9-782579fd44fd\">\n",
              "    <div class=\"colab-df-container\">\n",
              "      <div>\n",
              "<style scoped>\n",
              "    .dataframe tbody tr th:only-of-type {\n",
              "        vertical-align: middle;\n",
              "    }\n",
              "\n",
              "    .dataframe tbody tr th {\n",
              "        vertical-align: top;\n",
              "    }\n",
              "\n",
              "    .dataframe thead th {\n",
              "        text-align: right;\n",
              "    }\n",
              "</style>\n",
              "<table border=\"1\" class=\"dataframe\">\n",
              "  <thead>\n",
              "    <tr style=\"text-align: right;\">\n",
              "      <th></th>\n",
              "      <th>Unnamed: 0</th>\n",
              "      <th>candle_path</th>\n",
              "      <th>action</th>\n",
              "      <th>info</th>\n",
              "      <th>filename</th>\n",
              "    </tr>\n",
              "  </thead>\n",
              "  <tbody>\n",
              "    <tr>\n",
              "      <th>0</th>\n",
              "      <td>0</td>\n",
              "      <td>data/candle/</td>\n",
              "      <td>1</td>\n",
              "      <td>TSLA: 2023-02-13 10:30:00-05:00</td>\n",
              "      <td>0_TSLA.png</td>\n",
              "    </tr>\n",
              "    <tr>\n",
              "      <th>1</th>\n",
              "      <td>1</td>\n",
              "      <td>data/candle/</td>\n",
              "      <td>0</td>\n",
              "      <td>TSLA: 2023-02-13 11:30:00-05:00</td>\n",
              "      <td>1_TSLA.png</td>\n",
              "    </tr>\n",
              "    <tr>\n",
              "      <th>2</th>\n",
              "      <td>2</td>\n",
              "      <td>data/candle/</td>\n",
              "      <td>0</td>\n",
              "      <td>TSLA: 2023-02-13 12:30:00-05:00</td>\n",
              "      <td>2_TSLA.png</td>\n",
              "    </tr>\n",
              "    <tr>\n",
              "      <th>3</th>\n",
              "      <td>3</td>\n",
              "      <td>data/candle/</td>\n",
              "      <td>0</td>\n",
              "      <td>TSLA: 2023-02-13 13:30:00-05:00</td>\n",
              "      <td>3_TSLA.png</td>\n",
              "    </tr>\n",
              "    <tr>\n",
              "      <th>4</th>\n",
              "      <td>4</td>\n",
              "      <td>data/candle/</td>\n",
              "      <td>0</td>\n",
              "      <td>TSLA: 2023-02-13 14:30:00-05:00</td>\n",
              "      <td>4_TSLA.png</td>\n",
              "    </tr>\n",
              "  </tbody>\n",
              "</table>\n",
              "</div>\n",
              "      <button class=\"colab-df-convert\" onclick=\"convertToInteractive('df-1ad41180-60f9-4782-abd9-782579fd44fd')\"\n",
              "              title=\"Convert this dataframe to an interactive table.\"\n",
              "              style=\"display:none;\">\n",
              "        \n",
              "  <svg xmlns=\"http://www.w3.org/2000/svg\" height=\"24px\"viewBox=\"0 0 24 24\"\n",
              "       width=\"24px\">\n",
              "    <path d=\"M0 0h24v24H0V0z\" fill=\"none\"/>\n",
              "    <path d=\"M18.56 5.44l.94 2.06.94-2.06 2.06-.94-2.06-.94-.94-2.06-.94 2.06-2.06.94zm-11 1L8.5 8.5l.94-2.06 2.06-.94-2.06-.94L8.5 2.5l-.94 2.06-2.06.94zm10 10l.94 2.06.94-2.06 2.06-.94-2.06-.94-.94-2.06-.94 2.06-2.06.94z\"/><path d=\"M17.41 7.96l-1.37-1.37c-.4-.4-.92-.59-1.43-.59-.52 0-1.04.2-1.43.59L10.3 9.45l-7.72 7.72c-.78.78-.78 2.05 0 2.83L4 21.41c.39.39.9.59 1.41.59.51 0 1.02-.2 1.41-.59l7.78-7.78 2.81-2.81c.8-.78.8-2.07 0-2.86zM5.41 20L4 18.59l7.72-7.72 1.47 1.35L5.41 20z\"/>\n",
              "  </svg>\n",
              "      </button>\n",
              "      \n",
              "  <style>\n",
              "    .colab-df-container {\n",
              "      display:flex;\n",
              "      flex-wrap:wrap;\n",
              "      gap: 12px;\n",
              "    }\n",
              "\n",
              "    .colab-df-convert {\n",
              "      background-color: #E8F0FE;\n",
              "      border: none;\n",
              "      border-radius: 50%;\n",
              "      cursor: pointer;\n",
              "      display: none;\n",
              "      fill: #1967D2;\n",
              "      height: 32px;\n",
              "      padding: 0 0 0 0;\n",
              "      width: 32px;\n",
              "    }\n",
              "\n",
              "    .colab-df-convert:hover {\n",
              "      background-color: #E2EBFA;\n",
              "      box-shadow: 0px 1px 2px rgba(60, 64, 67, 0.3), 0px 1px 3px 1px rgba(60, 64, 67, 0.15);\n",
              "      fill: #174EA6;\n",
              "    }\n",
              "\n",
              "    [theme=dark] .colab-df-convert {\n",
              "      background-color: #3B4455;\n",
              "      fill: #D2E3FC;\n",
              "    }\n",
              "\n",
              "    [theme=dark] .colab-df-convert:hover {\n",
              "      background-color: #434B5C;\n",
              "      box-shadow: 0px 1px 3px 1px rgba(0, 0, 0, 0.15);\n",
              "      filter: drop-shadow(0px 1px 2px rgba(0, 0, 0, 0.3));\n",
              "      fill: #FFFFFF;\n",
              "    }\n",
              "  </style>\n",
              "\n",
              "      <script>\n",
              "        const buttonEl =\n",
              "          document.querySelector('#df-1ad41180-60f9-4782-abd9-782579fd44fd button.colab-df-convert');\n",
              "        buttonEl.style.display =\n",
              "          google.colab.kernel.accessAllowed ? 'block' : 'none';\n",
              "\n",
              "        async function convertToInteractive(key) {\n",
              "          const element = document.querySelector('#df-1ad41180-60f9-4782-abd9-782579fd44fd');\n",
              "          const dataTable =\n",
              "            await google.colab.kernel.invokeFunction('convertToInteractive',\n",
              "                                                     [key], {});\n",
              "          if (!dataTable) return;\n",
              "\n",
              "          const docLinkHtml = 'Like what you see? Visit the ' +\n",
              "            '<a target=\"_blank\" href=https://colab.research.google.com/notebooks/data_table.ipynb>data table notebook</a>'\n",
              "            + ' to learn more about interactive tables.';\n",
              "          element.innerHTML = '';\n",
              "          dataTable['output_type'] = 'display_data';\n",
              "          await google.colab.output.renderOutput(dataTable, element);\n",
              "          const docLink = document.createElement('div');\n",
              "          docLink.innerHTML = docLinkHtml;\n",
              "          element.appendChild(docLink);\n",
              "        }\n",
              "      </script>\n",
              "    </div>\n",
              "  </div>\n",
              "  "
            ]
          },
          "metadata": {},
          "execution_count": 14
        }
      ]
    },
    {
      "cell_type": "code",
      "source": [
        "dataset['action'].value_counts().to_frame().reset_index().rename(columns={'index':'values', 'values':'count'})"
      ],
      "metadata": {
        "colab": {
          "base_uri": "https://localhost:8080/",
          "height": 143
        },
        "id": "brf4s94HNHM0",
        "outputId": "49d811b7-7f93-4c54-d883-19ae82e463a1"
      },
      "execution_count": 8,
      "outputs": [
        {
          "output_type": "execute_result",
          "data": {
            "text/plain": [
              "   values  action\n",
              "0       1    2121\n",
              "1       0    2080\n",
              "2       2    1379"
            ],
            "text/html": [
              "\n",
              "  <div id=\"df-4e41263c-adea-4be5-81e9-7006fff64352\">\n",
              "    <div class=\"colab-df-container\">\n",
              "      <div>\n",
              "<style scoped>\n",
              "    .dataframe tbody tr th:only-of-type {\n",
              "        vertical-align: middle;\n",
              "    }\n",
              "\n",
              "    .dataframe tbody tr th {\n",
              "        vertical-align: top;\n",
              "    }\n",
              "\n",
              "    .dataframe thead th {\n",
              "        text-align: right;\n",
              "    }\n",
              "</style>\n",
              "<table border=\"1\" class=\"dataframe\">\n",
              "  <thead>\n",
              "    <tr style=\"text-align: right;\">\n",
              "      <th></th>\n",
              "      <th>values</th>\n",
              "      <th>action</th>\n",
              "    </tr>\n",
              "  </thead>\n",
              "  <tbody>\n",
              "    <tr>\n",
              "      <th>0</th>\n",
              "      <td>1</td>\n",
              "      <td>2121</td>\n",
              "    </tr>\n",
              "    <tr>\n",
              "      <th>1</th>\n",
              "      <td>0</td>\n",
              "      <td>2080</td>\n",
              "    </tr>\n",
              "    <tr>\n",
              "      <th>2</th>\n",
              "      <td>2</td>\n",
              "      <td>1379</td>\n",
              "    </tr>\n",
              "  </tbody>\n",
              "</table>\n",
              "</div>\n",
              "      <button class=\"colab-df-convert\" onclick=\"convertToInteractive('df-4e41263c-adea-4be5-81e9-7006fff64352')\"\n",
              "              title=\"Convert this dataframe to an interactive table.\"\n",
              "              style=\"display:none;\">\n",
              "        \n",
              "  <svg xmlns=\"http://www.w3.org/2000/svg\" height=\"24px\"viewBox=\"0 0 24 24\"\n",
              "       width=\"24px\">\n",
              "    <path d=\"M0 0h24v24H0V0z\" fill=\"none\"/>\n",
              "    <path d=\"M18.56 5.44l.94 2.06.94-2.06 2.06-.94-2.06-.94-.94-2.06-.94 2.06-2.06.94zm-11 1L8.5 8.5l.94-2.06 2.06-.94-2.06-.94L8.5 2.5l-.94 2.06-2.06.94zm10 10l.94 2.06.94-2.06 2.06-.94-2.06-.94-.94-2.06-.94 2.06-2.06.94z\"/><path d=\"M17.41 7.96l-1.37-1.37c-.4-.4-.92-.59-1.43-.59-.52 0-1.04.2-1.43.59L10.3 9.45l-7.72 7.72c-.78.78-.78 2.05 0 2.83L4 21.41c.39.39.9.59 1.41.59.51 0 1.02-.2 1.41-.59l7.78-7.78 2.81-2.81c.8-.78.8-2.07 0-2.86zM5.41 20L4 18.59l7.72-7.72 1.47 1.35L5.41 20z\"/>\n",
              "  </svg>\n",
              "      </button>\n",
              "      \n",
              "  <style>\n",
              "    .colab-df-container {\n",
              "      display:flex;\n",
              "      flex-wrap:wrap;\n",
              "      gap: 12px;\n",
              "    }\n",
              "\n",
              "    .colab-df-convert {\n",
              "      background-color: #E8F0FE;\n",
              "      border: none;\n",
              "      border-radius: 50%;\n",
              "      cursor: pointer;\n",
              "      display: none;\n",
              "      fill: #1967D2;\n",
              "      height: 32px;\n",
              "      padding: 0 0 0 0;\n",
              "      width: 32px;\n",
              "    }\n",
              "\n",
              "    .colab-df-convert:hover {\n",
              "      background-color: #E2EBFA;\n",
              "      box-shadow: 0px 1px 2px rgba(60, 64, 67, 0.3), 0px 1px 3px 1px rgba(60, 64, 67, 0.15);\n",
              "      fill: #174EA6;\n",
              "    }\n",
              "\n",
              "    [theme=dark] .colab-df-convert {\n",
              "      background-color: #3B4455;\n",
              "      fill: #D2E3FC;\n",
              "    }\n",
              "\n",
              "    [theme=dark] .colab-df-convert:hover {\n",
              "      background-color: #434B5C;\n",
              "      box-shadow: 0px 1px 3px 1px rgba(0, 0, 0, 0.15);\n",
              "      filter: drop-shadow(0px 1px 2px rgba(0, 0, 0, 0.3));\n",
              "      fill: #FFFFFF;\n",
              "    }\n",
              "  </style>\n",
              "\n",
              "      <script>\n",
              "        const buttonEl =\n",
              "          document.querySelector('#df-4e41263c-adea-4be5-81e9-7006fff64352 button.colab-df-convert');\n",
              "        buttonEl.style.display =\n",
              "          google.colab.kernel.accessAllowed ? 'block' : 'none';\n",
              "\n",
              "        async function convertToInteractive(key) {\n",
              "          const element = document.querySelector('#df-4e41263c-adea-4be5-81e9-7006fff64352');\n",
              "          const dataTable =\n",
              "            await google.colab.kernel.invokeFunction('convertToInteractive',\n",
              "                                                     [key], {});\n",
              "          if (!dataTable) return;\n",
              "\n",
              "          const docLinkHtml = 'Like what you see? Visit the ' +\n",
              "            '<a target=\"_blank\" href=https://colab.research.google.com/notebooks/data_table.ipynb>data table notebook</a>'\n",
              "            + ' to learn more about interactive tables.';\n",
              "          element.innerHTML = '';\n",
              "          dataTable['output_type'] = 'display_data';\n",
              "          await google.colab.output.renderOutput(dataTable, element);\n",
              "          const docLink = document.createElement('div');\n",
              "          docLink.innerHTML = docLinkHtml;\n",
              "          element.appendChild(docLink);\n",
              "        }\n",
              "      </script>\n",
              "    </div>\n",
              "  </div>\n",
              "  "
            ]
          },
          "metadata": {},
          "execution_count": 8
        }
      ]
    },
    {
      "cell_type": "markdown",
      "source": [
        "## DataLoader"
      ],
      "metadata": {
        "id": "PCYx7Z2UHTED"
      }
    },
    {
      "cell_type": "code",
      "source": [
        "import os\n",
        "import torch\n",
        "import torch.nn as nn\n",
        "import torch.nn.functional as F\n",
        "import torch.nn.init as init\n",
        "import torch.optim as optim\n",
        "import torchvision\n",
        "import torchvision.transforms as transforms\n",
        "from torchvision.io import read_image\n",
        "device = \"cuda\" if torch.cuda.is_available() else \"cpu\"\n",
        "\n",
        "# Fix random seed\n",
        "torch.manual_seed(0)\n",
        "torch.cuda.manual_seed_all(0)\n",
        "torch.cuda.manual_seed(0)\n",
        "torch.backends.cudnn.deterministic = True\n",
        "torch.backends.cudnn.benchmark = False"
      ],
      "metadata": {
        "id": "k3eRQkNiIeqc"
      },
      "execution_count": 1,
      "outputs": []
    },
    {
      "cell_type": "markdown",
      "source": [
        "Let's create a data loader for the dataset we created"
      ],
      "metadata": {
        "id": "GOlnoVvLI4Nq"
      }
    },
    {
      "cell_type": "code",
      "source": [
        "class TechnicalAnalysisDataset(torch.utils.data.Dataset):\n",
        "    def __init__(self, data, chart_dir, transform=None):\n",
        "        self.df = data\n",
        "        self.img_dir = chart_dir\n",
        "        self.transform = transform\n",
        "    \n",
        "    def __len__(self):\n",
        "        return len(self.df)\n",
        "\n",
        "    def __getitem__(self, idx):\n",
        "        img_path = os.path.join(self.img_dir, self.df.iloc[idx][\"filename\"])\n",
        "        image = read_image(img_path)\n",
        "        image = image / 255\n",
        "        label = self.df.iloc[idx][\"action\"]\n",
        "        if self.transform:\n",
        "            image = self.transform(image)\n",
        "        return image, label"
      ],
      "metadata": {
        "id": "fa2N7CRBI6J2"
      },
      "execution_count": 6,
      "outputs": []
    },
    {
      "cell_type": "markdown",
      "source": [
        "Now that we have our dataset, we will need to split it in a training and validation set and we will need a data loader to be able to have minibatch."
      ],
      "metadata": {
        "id": "g_JWp5T3Sfdf"
      }
    },
    {
      "cell_type": "code",
      "source": [
        "def train_test_split(df, frac=0.2):\n",
        "    \n",
        "    # get random sample \n",
        "    test = df.sample(frac=frac, axis=0)\n",
        "\n",
        "    # get everything but the test sample\n",
        "    train = df.drop(index=test.index)\n",
        "\n",
        "    return train, test"
      ],
      "metadata": {
        "id": "Qap0JMKVTumk"
      },
      "execution_count": 7,
      "outputs": []
    },
    {
      "cell_type": "code",
      "source": [
        "from torch.utils.data import DataLoader\n",
        "\n",
        "train_dataset, test_dataset = train_test_split(dataset)\n",
        "resize_transform = transforms.Resize(size=(64, 64))\n",
        "train_technical_analysis_dataset = TechnicalAnalysisDataset(train_dataset, DATA_CANDLE, transform=resize_transform)\n",
        "test_technical_analysis_dataset = TechnicalAnalysisDataset(test_dataset, DATA_CANDLE, transform=resize_transform)\n",
        "\n",
        "train_loader = torch.utils.data.DataLoader(\n",
        "    train_technical_analysis_dataset, batch_size=64, shuffle=True, num_workers=2\n",
        ")\n",
        "\n",
        "val_loader = torch.utils.data.DataLoader(\n",
        "      test_technical_analysis_dataset, batch_size=64, shuffle=False, num_workers=2\n",
        ")"
      ],
      "metadata": {
        "id": "mm-lK_MoSuH_"
      },
      "execution_count": 15,
      "outputs": []
    },
    {
      "cell_type": "code",
      "source": [
        "# Sanity check\n",
        "img, label = train_technical_analysis_dataset.__getitem__(1)\n",
        "print(img.shape)\n",
        "img = img.permute(1, 2, 0)\n",
        "print(img.shape)\n",
        "print(label)\n",
        "plt.imshow(img)\n",
        "plt.show()"
      ],
      "metadata": {
        "colab": {
          "base_uri": "https://localhost:8080/",
          "height": 321
        },
        "id": "kVTEidsNOLEv",
        "outputId": "c326478e-6ce0-4ce5-d978-860c0211aa78"
      },
      "execution_count": 16,
      "outputs": [
        {
          "output_type": "stream",
          "name": "stdout",
          "text": [
            "torch.Size([4, 64, 64])\n",
            "torch.Size([64, 64, 4])\n",
            "0\n"
          ]
        },
        {
          "output_type": "display_data",
          "data": {
            "text/plain": [
              "<Figure size 432x288 with 1 Axes>"
            ],
            "image/png": "[encoded data removed]"
          },
          "metadata": {
            "needs_background": "light"
          }
        }
      ]
    },
    {
      "cell_type": "code",
      "source": [
        "def get_cifar10():  \n",
        "  transform = transforms.Compose([\n",
        "      transforms.ToTensor()\n",
        "  ])\n",
        "\n",
        "  train_dataset = torchvision.datasets.CIFAR10(\n",
        "      root='./data', train=True, download=True, transform=transform)\n",
        "  train_loader = torch.utils.data.DataLoader(\n",
        "      train_dataset, batch_size=128, shuffle=True, num_workers=2)\n",
        "\n",
        "  val_dataset = torchvision.datasets.CIFAR10(\n",
        "      root='./data', train=False, download=True, transform=transform)\n",
        "  val_loader = torch.utils.data.DataLoader(\n",
        "      val_dataset, batch_size=128, shuffle=False, num_workers=2)\n",
        "  \n",
        "  return train_loader, val_loader\n",
        "train_cifar, valid_cifar = get_cifar10()"
      ],
      "metadata": {
        "id": "1UsfYaDjoHNT",
        "outputId": "7d721cc6-0fd0-49b2-ddee-00ebfb8a04d7",
        "colab": {
          "base_uri": "https://localhost:8080/"
        }
      },
      "execution_count": 2,
      "outputs": [
        {
          "output_type": "stream",
          "name": "stdout",
          "text": [
            "Files already downloaded and verified\n",
            "Files already downloaded and verified\n"
          ]
        }
      ]
    },
    {
      "cell_type": "code",
      "source": [
        "# Sanity check\n",
        "img, label = train_cifar.dataset.__getitem__(1)\n",
        "print(img.shape)\n",
        "img = img.permute(1, 2, 0)\n",
        "print(img.shape)\n",
        "print(label)\n",
        "plt.imshow(img)\n",
        "plt.show()"
      ],
      "metadata": {
        "id": "gMM8XSKVoLd7",
        "outputId": "31db6cac-127b-477b-f86a-83d8fc3313d1",
        "colab": {
          "base_uri": "https://localhost:8080/",
          "height": 464
        }
      },
      "execution_count": 17,
      "outputs": [
        {
          "output_type": "stream",
          "name": "stderr",
          "text": [
            "Exception ignored in: <function _MultiProcessingDataLoaderIter.__del__ at 0x7f36edd67dc0>\n",
            "Traceback (most recent call last):\n",
            "  File \"/usr/local/lib/python3.8/dist-packages/torch/utils/data/dataloader.py\", line 1466, in __del__\n",
            "    self._shutdown_workers()\n",
            "  File \"/usr/local/lib/python3.8/dist-packages/torch/utils/data/dataloader.py\", line 1424, in _shutdown_workers\n",
            "    if self._persistent_workers or self._workers_status[worker_id]:\n",
            "AttributeError: '_MultiProcessingDataLoaderIter' object has no attribute '_workers_status'\n"
          ]
        },
        {
          "output_type": "stream",
          "name": "stdout",
          "text": [
            "torch.Size([3, 32, 32])\n",
            "torch.Size([32, 32, 3])\n",
            "9\n"
          ]
        },
        {
          "output_type": "display_data",
          "data": {
            "text/plain": [
              "<Figure size 432x288 with 1 Axes>"
            ],
            "image/png": "[encoded data removed]"
          },
          "metadata": {
            "needs_background": "light"
          }
        }
      ]
    },
    {
      "cell_type": "markdown",
      "source": [
        "## Training architecture"
      ],
      "metadata": {
        "id": "RiRBWJcjeiwT"
      }
    },
    {
      "cell_type": "code",
      "source": [
        "def train_loop(epoch, model, train_loader, criterion, optimizer):\n",
        "  \"\"\"\n",
        "    epoch: int\n",
        "      Number of the current training epoch (starting from 0).\n",
        "    model: ResNet18\n",
        "      The model to train, which is an instance of the ResNet18 class.\n",
        "    train_loader: DataLoader\n",
        "      The training dataloader.\n",
        "    criterion: Module\n",
        "      A Module object that evaluates the crossentropy loss.\n",
        "    optimizer: Optimizer\n",
        "      An Optimizer object for the Adam optimizer.\n",
        "\n",
        "    Outputs: Returns average train_acc and train_loss for the current epoch.\n",
        "  \"\"\"\n",
        "  train_acc = 0.\n",
        "  train_loss = 0.\n",
        "  nb_data = 0 \n",
        "  model.train()\n",
        "  for inputs, labels in train_loader:\n",
        "      # Get input:\n",
        "      inputs, labels = inputs.to(device), labels.to(device)\n",
        "\n",
        "      # Zeros the parameter gradient\n",
        "      optimizer.zero_grad()\n",
        "      \n",
        "      # Foward + backward + optimize\n",
        "      outputs = model(inputs)\n",
        "      loss = criterion(outputs, labels)\n",
        "      loss.backward()\n",
        "      optimizer.step()\n",
        "\n",
        "      # Get stats\n",
        "      train_loss += loss.item()\n",
        "      _, pred = torch.max(outputs.data, 1)\n",
        "      train_acc += (pred == labels).sum().item()\n",
        "      nb_data += labels.size(0)\n",
        "\n",
        "  train_loss = train_loss / len(train_loader)\n",
        "  train_acc = train_acc / nb_data\n",
        "\n",
        "  print(f\"Epoch: {epoch} | Train Acc: {train_acc:.6f} | Train Loss: {train_loss:.6f}\")\n",
        "  return train_acc, train_loss\n",
        "\n",
        "def valid_loop(epoch, model, val_loader, criterion):\n",
        "  \"\"\"\n",
        "    epoch: int\n",
        "      Number of the current epoch (starting from 0).\n",
        "    model: ResNet18\n",
        "      The model to train, which is an instance of the ResNet18 class.\n",
        "    val_loader: DataLoader\n",
        "      The validation dataloader.\n",
        "    criterion: Module\n",
        "      A Module object that evaluates the crossentropy loss.\n",
        "\n",
        "    Outputs: Returns average val_acc and val_loss for the current epoch.\n",
        "  \"\"\"\n",
        "  val_acc = 0.\n",
        "  val_loss = 0.\n",
        "  nb_data = 0\n",
        "\n",
        "  model.eval()\n",
        "  for inputs, labels in val_loader:\n",
        "      # Get input:\n",
        "      inputs, labels = inputs.to(device), labels.to(device)\n",
        "      \n",
        "      # Foward + backward + optimize\n",
        "      outputs = model(inputs)\n",
        "      loss = criterion(outputs, labels)\n",
        "\n",
        "      # Get stats\n",
        "      val_loss += loss.item()\n",
        "      _, pred = torch.max(outputs.data, 1)\n",
        "      val_acc += (pred == labels).sum().item()\n",
        "      nb_data += labels.size(0)\n",
        "\n",
        "  val_loss = val_loss / len(val_loader)\n",
        "  val_acc = val_acc / nb_data\n",
        "\n",
        "  print(f\"Epoch: {epoch} | Val Acc: {val_acc:.6f}   | Val Loss: {val_loss:.6f}\")\n",
        "  return val_acc, val_loss"
      ],
      "metadata": {
        "id": "4oZXbuHdekvk"
      },
      "execution_count": 3,
      "outputs": []
    },
    {
      "cell_type": "markdown",
      "source": [
        "## Models\n",
        "\n"
      ],
      "metadata": {
        "id": "YuBwOTFGchEv"
      }
    },
    {
      "cell_type": "markdown",
      "source": [
        "### MLP"
      ],
      "metadata": {
        "id": "-DlQCZrNfwZV"
      }
    },
    {
      "cell_type": "code",
      "source": [
        "from torch.nn.modules.dropout import Dropout\n",
        "class MLP(nn.Module):\n",
        "    def __init__(self):\n",
        "        super(MLP, self).__init__()\n",
        "        self.model = nn.Sequential(\n",
        "            nn.Linear(4*64*64, 2048),\n",
        "            nn.ReLU(),\n",
        "            nn.Dropout(p=0.05),\n",
        "            nn.Linear(2048, 1024),\n",
        "            nn.ReLU(),\n",
        "            nn.Dropout(p=0.05),\n",
        "            nn.Linear(1024, 1024),\n",
        "            nn.ReLU(),\n",
        "            nn.Dropout(p=0.05),\n",
        "            nn.Linear(1024, 1024),\n",
        "            nn.ReLU(),\n",
        "            nn.Dropout(p=0.05),\n",
        "            nn.Linear(1024, 512),\n",
        "            nn.ReLU(),\n",
        "            nn.Dropout(p=0.05),\n",
        "            nn.Linear(512, 254),\n",
        "            nn.ReLU(),\n",
        "            nn.Dropout(p=0.05),\n",
        "            nn.Linear(254, 3)\n",
        "        )\n",
        "    \n",
        "    def forward(self, x):\n",
        "        x = x.flatten(start_dim=1)\n",
        "        out = self.model(x)\n",
        "        return out"
      ],
      "metadata": {
        "id": "LkD1kBpGcsxF"
      },
      "execution_count": 18,
      "outputs": []
    },
    {
      "cell_type": "code",
      "source": [
        "import time\n",
        "if __name__ == \"__main__\":\n",
        "  use_cuda = torch.cuda.is_available()\n",
        "  device = torch.device(\"cuda:0\" if use_cuda else \"cpu\")\n",
        "\n",
        "  train_accs, train_losses, val_accs, val_losses = [], [], [], []\n",
        "  n_epochs = 12\n",
        "\n",
        "  mlp = MLP().to(device)\n",
        "  nb_params = sum(p.numel() for p in mlp.parameters())\n",
        "  print(mlp)\n",
        "  print(f\"Number of parameter: {nb_params}\")\n",
        "\n",
        "  criterion = nn.CrossEntropyLoss()\n",
        "  optimizer = torch.optim.Adam(mlp.parameters())\n",
        "\n",
        "  tic = time.perf_counter()\n",
        "  for epoch in range(n_epochs):\n",
        "    # Training\n",
        "    train_acc, train_loss = train_loop(epoch, mlp, train_loader, criterion, optimizer)\n",
        "    # train_acc, train_loss = train_loop(epoch, mlp, train_cifar, criterion, optimizer)\n",
        "    train_accs.append(train_acc)\n",
        "    train_losses.append(train_loss)\n",
        "\n",
        "    # Validation\n",
        "    val_acc, val_loss = valid_loop(epoch, mlp, val_loader, criterion)\n",
        "    # val_acc, val_loss = valid_loop(epoch, mlp, valid_cifar, criterion)\n",
        "    val_accs.append(val_acc)\n",
        "    val_losses.append(val_loss)\n",
        "\n",
        "  toc = time.perf_counter()\n",
        "  print(f\"Time to train {toc - tic:0.4f} seconds\")"
      ],
      "metadata": {
        "id": "ZMeWCMs6dKOq",
        "colab": {
          "base_uri": "https://localhost:8080/"
        },
        "outputId": "f340114d-8bba-467a-a1b8-e9449ddfbf78"
      },
      "execution_count": 19,
      "outputs": [
        {
          "output_type": "stream",
          "name": "stdout",
          "text": [
            "MLP(\n",
            "  (model): Sequential(\n",
            "    (0): Linear(in_features=16384, out_features=2048, bias=True)\n",
            "    (1): ReLU()\n",
            "    (2): Dropout(p=0.05, inplace=False)\n",
            "    (3): Linear(in_features=2048, out_features=1024, bias=True)\n",
            "    (4): ReLU()\n",
            "    (5): Dropout(p=0.05, inplace=False)\n",
            "    (6): Linear(in_features=1024, out_features=1024, bias=True)\n",
            "    (7): ReLU()\n",
            "    (8): Dropout(p=0.05, inplace=False)\n",
            "    (9): Linear(in_features=1024, out_features=1024, bias=True)\n",
            "    (10): ReLU()\n",
            "    (11): Dropout(p=0.05, inplace=False)\n",
            "    (12): Linear(in_features=1024, out_features=512, bias=True)\n",
            "    (13): ReLU()\n",
            "    (14): Dropout(p=0.05, inplace=False)\n",
            "    (15): Linear(in_features=512, out_features=254, bias=True)\n",
            "    (16): ReLU()\n",
            "    (17): Dropout(p=0.05, inplace=False)\n",
            "    (18): Linear(in_features=254, out_features=3, bias=True)\n",
            "  )\n",
            ")\n",
            "Number of parameter: 38409723\n",
            "Epoch: 0 | Train Acc: 0.372984 | Train Loss: 1.102751\n",
            "Epoch: 0 | Val Acc: 0.386201   | Val Loss: 1.085863\n",
            "Epoch: 1 | Train Acc: 0.374328 | Train Loss: 1.087199\n",
            "Epoch: 1 | Val Acc: 0.386201   | Val Loss: 1.083817\n",
            "Epoch: 2 | Train Acc: 0.373208 | Train Loss: 1.085983\n",
            "Epoch: 2 | Val Acc: 0.379032   | Val Loss: 1.077263\n",
            "Epoch: 3 | Train Acc: 0.374104 | Train Loss: 1.083945\n",
            "Epoch: 3 | Val Acc: 0.379032   | Val Loss: 1.076435\n",
            "Epoch: 4 | Train Acc: 0.365367 | Train Loss: 1.082995\n",
            "Epoch: 4 | Val Acc: 0.379032   | Val Loss: 1.076510\n",
            "Epoch: 5 | Train Acc: 0.368952 | Train Loss: 1.082845\n",
            "Epoch: 5 | Val Acc: 0.379032   | Val Loss: 1.077113\n",
            "Epoch: 6 | Train Acc: 0.380376 | Train Loss: 1.082518\n",
            "Epoch: 6 | Val Acc: 0.379032   | Val Loss: 1.076372\n",
            "Epoch: 7 | Train Acc: 0.379928 | Train Loss: 1.082303\n",
            "Epoch: 7 | Val Acc: 0.379032   | Val Loss: 1.076323\n",
            "Epoch: 8 | Train Acc: 0.367832 | Train Loss: 1.083298\n",
            "Epoch: 8 | Val Acc: 0.379032   | Val Loss: 1.076053\n",
            "Epoch: 9 | Train Acc: 0.377912 | Train Loss: 1.082843\n",
            "Epoch: 9 | Val Acc: 0.386201   | Val Loss: 1.077067\n",
            "Epoch: 10 | Train Acc: 0.373880 | Train Loss: 1.083007\n",
            "Epoch: 10 | Val Acc: 0.379032   | Val Loss: 1.076398\n",
            "Epoch: 11 | Train Acc: 0.374328 | Train Loss: 1.082698\n",
            "Epoch: 11 | Val Acc: 0.379032   | Val Loss: 1.076309\n",
            "Time to train 134.5328 seconds\n"
          ]
        }
      ]
    },
    {
      "cell_type": "code",
      "source": [
        "if __name__ == \"__main__\":\n",
        "    plt.figure(0)\n",
        "    plt.ylabel(\"Training loss\")\n",
        "    plt.xlabel(\"Epoch\")\n",
        "    plt.figure(1)\n",
        "    plt.ylabel(\"Training accuracy\")\n",
        "    plt.xlabel(\"Epoch\")\n",
        "\n",
        "    plt.figure(0)\n",
        "    plt.plot(train_losses, label=\"Training\")\n",
        "    plt.plot(val_losses, label=\"Validation\")\n",
        "    plt.legend(loc=\"lower right\")\n",
        "\n",
        "    plt.figure(1)\n",
        "    plt.plot(train_accs, label=\"Training\")\n",
        "    plt.plot(val_accs, label=\"Validation\")\n",
        "    plt.legend(loc=\"lower right\")"
      ],
      "metadata": {
        "colab": {
          "base_uri": "https://localhost:8080/",
          "height": 541
        },
        "id": "diyArGAxQfwS",
        "outputId": "36e79821-cf56-4782-b252-f2146776a903"
      },
      "execution_count": 20,
      "outputs": [
        {
          "output_type": "display_data",
          "data": {
            "text/plain": [
              "<Figure size 432x288 with 1 Axes>"
            ],
            "image/png": "[encoded data removed]"
          },
          "metadata": {
            "needs_background": "light"
          }
        },
        {
          "output_type": "display_data",
          "data": {
            "text/plain": [
              "<Figure size 432x288 with 1 Axes>"
            ],
            "image/png": "[encoded data removed]"
          },
          "metadata": {
            "needs_background": "light"
          }
        }
      ]
    },
    {
      "cell_type": "markdown",
      "source": [
        "### Resnet-18"
      ],
      "metadata": {
        "id": "GSDGC_SLcjZG"
      }
    },
    {
      "cell_type": "markdown",
      "source": [
        "After that, we can try with Resnet-18. This might be overkill, but why not, I won't trade any real money in the end"
      ],
      "metadata": {
        "id": "CVONtmeVJFty"
      }
    },
    {
      "cell_type": "code",
      "source": [
        "class ResidualBlock(nn.Module):\n",
        "  \"\"\"This class implements the Residual Block used in ResNet-18.\"\"\"\n",
        "\n",
        "  def __init__(self, in_channels, channels, conv_stride=1, activation_str=\"relu\", initialization=\"xavier_normal\"):\n",
        "    \"\"\"\n",
        "      Constructor for the ResidualBlock class.\n",
        "\n",
        "      in_channels: int\n",
        "        Number of channels in the input to the block.\n",
        "      channels: int\n",
        "        Number of output channels for the block, i.e., number of filters.\n",
        "      conv_stride: int, default 1\n",
        "        Stride of the first convolution layer and downsampling convolution (if required).\n",
        "      activation_str: string, default \"relu\"\n",
        "        Activation function to use.\n",
        "      initialization: string, default \"xavier_normal\"\n",
        "        Initialization for convolution layer weights.\n",
        "    \"\"\"\n",
        "    super(ResidualBlock, self).__init__()\n",
        "\n",
        "    self.in_channels = in_channels\n",
        "    self.channels = channels\n",
        "    self.conv_stride = conv_stride\n",
        "    self.activation_str = activation_str\n",
        "    self.initialization = initialization\n",
        "\n",
        "    # Define these members by replacing `None` with the correct definitions\n",
        "    self.conv1 = nn.Conv2d(in_channels, channels, 3, stride=conv_stride, padding=1, bias=False)\n",
        "    self.bn1 = nn.BatchNorm2d(channels)\n",
        "    self.conv2 = nn.Conv2d(channels, channels, 3, stride=1, padding=1, bias=False)\n",
        "    self.bn2 = nn.BatchNorm2d(channels)\n",
        "\n",
        "    self.residual_connection = self.residual(in_channels, channels, conv_stride)\n",
        "\n",
        "    # Initialize weights for conv1 and conv2\n",
        "    if initialization == \"xavier_normal\":\n",
        "      nn.init.xavier_normal_(self.conv1.weight)\n",
        "      nn.init.xavier_normal_(self.conv2.weight)\n",
        "    elif initialization == \"xavier_uniform\": \n",
        "      nn.init.xavier_uniform_(self.conv1.weight)\n",
        "      nn.init.xavier_uniform_(self.conv2.weight)\n",
        "    elif initialization == \"kaiming_normal\": \n",
        "      nn.init.kaiming_normal_(self.conv1.weight)\n",
        "      nn.init.kaiming_normal_(self.conv2.weight)\n",
        "    else:\n",
        "      raise Exception(\"Invalid initialization\")\n",
        "\n",
        "  def activation(self, input):\n",
        "    \"\"\"\n",
        "      input: Tensor\n",
        "        Input on which the activation is applied.\n",
        "\n",
        "      Output: Result of activation function applied on input.\n",
        "        E.g. if self.activation_str is \"relu\", return relu(input).\n",
        "    \"\"\"\n",
        "    if self.activation_str == \"relu\":\n",
        "      return torch.relu(input)\n",
        "    elif self.activation_str == \"tanh\":\n",
        "      return torch.tanh(input)\n",
        "    else:\n",
        "      raise Exception(\"Invalid activation\")\n",
        "\n",
        "  def residual(self, in_channels, channels, conv_stride=1):\n",
        "    \"\"\"\n",
        "      in_channels: int\n",
        "        Number of input channels in the input to the block.\n",
        "      channels: int\n",
        "        Number of output channels for the block, i.e., number of filters.\n",
        "      conv_stride: int, default 1\n",
        "        Stride to use for downsampling 1x1 convolution.\n",
        "\n",
        "      Output: Returns an nn.Sequential object which computes the identity function of the input if stride is 1\n",
        "              and the number of input channels equals the number of output channels. Otherwise, it returns an\n",
        "              nn.Sequential object that downsamples its input using a 1x1-conv of the stride specified and\n",
        "              followed by a BatchNorm2d.\n",
        "    \"\"\"\n",
        "    layers = []\n",
        "    if conv_stride != 1 or in_channels != channels:\n",
        "      layers.append(nn.Conv2d(in_channels, channels, 1, stride=conv_stride, padding=0, bias=False))\n",
        "      layers.append(nn.BatchNorm2d(channels))\n",
        "    return nn.Sequential(*layers)\n",
        "\n",
        "  def forward(self, x):\n",
        "    \"\"\"\n",
        "      x: Tensor\n",
        "        Input to the block.\n",
        "\n",
        "      Outputs: Returns the output of the forward pass of the block.\n",
        "    \"\"\"\n",
        "    identity = x\n",
        "\n",
        "    out = self.conv1(x)\n",
        "    out = self.bn1(out)\n",
        "    out = self.activation(out)\n",
        "\n",
        "    out = self.conv2(out)\n",
        "    out = self.bn2(out)\n",
        "\n",
        "    out += self.residual_connection(identity)\n",
        "    out = self.activation(out)\n",
        "\n",
        "    return out"
      ],
      "metadata": {
        "id": "zC5UvxiWHVf6"
      },
      "execution_count": 21,
      "outputs": []
    },
    {
      "cell_type": "markdown",
      "source": [
        "We can than create the model"
      ],
      "metadata": {
        "id": "8zps0LA5JaZZ"
      }
    },
    {
      "cell_type": "code",
      "source": [
        "class ResNet18(nn.Module):\n",
        "  \"\"\"This class implements the ResNet-18 architecture from its components.\"\"\"\n",
        "\n",
        "  def __init__(self, activation_str=\"relu\", initialization=\"xavier_normal\"):\n",
        "    \"\"\"\n",
        "      Constructor for the ResNet18 class.\n",
        "\n",
        "      activation_str: string, default \"relu\"\n",
        "        Activation function to use.\n",
        "      initialization: string, default \"xavier_normal\"\n",
        "        Weight initialization to use.\n",
        "    \"\"\"\n",
        "    super(ResNet18, self).__init__()\n",
        "\n",
        "    self.n_classes = 10\n",
        "    self.activation_str = activation_str\n",
        "    self.initialization = initialization\n",
        "\n",
        "    self.conv1 = nn.Conv2d(4, 64, 3, stride=1, padding=1, bias=False)\n",
        "    self.bn1 = nn.BatchNorm2d(64)\n",
        "    self.layer1 = self._create_layer(64, 64) \n",
        "    self.layer2 = self._create_layer(64, 128, conv_stride=2)\n",
        "    self.layer3 = self._create_layer(128, 256, conv_stride=2)\n",
        "    self.layer4 = self._create_layer(256, 512, conv_stride=2)  \n",
        "    self.avgpool = nn.AdaptiveAvgPool2d((1,1))\n",
        "    self.linear = nn.Linear(512, 3)\n",
        "  \n",
        "  def activation(self, input):\n",
        "    \"\"\"\n",
        "      input: Tensor\n",
        "        Input on which the activation is applied.\n",
        "\n",
        "      Output: Result of activation function applied on input.\n",
        "        E.g. if self.activation_str is \"relu\", return relu(input).\n",
        "    \"\"\"\n",
        "    if self.activation_str == \"relu\":\n",
        "      return torch.relu(input)\n",
        "    elif self.activation_str == \"tanh\":\n",
        "      return torch.tanh(input)\n",
        "    else:\n",
        "      raise Exception(\"Invalid activation\")\n",
        "\n",
        "  def _create_layer(self, in_channels, channels, conv_stride=1):\n",
        "    \"\"\"\n",
        "      in_channels: int\n",
        "        Number of input channels present in the input to the layer.\n",
        "      out_channels: int\n",
        "        Number of output channels for the layer, i.e., the number of filters.\n",
        "      conv_stride: int, default 1\n",
        "        Stride of the first convolution layer in the block and the downsampling convolution (if required).\n",
        "\n",
        "      Outputs: Returns an nn.Sequential object giving a \"layer\" of the ResNet, consisting of 2 blocks each.\n",
        "    \"\"\"\n",
        "    return nn.Sequential(\n",
        "        ResidualBlock(in_channels, channels, conv_stride=conv_stride, activation_str=self.activation_str, initialization=self.initialization),\n",
        "        ResidualBlock(channels, channels, conv_stride=1, activation_str=self.activation_str, initialization=self.initialization)\n",
        "    )\n",
        "\n",
        "  def get_first_conv_layer_filters(self):\n",
        "    \"\"\"\n",
        "      Outputs: Returns the filters in the first convolution layer.\n",
        "    \"\"\"\n",
        "    return self.conv1.weight.clone().cpu().detach().numpy()\n",
        "\n",
        "  def get_last_conv_layer_filters(self):\n",
        "    \"\"\"\n",
        "      Outputs: Returns the filters in the last convolution layer.\n",
        "    \"\"\"\n",
        "    return list(self.layer4.modules())[1].conv2.weight.clone().cpu().detach().numpy()\n",
        "\n",
        "  def forward(self, x):\n",
        "    \"\"\"\n",
        "      x: Tensor\n",
        "        Input to the network.\n",
        "\n",
        "      Outputs: Returns the output of the forward pass of the network.\n",
        "    \"\"\"\n",
        "    out = self.conv1(x)\n",
        "    out = self.bn1(out)\n",
        "    out = self.activation(out)\n",
        "\n",
        "    out = self.layer1(out)\n",
        "    out = self.layer2(out)\n",
        "    out = self.layer3(out)\n",
        "    out = self.layer4(out)\n",
        "    \n",
        "    out = self.avgpool(out)\n",
        "    out = torch.flatten(out, 1)\n",
        "    out = self.linear(out)\n",
        "\n",
        "    return out"
      ],
      "metadata": {
        "id": "PQEYJqEnIoeS"
      },
      "execution_count": 22,
      "outputs": []
    },
    {
      "cell_type": "code",
      "source": [
        "# Parameter we will use\n",
        "activation_str = \"relu\"\n",
        "initialization = \"xavier_normal\""
      ],
      "metadata": {
        "id": "p9T2Rjk8Irxk"
      },
      "execution_count": 23,
      "outputs": []
    },
    {
      "cell_type": "code",
      "source": [
        "# Training\n",
        "if __name__ == \"__main__\":\n",
        "  use_cuda = torch.cuda.is_available()\n",
        "  device = torch.device(\"cuda:0\" if use_cuda else \"cpu\")\n",
        "\n",
        "  train_accs, train_losses, val_accs, val_losses = [], [], [], []\n",
        "  n_epochs = 25\n",
        "\n",
        "  model = ResNet18(\n",
        "    activation_str=activation_str,\n",
        "    initialization=initialization\n",
        "  ).to(device)\n",
        "  criterion = nn.CrossEntropyLoss()\n",
        "  optimizer = optim.Adam(model.parameters())\n",
        "  \n",
        "  for epoch in range(n_epochs):\n",
        "    # Training\n",
        "    train_acc, train_loss = train_loop(epoch, model, train_loader, criterion, optimizer)\n",
        "    # train_acc, train_loss = train_loop(epoch, model, train_cifar, criterion, optimizer)\n",
        "    train_accs.append(train_acc)\n",
        "    train_losses.append(train_loss)\n",
        "\n",
        "    # Validation\n",
        "    val_acc, val_loss = valid_loop(epoch, model, val_loader, criterion)\n",
        "    # val_acc, val_loss = valid_loop(epoch, model, valid_cifar, criterion)\n",
        "    val_accs.append(val_acc)\n",
        "    val_losses.append(val_loss)\n",
        "     "
      ],
      "metadata": {
        "colab": {
          "base_uri": "https://localhost:8080/"
        },
        "id": "mjOLei3SJn6v",
        "outputId": "996e8f6e-5a2e-4824-c3c7-c0ca6c95e2f4"
      },
      "execution_count": null,
      "outputs": [
        {
          "output_type": "stream",
          "name": "stdout",
          "text": [
            "Epoch: 0 | Train Acc: 0.519489 | Train Loss: 0.980814\n",
            "Epoch: 0 | Val Acc: 0.554659   | Val Loss: 0.937919\n",
            "Epoch: 1 | Train Acc: 0.568548 | Train Loss: 0.884847\n",
            "Epoch: 1 | Val Acc: 0.386201   | Val Loss: 2.396186\n",
            "Epoch: 2 | Train Acc: 0.589830 | Train Loss: 0.850655\n",
            "Epoch: 2 | Val Acc: 0.379032   | Val Loss: 1.671725\n",
            "Epoch: 3 | Train Acc: 0.598790 | Train Loss: 0.840475\n",
            "Epoch: 3 | Val Acc: 0.386201   | Val Loss: 2.191820\n",
            "Epoch: 4 | Train Acc: 0.613351 | Train Loss: 0.820687\n",
            "Epoch: 4 | Val Acc: 0.434588   | Val Loss: 1.213361\n",
            "Epoch: 5 | Train Acc: 0.620296 | Train Loss: 0.802262\n",
            "Epoch: 5 | Val Acc: 0.411290   | Val Loss: 1.743181\n",
            "Epoch: 6 | Train Acc: 0.636649 | Train Loss: 0.784382\n",
            "Epoch: 6 | Val Acc: 0.386201   | Val Loss: 2.454722\n",
            "Epoch: 7 | Train Acc: 0.669355 | Train Loss: 0.731990\n",
            "Epoch: 7 | Val Acc: 0.579749   | Val Loss: 0.865854\n",
            "Epoch: 8 | Train Acc: 0.697133 | Train Loss: 0.680696\n",
            "Epoch: 8 | Val Acc: 0.517025   | Val Loss: 1.209351\n",
            "Epoch: 9 | Train Acc: 0.730511 | Train Loss: 0.625324\n",
            "Epoch: 9 | Val Acc: 0.500896   | Val Loss: 1.215424\n",
            "Epoch: 10 | Train Acc: 0.768369 | Train Loss: 0.527035\n",
            "Epoch: 10 | Val Acc: 0.399642   | Val Loss: 4.691640\n",
            "Epoch: 11 | Train Acc: 0.808468 | Train Loss: 0.453053\n",
            "Epoch: 11 | Val Acc: 0.386201   | Val Loss: 4.888617\n",
            "Epoch: 12 | Train Acc: 0.872760 | Train Loss: 0.322623\n",
            "Epoch: 12 | Val Acc: 0.433692   | Val Loss: 4.224600\n",
            "Epoch: 13 | Train Acc: 0.912858 | Train Loss: 0.224096\n",
            "Epoch: 13 | Val Acc: 0.491039   | Val Loss: 2.200973\n"
          ]
        }
      ]
    },
    {
      "cell_type": "code",
      "source": [
        "if __name__ == \"__main__\":\n",
        "    torch.save(model, \"resnet18\")"
      ],
      "metadata": {
        "id": "JkE0SOY3JxpU"
      },
      "execution_count": null,
      "outputs": []
    },
    {
      "cell_type": "code",
      "source": [
        "if __name__ == \"__main__\":\n",
        "    model = torch.load(\"resnet18\")"
      ],
      "metadata": {
        "id": "L9LO8nisJzy8"
      },
      "execution_count": null,
      "outputs": []
    },
    {
      "cell_type": "markdown",
      "source": [
        "Let's see if the model learn something"
      ],
      "metadata": {
        "id": "CBEIn2-pJ2Cz"
      }
    },
    {
      "cell_type": "code",
      "source": [],
      "metadata": {
        "id": "QqC_niU2J60I"
      },
      "execution_count": null,
      "outputs": []
    },
    {
      "cell_type": "markdown",
      "source": [
        "We can finaly look how the model extract this information by looking at the learned filter"
      ],
      "metadata": {
        "id": "ryP-HL08J8pC"
      }
    },
    {
      "cell_type": "markdown",
      "source": [
        "First layer"
      ],
      "metadata": {
        "id": "DZAgV1PjKaJb"
      }
    },
    {
      "cell_type": "code",
      "source": [
        "def print_filter(filters, n_filter_to_display=6):\n",
        "    # Normalize \n",
        "    f_min, f_max = filters.max(), filters.min()\n",
        "    filters = (filters - f_min) / (f_max - f_min)\n",
        "\n",
        "    i_idx = 1\n",
        "    for f_idx in range(n_filter_to_display):\n",
        "        filter = filters[f_idx, :, :, :]\n",
        "        for p_idx in range(3):\n",
        "            ax = plt.subplot(n_filter_to_display, 3, i_idx)\n",
        "            ax.set_xticks([])\n",
        "            ax.set_yticks([])\n",
        "            # Plot\n",
        "            plt.imshow(filter[p_idx,:,:], cmap='gray')\n",
        "            i_idx += 1\n",
        "    plt.show()\n",
        "    \n",
        "if __name__ == \"__main__\":\n",
        "    print(\"First layer filters\")\n",
        "    first_filters = model.get_first_conv_layer_filters()\n",
        "    print_filter(first_filters)"
      ],
      "metadata": {
        "colab": {
          "base_uri": "https://localhost:8080/",
          "height": 269
        },
        "id": "mJ3Xegc2KfN0",
        "outputId": "548e59d7-e609-4df9-9456-c36f2a280b71"
      },
      "execution_count": null,
      "outputs": [
        {
          "output_type": "stream",
          "name": "stdout",
          "text": [
            "First layer filters\n"
          ]
        },
        {
          "output_type": "display_data",
          "data": {
            "text/plain": [
              "<Figure size 432x288 with 18 Axes>"
            ],
            "image/png": "[encoded data removed]"
          },
          "metadata": {}
        }
      ]
    },
    {
      "cell_type": "code",
      "source": [
        "if __name__ == \"__main__\":\n",
        "    print(\"Last layer filters\")\n",
        "    last_filters = model.get_last_conv_layer_filters()\n",
        "    print_filter(last_filters)"
      ],
      "metadata": {
        "colab": {
          "base_uri": "https://localhost:8080/",
          "height": 269
        },
        "id": "RYjeVJRkKg1D",
        "outputId": "20800a17-ec17-44af-c733-6bd4e6f8c704"
      },
      "execution_count": null,
      "outputs": [
        {
          "output_type": "stream",
          "name": "stdout",
          "text": [
            "Last layer filters\n"
          ]
        },
        {
          "output_type": "display_data",
          "data": {
            "text/plain": [
              "<Figure size 432x288 with 18 Axes>"
            ],
            "image/png": "[encoded data removed]"
          },
          "metadata": {}
        }
      ]
    },
    {
      "cell_type": "markdown",
      "source": [
        "Let see what the graph look like with those filter"
      ],
      "metadata": {
        "id": "WHEW5UQdKhw_"
      }
    },
    {
      "cell_type": "code",
      "source": [
        "if __name__ == \"__main__\":\n",
        "\n",
        "    # Fin output size\n",
        "    img, label = train_technical_analysis_dataset.__getitem__(0)\n",
        "    # vis_image = img.permute(1, 2, 0)\n",
        "    vis_image = img\n",
        "    channel, dim_x_img, dim_y_img = vis_image.shape\n",
        "    dim_out = (dim_x_img-3)//1 + 1\n",
        "\n",
        "    output = np.zeros((64, dim_out, dim_out))\n",
        "\n",
        "    for filter_idx in range(first_filters.shape[0]):\n",
        "        filter = first_filters[filter_idx]\n",
        "\n",
        "        for channel_i in range(filter.shape[0]):\n",
        "            # Apply kernel\n",
        "            kernel = filter[channel_i]\n",
        "            img = vis_image[channel_i].numpy()\n",
        "            for i in range(0, dim_out):\n",
        "                for j in range(0, dim_out):\n",
        "                    # Select part of the img\n",
        "                    img_patch = img[i:i+3, j:j+3]\n",
        "                    # Apply kernel\n",
        "                    kernel_output = np.multiply(img_patch, kernel)\n",
        "                    kernel_output = np.sum(kernel_output)\n",
        "                    # Save output\n",
        "                    output[filter_idx, i, j] = kernel_output\n",
        "\n",
        "    from matplotlib.pyplot import figure\n",
        "    figure(figsize=(10,10))\n",
        "\n",
        "    ax = [plt.subplot(8,8,i+1) for i in range(64)]\n",
        "\n",
        "    for i, a in enumerate(ax):\n",
        "        a.set_xticks([])\n",
        "        a.set_yticks([])\n",
        "\n",
        "        a.imshow(output[i,:,:], cmap='gray')\n",
        "\n",
        "    plt.subplots_adjust(wspace=0., hspace=0.1)\n"
      ],
      "metadata": {
        "id": "KsR40u58KWYh"
      },
      "execution_count": null,
      "outputs": []
    },
    {
      "cell_type": "markdown",
      "source": [
        "Last layer"
      ],
      "metadata": {
        "id": "9fQXFdM0KYvr"
      }
    },
    {
      "cell_type": "code",
      "source": [
        "from torchvision.models.feature_extraction import create_feature_extractor\n",
        "\n",
        "if __name__ == \"__main__\":\n",
        "\n",
        "    model_extract_last_features = create_feature_extractor(model, {\"layer4\": \"layer4\"})\n",
        "    out = model_extract_last_features(vis_image.to(device))\n",
        "    out['layer4'].shape\n",
        "\n",
        "    figure(figsize=(10,10))\n",
        "\n",
        "    ax = [plt.subplot(8,8,i+1) for i in range(64)]\n",
        "\n",
        "    for i, a in enumerate(ax):\n",
        "        a.set_xticks([])\n",
        "        a.set_yticks([])\n",
        "\n",
        "        image = out['layer4'].cpu().detach().numpy()[0, i,:,:]\n",
        "        a.imshow(image, cmap='gray')\n",
        "\n",
        "    plt.subplots_adjust(wspace=0., hspace=0.1)"
      ],
      "metadata": {
        "id": "Ny6RkagGKYR-"
      },
      "execution_count": null,
      "outputs": []
    },
    {
      "cell_type": "markdown",
      "source": [
        "### ViT"
      ],
      "metadata": {
        "id": "Alc2VeOhlRz-"
      }
    },
    {
      "cell_type": "code",
      "source": [],
      "metadata": {
        "id": "xu9sqc08lTji"
      },
      "execution_count": null,
      "outputs": []
    },
    {
      "cell_type": "markdown",
      "source": [
        "## Let's trade some stock and loose money, but in style hehe"
      ],
      "metadata": {
        "id": "HGfi9001Krot"
      }
    },
    {
      "cell_type": "code",
      "source": [
        " "
      ],
      "metadata": {
        "id": "zK2F0__TKyZ0"
      },
      "execution_count": null,
      "outputs": []
    }
  ]
}